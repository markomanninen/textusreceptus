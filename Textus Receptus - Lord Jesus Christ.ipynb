{
 "metadata": {
  "name": "",
  "signature": "sha256:7fb294f1bdd690f1d84f580965cbe973f60d498f3ec12fdb3a0c47c4524baa71"
 },
 "nbformat": 3,
 "nbformat_minor": 0,
 "worksheets": [
  {
   "cells": [
    {
     "cell_type": "markdown",
     "metadata": {},
     "source": [
      "# Textus Receptus - Lord Jesus Christ\n",
      "\n",
      "Searching different versions of the phrase containing \u03ba\u03c5\u03c1\u03b9\u03bf\u03c2 (Lord, title) \u03b9\u03b7\u03c3\u03bf\u03c5\u03c2 (Jesus, name) and \u03c7\u03c1\u03b9\u03c3\u03c4\u03bf\u03c2 (Christ, title) words."
     ]
    },
    {
     "cell_type": "code",
     "collapsed": false,
     "input": [
      "import textusreceptus as tr\n",
      "from isopsephy import isopsephy, to_greek, char_table\n",
      "# init vocabulary variable\n",
      "voc = tr.textus_vocabulary"
     ],
     "language": "python",
     "metadata": {},
     "outputs": [
      {
       "output_type": "stream",
       "stream": "stdout",
       "text": [
        "Retrieving data from local csv copy...\n"
       ]
      }
     ],
     "prompt_number": 1
    },
    {
     "cell_type": "markdown",
     "metadata": {},
     "source": [
      "## 1. find occurences of Lord by lemma G2962"
     ]
    },
    {
     "cell_type": "code",
     "collapsed": false,
     "input": [
      "#voc.T[voc.T[0] == 'G2962']\n",
      "voc.T[voc.T[3].str.contains('^kurie|^kurio|^kuriw')]"
     ],
     "language": "python",
     "metadata": {},
     "outputs": [
      {
       "html": [
        "<div style=\"max-height:1000px;max-width:1500px;overflow:auto;\">\n",
        "<table border=\"1\" class=\"dataframe\">\n",
        "  <thead>\n",
        "    <tr style=\"text-align: right;\">\n",
        "      <th></th>\n",
        "      <th>0</th>\n",
        "      <th>1</th>\n",
        "      <th>2</th>\n",
        "      <th>3</th>\n",
        "    </tr>\n",
        "  </thead>\n",
        "  <tbody>\n",
        "    <tr>\n",
        "      <th>\u03ba\u03c5\u03c1\u03b9\u03b5</th>\n",
        "      <td> G2962</td>\n",
        "      <td>     N-VSM</td>\n",
        "      <td>  535</td>\n",
        "      <td>       kurie</td>\n",
        "    </tr>\n",
        "    <tr>\n",
        "      <th>\u03ba\u03c5\u03c1\u03b9\u03b5\u03c5\u03b5\u03b9</th>\n",
        "      <td> G2961</td>\n",
        "      <td>  V-PAI-3S</td>\n",
        "      <td>  950</td>\n",
        "      <td>    kurieuei</td>\n",
        "    </tr>\n",
        "    <tr>\n",
        "      <th>\u03ba\u03c5\u03c1\u03b9\u03b5\u03c5\u03bf\u03bc\u03b5\u03bd</th>\n",
        "      <td> G2961</td>\n",
        "      <td>  V-PAI-1P</td>\n",
        "      <td> 1100</td>\n",
        "      <td>  kurieuomen</td>\n",
        "    </tr>\n",
        "    <tr>\n",
        "      <th>\u03ba\u03c5\u03c1\u03b9\u03b5\u03c5\u03bf\u03bd\u03c4\u03c9\u03bd</th>\n",
        "      <td> G2961</td>\n",
        "      <td> V-PAP-GPM</td>\n",
        "      <td> 2205</td>\n",
        "      <td> kurieuontwn</td>\n",
        "    </tr>\n",
        "    <tr>\n",
        "      <th>\u03ba\u03c5\u03c1\u03b9\u03b5\u03c5\u03bf\u03c5\u03c3\u03b9\u03bd</th>\n",
        "      <td> G2961</td>\n",
        "      <td>  V-PAI-3P</td>\n",
        "      <td> 1665</td>\n",
        "      <td> kurieuousin</td>\n",
        "    </tr>\n",
        "    <tr>\n",
        "      <th>\u03ba\u03c5\u03c1\u03b9\u03b5\u03c5\u03c3\u03b5\u03b9</th>\n",
        "      <td> G2961</td>\n",
        "      <td>  V-FAI-3S</td>\n",
        "      <td> 1150</td>\n",
        "      <td>   kurieusei</td>\n",
        "    </tr>\n",
        "    <tr>\n",
        "      <th>\u03ba\u03c5\u03c1\u03b9\u03b5\u03c5\u03c3\u03b7</th>\n",
        "      <td> G2961</td>\n",
        "      <td>  V-AAS-3S</td>\n",
        "      <td> 1143</td>\n",
        "      <td>    kurieush</td>\n",
        "    </tr>\n",
        "    <tr>\n",
        "      <th>\u03ba\u03c5\u03c1\u03b9\u03bf\u03b9</th>\n",
        "      <td> G2962</td>\n",
        "      <td>     N-NPM</td>\n",
        "      <td>  610</td>\n",
        "      <td>      kurioi</td>\n",
        "    </tr>\n",
        "    <tr>\n",
        "      <th>\u03ba\u03c5\u03c1\u03b9\u03bf\u03b9\u03c2</th>\n",
        "      <td> G2962</td>\n",
        "      <td>     N-DPM</td>\n",
        "      <td>  810</td>\n",
        "      <td>     kuriois</td>\n",
        "    </tr>\n",
        "    <tr>\n",
        "      <th>\u03ba\u03c5\u03c1\u03b9\u03bf\u03bd</th>\n",
        "      <td> G2962</td>\n",
        "      <td>     N-ASM</td>\n",
        "      <td>  650</td>\n",
        "      <td>      kurion</td>\n",
        "    </tr>\n",
        "    <tr>\n",
        "      <th>\u03ba\u03c5\u03c1\u03b9\u03bf\u03c2</th>\n",
        "      <td> G2962</td>\n",
        "      <td>     N-NSM</td>\n",
        "      <td>  800</td>\n",
        "      <td>      kurios</td>\n",
        "    </tr>\n",
        "    <tr>\n",
        "      <th>\u03ba\u03c5\u03c1\u03b9\u03bf\u03c4\u03b7\u03c4\u03b1</th>\n",
        "      <td> G2963</td>\n",
        "      <td>     N-ASF</td>\n",
        "      <td> 1209</td>\n",
        "      <td>   kuriothta</td>\n",
        "    </tr>\n",
        "    <tr>\n",
        "      <th>\u03ba\u03c5\u03c1\u03b9\u03bf\u03c4\u03b7\u03c4\u03b5\u03c2</th>\n",
        "      <td> G2963</td>\n",
        "      <td>     N-NPF</td>\n",
        "      <td> 1413</td>\n",
        "      <td>  kuriothtes</td>\n",
        "    </tr>\n",
        "    <tr>\n",
        "      <th>\u03ba\u03c5\u03c1\u03b9\u03bf\u03c4\u03b7\u03c4\u03bf\u03c2</th>\n",
        "      <td> G2963</td>\n",
        "      <td>     N-GSF</td>\n",
        "      <td> 1478</td>\n",
        "      <td>  kuriothtos</td>\n",
        "    </tr>\n",
        "    <tr>\n",
        "      <th>\u03ba\u03c5\u03c1\u03b9\u03bf\u03c5</th>\n",
        "      <td> G2962</td>\n",
        "      <td>     N-GSM</td>\n",
        "      <td> 1000</td>\n",
        "      <td>      kuriou</td>\n",
        "    </tr>\n",
        "    <tr>\n",
        "      <th>\u03ba\u03c5\u03c1\u03b9\u03c9</th>\n",
        "      <td> G2962</td>\n",
        "      <td>     N-DSM</td>\n",
        "      <td> 1330</td>\n",
        "      <td>       kuriw</td>\n",
        "    </tr>\n",
        "    <tr>\n",
        "      <th>\u03ba\u03c5\u03c1\u03b9\u03c9\u03bd</th>\n",
        "      <td> G2962</td>\n",
        "      <td>     N-GPM</td>\n",
        "      <td> 1380</td>\n",
        "      <td>      kuriwn</td>\n",
        "    </tr>\n",
        "  </tbody>\n",
        "</table>\n",
        "<p>17 rows \u00d7 4 columns</p>\n",
        "</div>"
       ],
       "metadata": {},
       "output_type": "pyout",
       "prompt_number": 2,
       "text": [
        "                 0          1     2            3\n",
        "\u03ba\u03c5\u03c1\u03b9\u03b5        G2962      N-VSM   535        kurie\n",
        "\u03ba\u03c5\u03c1\u03b9\u03b5\u03c5\u03b5\u03b9     G2961   V-PAI-3S   950     kurieuei\n",
        "\u03ba\u03c5\u03c1\u03b9\u03b5\u03c5\u03bf\u03bc\u03b5\u03bd   G2961   V-PAI-1P  1100   kurieuomen\n",
        "\u03ba\u03c5\u03c1\u03b9\u03b5\u03c5\u03bf\u03bd\u03c4\u03c9\u03bd  G2961  V-PAP-GPM  2205  kurieuontwn\n",
        "\u03ba\u03c5\u03c1\u03b9\u03b5\u03c5\u03bf\u03c5\u03c3\u03b9\u03bd  G2961   V-PAI-3P  1665  kurieuousin\n",
        "\u03ba\u03c5\u03c1\u03b9\u03b5\u03c5\u03c3\u03b5\u03b9    G2961   V-FAI-3S  1150    kurieusei\n",
        "\u03ba\u03c5\u03c1\u03b9\u03b5\u03c5\u03c3\u03b7     G2961   V-AAS-3S  1143     kurieush\n",
        "\u03ba\u03c5\u03c1\u03b9\u03bf\u03b9       G2962      N-NPM   610       kurioi\n",
        "\u03ba\u03c5\u03c1\u03b9\u03bf\u03b9\u03c2      G2962      N-DPM   810      kuriois\n",
        "\u03ba\u03c5\u03c1\u03b9\u03bf\u03bd       G2962      N-ASM   650       kurion\n",
        "\u03ba\u03c5\u03c1\u03b9\u03bf\u03c2       G2962      N-NSM   800       kurios\n",
        "\u03ba\u03c5\u03c1\u03b9\u03bf\u03c4\u03b7\u03c4\u03b1    G2963      N-ASF  1209    kuriothta\n",
        "\u03ba\u03c5\u03c1\u03b9\u03bf\u03c4\u03b7\u03c4\u03b5\u03c2   G2963      N-NPF  1413   kuriothtes\n",
        "\u03ba\u03c5\u03c1\u03b9\u03bf\u03c4\u03b7\u03c4\u03bf\u03c2   G2963      N-GSF  1478   kuriothtos\n",
        "\u03ba\u03c5\u03c1\u03b9\u03bf\u03c5       G2962      N-GSM  1000       kuriou\n",
        "\u03ba\u03c5\u03c1\u03b9\u03c9        G2962      N-DSM  1330        kuriw\n",
        "\u03ba\u03c5\u03c1\u03b9\u03c9\u03bd       G2962      N-GPM  1380       kuriwn\n",
        "\n",
        "[17 rows x 4 columns]"
       ]
      }
     ],
     "prompt_number": 2
    },
    {
     "cell_type": "markdown",
     "metadata": {},
     "source": [
      "## 2. find occurences of the word Jesus by lemma G2424"
     ]
    },
    {
     "cell_type": "code",
     "collapsed": false,
     "input": [
      "#voc.T[voc.T[0] == 'G2424']\n",
      "voc.T[voc.T[3].str.contains('^ihsou')]"
     ],
     "language": "python",
     "metadata": {},
     "outputs": [
      {
       "html": [
        "<div style=\"max-height:1000px;max-width:1500px;overflow:auto;\">\n",
        "<table border=\"1\" class=\"dataframe\">\n",
        "  <thead>\n",
        "    <tr style=\"text-align: right;\">\n",
        "      <th></th>\n",
        "      <th>0</th>\n",
        "      <th>1</th>\n",
        "      <th>2</th>\n",
        "      <th>3</th>\n",
        "    </tr>\n",
        "  </thead>\n",
        "  <tbody>\n",
        "    <tr>\n",
        "      <th>\u03b9\u03b7\u03c3\u03bf\u03c5</th>\n",
        "      <td> G2424</td>\n",
        "      <td> N-GSM</td>\n",
        "      <td> 688</td>\n",
        "      <td>  ihsou</td>\n",
        "    </tr>\n",
        "    <tr>\n",
        "      <th>\u03b9\u03b7\u03c3\u03bf\u03c5\u03bd</th>\n",
        "      <td> G2424</td>\n",
        "      <td> N-ASM</td>\n",
        "      <td> 738</td>\n",
        "      <td> ihsoun</td>\n",
        "    </tr>\n",
        "    <tr>\n",
        "      <th>\u03b9\u03b7\u03c3\u03bf\u03c5\u03c2</th>\n",
        "      <td> G2424</td>\n",
        "      <td> N-NSM</td>\n",
        "      <td> 888</td>\n",
        "      <td> ihsous</td>\n",
        "    </tr>\n",
        "  </tbody>\n",
        "</table>\n",
        "<p>3 rows \u00d7 4 columns</p>\n",
        "</div>"
       ],
       "metadata": {},
       "output_type": "pyout",
       "prompt_number": 3,
       "text": [
        "            0      1    2       3\n",
        "\u03b9\u03b7\u03c3\u03bf\u03c5   G2424  N-GSM  688   ihsou\n",
        "\u03b9\u03b7\u03c3\u03bf\u03c5\u03bd  G2424  N-ASM  738  ihsoun\n",
        "\u03b9\u03b7\u03c3\u03bf\u03c5\u03c2  G2424  N-NSM  888  ihsous\n",
        "\n",
        "[3 rows x 4 columns]"
       ]
      }
     ],
     "prompt_number": 3
    },
    {
     "cell_type": "markdown",
     "metadata": {},
     "source": [
      "## 3. find occurences of the word Christ by lemma G5547"
     ]
    },
    {
     "cell_type": "code",
     "collapsed": false,
     "input": [
      "#voc.T[voc.T[0] == 'G5547']\n",
      "voc.T[voc.T[3].str.contains('^xriste|^xristo|^xristw')]"
     ],
     "language": "python",
     "metadata": {},
     "outputs": [
      {
       "html": [
        "<div style=\"max-height:1000px;max-width:1500px;overflow:auto;\">\n",
        "<table border=\"1\" class=\"dataframe\">\n",
        "  <thead>\n",
        "    <tr style=\"text-align: right;\">\n",
        "      <th></th>\n",
        "      <th>0</th>\n",
        "      <th>1</th>\n",
        "      <th>2</th>\n",
        "      <th>3</th>\n",
        "    </tr>\n",
        "  </thead>\n",
        "  <tbody>\n",
        "    <tr>\n",
        "      <th>\u03c7\u03c1\u03b9\u03c3\u03c4\u03b5</th>\n",
        "      <td> G5547</td>\n",
        "      <td> N-VSM</td>\n",
        "      <td> 1215</td>\n",
        "      <td>  xriste</td>\n",
        "    </tr>\n",
        "    <tr>\n",
        "      <th>\u03c7\u03c1\u03b9\u03c3\u03c4\u03bf\u03bd</th>\n",
        "      <td> G5547</td>\n",
        "      <td> N-ASM</td>\n",
        "      <td> 1330</td>\n",
        "      <td> xriston</td>\n",
        "    </tr>\n",
        "    <tr>\n",
        "      <th>\u03c7\u03c1\u03b9\u03c3\u03c4\u03bf\u03c2</th>\n",
        "      <td> G5547</td>\n",
        "      <td> N-NSM</td>\n",
        "      <td> 1480</td>\n",
        "      <td> xristos</td>\n",
        "    </tr>\n",
        "    <tr>\n",
        "      <th>\u03c7\u03c1\u03b9\u03c3\u03c4\u03bf\u03c5</th>\n",
        "      <td> G5547</td>\n",
        "      <td> N-GSM</td>\n",
        "      <td> 1680</td>\n",
        "      <td> xristou</td>\n",
        "    </tr>\n",
        "    <tr>\n",
        "      <th>\u03c7\u03c1\u03b9\u03c3\u03c4\u03c9</th>\n",
        "      <td> G5547</td>\n",
        "      <td> N-DSM</td>\n",
        "      <td> 2010</td>\n",
        "      <td>  xristw</td>\n",
        "    </tr>\n",
        "  </tbody>\n",
        "</table>\n",
        "<p>5 rows \u00d7 4 columns</p>\n",
        "</div>"
       ],
       "metadata": {},
       "output_type": "pyout",
       "prompt_number": 4,
       "text": [
        "             0      1     2        3\n",
        "\u03c7\u03c1\u03b9\u03c3\u03c4\u03b5   G5547  N-VSM  1215   xriste\n",
        "\u03c7\u03c1\u03b9\u03c3\u03c4\u03bf\u03bd  G5547  N-ASM  1330  xriston\n",
        "\u03c7\u03c1\u03b9\u03c3\u03c4\u03bf\u03c2  G5547  N-NSM  1480  xristos\n",
        "\u03c7\u03c1\u03b9\u03c3\u03c4\u03bf\u03c5  G5547  N-GSM  1680  xristou\n",
        "\u03c7\u03c1\u03b9\u03c3\u03c4\u03c9   G5547  N-DSM  2010   xristw\n",
        "\n",
        "[5 rows x 4 columns]"
       ]
      }
     ],
     "prompt_number": 4
    },
    {
     "cell_type": "markdown",
     "metadata": {},
     "source": [
      "## Combine words and find verses from Textus Receptus"
     ]
    },
    {
     "cell_type": "code",
     "collapsed": false,
     "input": [
      "from remarkuple import helper as h, concat\n",
      "from IPython.display import HTML\n",
      "\n",
      "q = \".*\u03c7\u03c1\u03b9\u03c3\u03c4.*\u03ba\u03c5\u03c1\u03b9.*\u03b9\u03b7\u03c3\u03bf\u03c5|\u03b9\u03b7\u03c3\u03bf\u03c5.*\u03ba\u03c5\u03c1\u03b9.*\u03c7\u03c1\u03b9\u03c3\u03c4|\u03ba\u03c5\u03c1\u03b9.*\u03b9\u03b7\u03c3\u03bf\u03c5.*\u03c7\u03c1\u03b9\u03c3\u03c4|\u03ba\u03c5\u03c1\u03b9.*\u03c7\u03c1\u03b9\u03c3\u03c4.*\u03b9\u03b7\u03c3\u03bf\u03c5|\u03c7\u03c1\u03b9\u03c3\u03c4.*\u03b9\u03b7\u03c3\u03bf\u03c5.*\u03ba\u03c5\u03c1\u03b9|\u03b9\u03b7\u03c3\u03bf\u03c5.*\u03c7\u03c1\u03b9\u03c3\u03c4.*\u03ba\u03c5\u03c1\u03b9\"\n",
      "rows = tr.dataframe[tr.dataframe['text'].str.contains(q)]\n",
      "\n",
      "h2 = h.h2(\"Total rows: %s\" % len(rows))\n",
      "\n",
      "ul = h.ul()\n",
      "for idx, row in rows.iterrows():\n",
      "    words = row.text.split(\" \")\n",
      "    reference = h.span(h.b(\"%s %s:%s\" % (row['orig_book_index'], row.orig_chapter, row.orig_verse)))\n",
      "    verse = ' '.join(words)\n",
      "    verse = verse.replace('\u03ba\u03c5\u03c1\u03b9', '<b style=\"color: brown\">\u03ba\u03c5\u03c1\u03b9'.decode('utf-8').upper().encode('utf-8')+'</b>')\n",
      "    verse = verse.replace('\u03b9\u03b7\u03c3\u03bf\u03c5', '<b style=\"color: brown\">\u03b9\u03b7\u03c3\u03bf\u03c5'.decode('utf-8').upper().encode('utf-8')+'</b>')\n",
      "    verse = verse.replace('\u03c7\u03c1\u03b9\u03c3\u03c4', '<b style=\"color: brown\">\u03c7\u03c1\u03b9\u03c3\u03c4'.decode('utf-8').upper().encode('utf-8')+'</b>')\n",
      "    ul += h.li(reference, \" - \", h.span(verse))\n",
      "\n",
      "HTML(concat(h2, ul))"
     ],
     "language": "python",
     "metadata": {},
     "outputs": [
      {
       "html": [
        "<h2>Total rows: 106</h2><ul><li><span><b>Acts of the Apostles 2:36</b></span> - <span>\u03b1\u03c3\u03c6\u03b1\u03bb\u03c9\u03c2 \u03bf\u03c5\u03bd \u03b3\u03b9\u03bd\u03c9\u03c3\u03ba\u03b5\u03c4\u03c9 \u03c0\u03b1\u03c2 \u03bf\u03b9\u03ba\u03bf\u03c2 \u03b9\u03c3\u03c1\u03b1\u03b7\u03bb \u03bf\u03c4\u03b9 \u03ba\u03b1\u03b9 <B STYLE=\"COLOR: BROWN\">\u039a\u03a5\u03a1\u0399</b>\u03bf\u03bd \u03ba\u03b1\u03b9 <B STYLE=\"COLOR: BROWN\">\u03a7\u03a1\u0399\u03a3\u03a4</b>\u03bf\u03bd \u03b1\u03c5\u03c4\u03bf\u03bd \u03bf \u03b8\u03b5\u03bf\u03c2 \u03b5\u03c0\u03bf\u03b9\u03b7\u03c3\u03b5\u03bd \u03c4\u03bf\u03c5\u03c4\u03bf\u03bd \u03c4\u03bf\u03bd <B STYLE=\"COLOR: BROWN\">\u0399\u0397\u03a3\u039f\u03a5</b>\u03bd \u03bf\u03bd \u03c5\u03bc\u03b5\u03b9\u03c2 \u03b5\u03c3\u03c4\u03b1\u03c5\u03c1\u03c9\u03c3\u03b1\u03c4\u03b5</span></li><li><span><b>Acts of the Apostles 10:36</b></span> - <span>\u03c4\u03bf\u03bd \u03bb\u03bf\u03b3\u03bf\u03bd \u03bf\u03bd \u03b1\u03c0\u03b5\u03c3\u03c4\u03b5\u03b9\u03bb\u03b5\u03bd \u03c4\u03bf\u03b9\u03c2 \u03c5\u03b9\u03bf\u03b9\u03c2 \u03b9\u03c3\u03c1\u03b1\u03b7\u03bb \u03b5\u03c5\u03b1\u03b3\u03b3\u03b5\u03bb\u03b9\u03b6\u03bf\u03bc\u03b5\u03bd\u03bf\u03c2 \u03b5\u03b9\u03c1\u03b7\u03bd\u03b7\u03bd \u03b4\u03b9\u03b1 <B STYLE=\"COLOR: BROWN\">\u0399\u0397\u03a3\u039f\u03a5</b> <B STYLE=\"COLOR: BROWN\">\u03a7\u03a1\u0399\u03a3\u03a4</b>\u03bf\u03c5 \u03bf\u03c5\u03c4\u03bf\u03c2 \u03b5\u03c3\u03c4\u03b9\u03bd \u03c0\u03b1\u03bd\u03c4\u03c9\u03bd <B STYLE=\"COLOR: BROWN\">\u039a\u03a5\u03a1\u0399</b>\u03bf\u03c2</span></li><li><span><b>Acts of the Apostles 11:17</b></span> - <span>\u03b5\u03b9 \u03bf\u03c5\u03bd \u03c4\u03b7\u03bd \u03b9\u03c3\u03b7\u03bd \u03b4\u03c9\u03c1\u03b5\u03b1\u03bd \u03b5\u03b4\u03c9\u03ba\u03b5\u03bd \u03b1\u03c5\u03c4\u03bf\u03b9\u03c2 \u03bf \u03b8\u03b5\u03bf\u03c2 \u03c9\u03c2 \u03ba\u03b1\u03b9 \u03b7\u03bc\u03b9\u03bd \u03c0\u03b9\u03c3\u03c4\u03b5\u03c5\u03c3\u03b1\u03c3\u03b9\u03bd \u03b5\u03c0\u03b9 \u03c4\u03bf\u03bd <B STYLE=\"COLOR: BROWN\">\u039a\u03a5\u03a1\u0399</b>\u03bf\u03bd <B STYLE=\"COLOR: BROWN\">\u0399\u0397\u03a3\u039f\u03a5</b>\u03bd <B STYLE=\"COLOR: BROWN\">\u03a7\u03a1\u0399\u03a3\u03a4</b>\u03bf\u03bd \u03b5\u03b3\u03c9 \u03b4\u03b5 \u03c4\u03b9\u03c2 \u03b7\u03bc\u03b7\u03bd \u03b4\u03c5\u03bd\u03b1\u03c4\u03bf\u03c2 \u03ba\u03c9\u03bb\u03c5\u03c3\u03b1\u03b9 \u03c4\u03bf\u03bd \u03b8\u03b5\u03bf\u03bd</span></li><li><span><b>Acts of the Apostles 15:11</b></span> - <span>\u03b1\u03bb\u03bb\u03b1 \u03b4\u03b9\u03b1 \u03c4\u03b7\u03c2 \u03c7\u03b1\u03c1\u03b9\u03c4\u03bf\u03c2 <B STYLE=\"COLOR: BROWN\">\u039a\u03a5\u03a1\u0399</b>\u03bf\u03c5 <B STYLE=\"COLOR: BROWN\">\u0399\u0397\u03a3\u039f\u03a5</b> <B STYLE=\"COLOR: BROWN\">\u03a7\u03a1\u0399\u03a3\u03a4</b>\u03bf\u03c5 \u03c0\u03b9\u03c3\u03c4\u03b5\u03c5\u03bf\u03bc\u03b5\u03bd \u03c3\u03c9\u03b8\u03b7\u03bd\u03b1\u03b9 \u03ba\u03b1\u03b8 \u03bf\u03bd \u03c4\u03c1\u03bf\u03c0\u03bf\u03bd \u03ba\u03b1\u03ba\u03b5\u03b9\u03bd\u03bf\u03b9</span></li><li><span><b>Acts of the Apostles 15:26</b></span> - <span>\u03b1\u03bd\u03b8\u03c1\u03c9\u03c0\u03bf\u03b9\u03c2 \u03c0\u03b1\u03c1\u03b1\u03b4\u03b5\u03b4\u03c9\u03ba\u03bf\u03c3\u03b9\u03bd \u03c4\u03b1\u03c2 \u03c8\u03c5\u03c7\u03b1\u03c2 \u03b1\u03c5\u03c4\u03c9\u03bd \u03c5\u03c0\u03b5\u03c1 \u03c4\u03bf\u03c5 \u03bf\u03bd\u03bf\u03bc\u03b1\u03c4\u03bf\u03c2 \u03c4\u03bf\u03c5 <B STYLE=\"COLOR: BROWN\">\u039a\u03a5\u03a1\u0399</b>\u03bf\u03c5 \u03b7\u03bc\u03c9\u03bd <B STYLE=\"COLOR: BROWN\">\u0399\u0397\u03a3\u039f\u03a5</b> <B STYLE=\"COLOR: BROWN\">\u03a7\u03a1\u0399\u03a3\u03a4</b>\u03bf\u03c5</span></li><li><span><b>Acts of the Apostles 16:31</b></span> - <span>\u03bf\u03b9 \u03b4\u03b5 \u03b5\u03b9\u03c0\u03bf\u03bd \u03c0\u03b9\u03c3\u03c4\u03b5\u03c5\u03c3\u03bf\u03bd \u03b5\u03c0\u03b9 \u03c4\u03bf\u03bd <B STYLE=\"COLOR: BROWN\">\u039a\u03a5\u03a1\u0399</b>\u03bf\u03bd <B STYLE=\"COLOR: BROWN\">\u0399\u0397\u03a3\u039f\u03a5</b>\u03bd <B STYLE=\"COLOR: BROWN\">\u03a7\u03a1\u0399\u03a3\u03a4</b>\u03bf\u03bd \u03ba\u03b1\u03b9 \u03c3\u03c9\u03b8\u03b7\u03c3\u03b7 \u03c3\u03c5 \u03ba\u03b1\u03b9 \u03bf \u03bf\u03b9\u03ba\u03bf\u03c2 \u03c3\u03bf\u03c5</span></li><li><span><b>Acts of the Apostles 20:21</b></span> - <span>\u03b4\u03b9\u03b1\u03bc\u03b1\u03c1\u03c4\u03c5\u03c1\u03bf\u03bc\u03b5\u03bd\u03bf\u03c2 \u03b9\u03bf\u03c5\u03b4\u03b1\u03b9\u03bf\u03b9\u03c2 \u03c4\u03b5 \u03ba\u03b1\u03b9 \u03b5\u03bb\u03bb\u03b7\u03c3\u03b9\u03bd \u03c4\u03b7\u03bd \u03b5\u03b9\u03c2 \u03c4\u03bf\u03bd \u03b8\u03b5\u03bf\u03bd \u03bc\u03b5\u03c4\u03b1\u03bd\u03bf\u03b9\u03b1\u03bd \u03ba\u03b1\u03b9 \u03c0\u03b9\u03c3\u03c4\u03b9\u03bd \u03c4\u03b7\u03bd \u03b5\u03b9\u03c2 \u03c4\u03bf\u03bd <B STYLE=\"COLOR: BROWN\">\u039a\u03a5\u03a1\u0399</b>\u03bf\u03bd \u03b7\u03bc\u03c9\u03bd <B STYLE=\"COLOR: BROWN\">\u0399\u0397\u03a3\u039f\u03a5</b>\u03bd <B STYLE=\"COLOR: BROWN\">\u03a7\u03a1\u0399\u03a3\u03a4</b>\u03bf\u03bd</span></li><li><span><b>Acts of the Apostles 28:31</b></span> - <span>\u03ba\u03b7\u03c1\u03c5\u03c3\u03c3\u03c9\u03bd \u03c4\u03b7\u03bd \u03b2\u03b1\u03c3\u03b9\u03bb\u03b5\u03b9\u03b1\u03bd \u03c4\u03bf\u03c5 \u03b8\u03b5\u03bf\u03c5 \u03ba\u03b1\u03b9 \u03b4\u03b9\u03b4\u03b1\u03c3\u03ba\u03c9\u03bd \u03c4\u03b1 \u03c0\u03b5\u03c1\u03b9 \u03c4\u03bf\u03c5 <B STYLE=\"COLOR: BROWN\">\u039a\u03a5\u03a1\u0399</b>\u03bf\u03c5 <B STYLE=\"COLOR: BROWN\">\u0399\u0397\u03a3\u039f\u03a5</b> <B STYLE=\"COLOR: BROWN\">\u03a7\u03a1\u0399\u03a3\u03a4</b>\u03bf\u03c5 \u03bc\u03b5\u03c4\u03b1 \u03c0\u03b1\u03c3\u03b7\u03c2 \u03c0\u03b1\u03c1\u03c1\u03b7\u03c3\u03b9\u03b1\u03c2 \u03b1\u03ba\u03c9\u03bb\u03c5\u03c4\u03c9\u03c2</span></li><li><span><b>Romans 1:4</b></span> - <span>\u03c4\u03bf\u03c5 \u03bf\u03c1\u03b9\u03c3\u03b8\u03b5\u03bd\u03c4\u03bf\u03c2 \u03c5\u03b9\u03bf\u03c5 \u03b8\u03b5\u03bf\u03c5 \u03b5\u03bd \u03b4\u03c5\u03bd\u03b1\u03bc\u03b5\u03b9 \u03ba\u03b1\u03c4\u03b1 \u03c0\u03bd\u03b5\u03c5\u03bc\u03b1 \u03b1\u03b3\u03b9\u03c9\u03c3\u03c5\u03bd\u03b7\u03c2 \u03b5\u03be \u03b1\u03bd\u03b1\u03c3\u03c4\u03b1\u03c3\u03b5\u03c9\u03c2 \u03bd\u03b5\u03ba\u03c1\u03c9\u03bd <B STYLE=\"COLOR: BROWN\">\u0399\u0397\u03a3\u039f\u03a5</b> <B STYLE=\"COLOR: BROWN\">\u03a7\u03a1\u0399\u03a3\u03a4</b>\u03bf\u03c5 \u03c4\u03bf\u03c5 <B STYLE=\"COLOR: BROWN\">\u039a\u03a5\u03a1\u0399</b>\u03bf\u03c5 \u03b7\u03bc\u03c9\u03bd</span></li><li><span><b>Romans 1:7</b></span> - <span>\u03c0\u03b1\u03c3\u03b9\u03bd \u03c4\u03bf\u03b9\u03c2 \u03bf\u03c5\u03c3\u03b9\u03bd \u03b5\u03bd \u03c1\u03c9\u03bc\u03b7 \u03b1\u03b3\u03b1\u03c0\u03b7\u03c4\u03bf\u03b9\u03c2 \u03b8\u03b5\u03bf\u03c5 \u03ba\u03bb\u03b7\u03c4\u03bf\u03b9\u03c2 \u03b1\u03b3\u03b9\u03bf\u03b9\u03c2 \u03c7\u03b1\u03c1\u03b9\u03c2 \u03c5\u03bc\u03b9\u03bd \u03ba\u03b1\u03b9 \u03b5\u03b9\u03c1\u03b7\u03bd\u03b7 \u03b1\u03c0\u03bf \u03b8\u03b5\u03bf\u03c5 \u03c0\u03b1\u03c4\u03c1\u03bf\u03c2 \u03b7\u03bc\u03c9\u03bd \u03ba\u03b1\u03b9 <B STYLE=\"COLOR: BROWN\">\u039a\u03a5\u03a1\u0399</b>\u03bf\u03c5 <B STYLE=\"COLOR: BROWN\">\u0399\u0397\u03a3\u039f\u03a5</b> <B STYLE=\"COLOR: BROWN\">\u03a7\u03a1\u0399\u03a3\u03a4</b>\u03bf\u03c5</span></li><li><span><b>Romans 5:1</b></span> - <span>\u03b4\u03b9\u03ba\u03b1\u03b9\u03c9\u03b8\u03b5\u03bd\u03c4\u03b5\u03c2 \u03bf\u03c5\u03bd \u03b5\u03ba \u03c0\u03b9\u03c3\u03c4\u03b5\u03c9\u03c2 \u03b5\u03b9\u03c1\u03b7\u03bd\u03b7\u03bd \u03b5\u03c7\u03bf\u03bc\u03b5\u03bd \u03c0\u03c1\u03bf\u03c2 \u03c4\u03bf\u03bd \u03b8\u03b5\u03bf\u03bd \u03b4\u03b9\u03b1 \u03c4\u03bf\u03c5 <B STYLE=\"COLOR: BROWN\">\u039a\u03a5\u03a1\u0399</b>\u03bf\u03c5 \u03b7\u03bc\u03c9\u03bd <B STYLE=\"COLOR: BROWN\">\u0399\u0397\u03a3\u039f\u03a5</b> <B STYLE=\"COLOR: BROWN\">\u03a7\u03a1\u0399\u03a3\u03a4</b>\u03bf\u03c5</span></li><li><span><b>Romans 5:11</b></span> - <span>\u03bf\u03c5 \u03bc\u03bf\u03bd\u03bf\u03bd \u03b4\u03b5 \u03b1\u03bb\u03bb\u03b1 \u03ba\u03b1\u03b9 \u03ba\u03b1\u03c5\u03c7\u03c9\u03bc\u03b5\u03bd\u03bf\u03b9 \u03b5\u03bd \u03c4\u03c9 \u03b8\u03b5\u03c9 \u03b4\u03b9\u03b1 \u03c4\u03bf\u03c5 <B STYLE=\"COLOR: BROWN\">\u039a\u03a5\u03a1\u0399</b>\u03bf\u03c5 \u03b7\u03bc\u03c9\u03bd <B STYLE=\"COLOR: BROWN\">\u0399\u0397\u03a3\u039f\u03a5</b> <B STYLE=\"COLOR: BROWN\">\u03a7\u03a1\u0399\u03a3\u03a4</b>\u03bf\u03c5 \u03b4\u03b9 \u03bf\u03c5 \u03bd\u03c5\u03bd \u03c4\u03b7\u03bd \u03ba\u03b1\u03c4\u03b1\u03bb\u03bb\u03b1\u03b3\u03b7\u03bd \u03b5\u03bb\u03b1\u03b2\u03bf\u03bc\u03b5\u03bd</span></li><li><span><b>Romans 5:21</b></span> - <span>\u03b9\u03bd\u03b1 \u03c9\u03c3\u03c0\u03b5\u03c1 \u03b5\u03b2\u03b1\u03c3\u03b9\u03bb\u03b5\u03c5\u03c3\u03b5\u03bd \u03b7 \u03b1\u03bc\u03b1\u03c1\u03c4\u03b9\u03b1 \u03b5\u03bd \u03c4\u03c9 \u03b8\u03b1\u03bd\u03b1\u03c4\u03c9 \u03bf\u03c5\u03c4\u03c9\u03c2 \u03ba\u03b1\u03b9 \u03b7 \u03c7\u03b1\u03c1\u03b9\u03c2 \u03b2\u03b1\u03c3\u03b9\u03bb\u03b5\u03c5\u03c3\u03b7 \u03b4\u03b9\u03b1 \u03b4\u03b9\u03ba\u03b1\u03b9\u03bf\u03c3\u03c5\u03bd\u03b7\u03c2 \u03b5\u03b9\u03c2 \u03b6\u03c9\u03b7\u03bd \u03b1\u03b9\u03c9\u03bd\u03b9\u03bf\u03bd \u03b4\u03b9\u03b1 <B STYLE=\"COLOR: BROWN\">\u0399\u0397\u03a3\u039f\u03a5</b> <B STYLE=\"COLOR: BROWN\">\u03a7\u03a1\u0399\u03a3\u03a4</b>\u03bf\u03c5 \u03c4\u03bf\u03c5 <B STYLE=\"COLOR: BROWN\">\u039a\u03a5\u03a1\u0399</b>\u03bf\u03c5 \u03b7\u03bc\u03c9\u03bd</span></li><li><span><b>Romans 6:11</b></span> - <span>\u03bf\u03c5\u03c4\u03c9\u03c2 \u03ba\u03b1\u03b9 \u03c5\u03bc\u03b5\u03b9\u03c2 \u03bb\u03bf\u03b3\u03b9\u03b6\u03b5\u03c3\u03b8\u03b5 \u03b5\u03b1\u03c5\u03c4\u03bf\u03c5\u03c2 \u03bd\u03b5\u03ba\u03c1\u03bf\u03c5\u03c2 \u03bc\u03b5\u03bd \u03b5\u03b9\u03bd\u03b1\u03b9 \u03c4\u03b7 \u03b1\u03bc\u03b1\u03c1\u03c4\u03b9\u03b1 \u03b6\u03c9\u03bd\u03c4\u03b1\u03c2 \u03b4\u03b5 \u03c4\u03c9 \u03b8\u03b5\u03c9 \u03b5\u03bd <B STYLE=\"COLOR: BROWN\">\u03a7\u03a1\u0399\u03a3\u03a4</b>\u03c9 <B STYLE=\"COLOR: BROWN\">\u0399\u0397\u03a3\u039f\u03a5</b> \u03c4\u03c9 <B STYLE=\"COLOR: BROWN\">\u039a\u03a5\u03a1\u0399</b>\u03c9 \u03b7\u03bc\u03c9\u03bd</span></li><li><span><b>Romans 6:23</b></span> - <span>\u03c4\u03b1 \u03b3\u03b1\u03c1 \u03bf\u03c8\u03c9\u03bd\u03b9\u03b1 \u03c4\u03b7\u03c2 \u03b1\u03bc\u03b1\u03c1\u03c4\u03b9\u03b1\u03c2 \u03b8\u03b1\u03bd\u03b1\u03c4\u03bf\u03c2 \u03c4\u03bf \u03b4\u03b5 \u03c7\u03b1\u03c1\u03b9\u03c3\u03bc\u03b1 \u03c4\u03bf\u03c5 \u03b8\u03b5\u03bf\u03c5 \u03b6\u03c9\u03b7 \u03b1\u03b9\u03c9\u03bd\u03b9\u03bf\u03c2 \u03b5\u03bd <B STYLE=\"COLOR: BROWN\">\u03a7\u03a1\u0399\u03a3\u03a4</b>\u03c9 <B STYLE=\"COLOR: BROWN\">\u0399\u0397\u03a3\u039f\u03a5</b> \u03c4\u03c9 <B STYLE=\"COLOR: BROWN\">\u039a\u03a5\u03a1\u0399</b>\u03c9 \u03b7\u03bc\u03c9\u03bd</span></li><li><span><b>Romans 7:25</b></span> - <span>\u03b5\u03c5\u03c7\u03b1\u03c1\u03b9\u03c3\u03c4\u03c9 \u03c4\u03c9 \u03b8\u03b5\u03c9 \u03b4\u03b9\u03b1 <B STYLE=\"COLOR: BROWN\">\u0399\u0397\u03a3\u039f\u03a5</b> <B STYLE=\"COLOR: BROWN\">\u03a7\u03a1\u0399\u03a3\u03a4</b>\u03bf\u03c5 \u03c4\u03bf\u03c5 <B STYLE=\"COLOR: BROWN\">\u039a\u03a5\u03a1\u0399</b>\u03bf\u03c5 \u03b7\u03bc\u03c9\u03bd \u03b1\u03c1\u03b1 \u03bf\u03c5\u03bd \u03b1\u03c5\u03c4\u03bf\u03c2 \u03b5\u03b3\u03c9 \u03c4\u03c9 \u03bc\u03b5\u03bd \u03bd\u03bf\u03b9 \u03b4\u03bf\u03c5\u03bb\u03b5\u03c5\u03c9 \u03bd\u03bf\u03bc\u03c9 \u03b8\u03b5\u03bf\u03c5 \u03c4\u03b7 \u03b4\u03b5 \u03c3\u03b1\u03c1\u03ba\u03b9 \u03bd\u03bf\u03bc\u03c9 \u03b1\u03bc\u03b1\u03c1\u03c4\u03b9\u03b1\u03c2</span></li><li><span><b>Romans 8:39</b></span> - <span>\u03bf\u03c5\u03c4\u03b5 \u03c5\u03c8\u03c9\u03bc\u03b1 \u03bf\u03c5\u03c4\u03b5 \u03b2\u03b1\u03b8\u03bf\u03c2 \u03bf\u03c5\u03c4\u03b5 \u03c4\u03b9\u03c2 \u03ba\u03c4\u03b9\u03c3\u03b9\u03c2 \u03b5\u03c4\u03b5\u03c1\u03b1 \u03b4\u03c5\u03bd\u03b7\u03c3\u03b5\u03c4\u03b1\u03b9 \u03b7\u03bc\u03b1\u03c2 \u03c7\u03c9\u03c1\u03b9\u03c3\u03b1\u03b9 \u03b1\u03c0\u03bf \u03c4\u03b7\u03c2 \u03b1\u03b3\u03b1\u03c0\u03b7\u03c2 \u03c4\u03bf\u03c5 \u03b8\u03b5\u03bf\u03c5 \u03c4\u03b7\u03c2 \u03b5\u03bd <B STYLE=\"COLOR: BROWN\">\u03a7\u03a1\u0399\u03a3\u03a4</b>\u03c9 <B STYLE=\"COLOR: BROWN\">\u0399\u0397\u03a3\u039f\u03a5</b> \u03c4\u03c9 <B STYLE=\"COLOR: BROWN\">\u039a\u03a5\u03a1\u0399</b>\u03c9 \u03b7\u03bc\u03c9\u03bd</span></li><li><span><b>Romans 13:14</b></span> - <span>\u03b1\u03bb\u03bb \u03b5\u03bd\u03b4\u03c5\u03c3\u03b1\u03c3\u03b8\u03b5 \u03c4\u03bf\u03bd <B STYLE=\"COLOR: BROWN\">\u039a\u03a5\u03a1\u0399</b>\u03bf\u03bd <B STYLE=\"COLOR: BROWN\">\u0399\u0397\u03a3\u039f\u03a5</b>\u03bd <B STYLE=\"COLOR: BROWN\">\u03a7\u03a1\u0399\u03a3\u03a4</b>\u03bf\u03bd \u03ba\u03b1\u03b9 \u03c4\u03b7\u03c2 \u03c3\u03b1\u03c1\u03ba\u03bf\u03c2 \u03c0\u03c1\u03bf\u03bd\u03bf\u03b9\u03b1\u03bd \u03bc\u03b7 \u03c0\u03bf\u03b9\u03b5\u03b9\u03c3\u03b8\u03b5 \u03b5\u03b9\u03c2 \u03b5\u03c0\u03b9\u03b8\u03c5\u03bc\u03b9\u03b1\u03c2</span></li><li><span><b>Romans 15:6</b></span> - <span>\u03b9\u03bd\u03b1 \u03bf\u03bc\u03bf\u03b8\u03c5\u03bc\u03b1\u03b4\u03bf\u03bd \u03b5\u03bd \u03b5\u03bd\u03b9 \u03c3\u03c4\u03bf\u03bc\u03b1\u03c4\u03b9 \u03b4\u03bf\u03be\u03b1\u03b6\u03b7\u03c4\u03b5 \u03c4\u03bf\u03bd \u03b8\u03b5\u03bf\u03bd \u03ba\u03b1\u03b9 \u03c0\u03b1\u03c4\u03b5\u03c1\u03b1 \u03c4\u03bf\u03c5 <B STYLE=\"COLOR: BROWN\">\u039a\u03a5\u03a1\u0399</b>\u03bf\u03c5 \u03b7\u03bc\u03c9\u03bd <B STYLE=\"COLOR: BROWN\">\u0399\u0397\u03a3\u039f\u03a5</b> <B STYLE=\"COLOR: BROWN\">\u03a7\u03a1\u0399\u03a3\u03a4</b>\u03bf\u03c5</span></li><li><span><b>Romans 15:30</b></span> - <span>\u03c0\u03b1\u03c1\u03b1\u03ba\u03b1\u03bb\u03c9 \u03b4\u03b5 \u03c5\u03bc\u03b1\u03c2 \u03b1\u03b4\u03b5\u03bb\u03c6\u03bf\u03b9 \u03b4\u03b9\u03b1 \u03c4\u03bf\u03c5 <B STYLE=\"COLOR: BROWN\">\u039a\u03a5\u03a1\u0399</b>\u03bf\u03c5 \u03b7\u03bc\u03c9\u03bd <B STYLE=\"COLOR: BROWN\">\u0399\u0397\u03a3\u039f\u03a5</b> <B STYLE=\"COLOR: BROWN\">\u03a7\u03a1\u0399\u03a3\u03a4</b>\u03bf\u03c5 \u03ba\u03b1\u03b9 \u03b4\u03b9\u03b1 \u03c4\u03b7\u03c2 \u03b1\u03b3\u03b1\u03c0\u03b7\u03c2 \u03c4\u03bf\u03c5 \u03c0\u03bd\u03b5\u03c5\u03bc\u03b1\u03c4\u03bf\u03c2 \u03c3\u03c5\u03bd\u03b1\u03b3\u03c9\u03bd\u03b9\u03c3\u03b1\u03c3\u03b8\u03b1\u03b9 \u03bc\u03bf\u03b9 \u03b5\u03bd \u03c4\u03b1\u03b9\u03c2 \u03c0\u03c1\u03bf\u03c3\u03b5\u03c5\u03c7\u03b1\u03b9\u03c2 \u03c5\u03c0\u03b5\u03c1 \u03b5\u03bc\u03bf\u03c5 \u03c0\u03c1\u03bf\u03c2 \u03c4\u03bf\u03bd \u03b8\u03b5\u03bf\u03bd</span></li><li><span><b>Romans 16:18</b></span> - <span>\u03bf\u03b9 \u03b3\u03b1\u03c1 \u03c4\u03bf\u03b9\u03bf\u03c5\u03c4\u03bf\u03b9 \u03c4\u03c9 <B STYLE=\"COLOR: BROWN\">\u039a\u03a5\u03a1\u0399</b>\u03c9 \u03b7\u03bc\u03c9\u03bd <B STYLE=\"COLOR: BROWN\">\u0399\u0397\u03a3\u039f\u03a5</b> <B STYLE=\"COLOR: BROWN\">\u03a7\u03a1\u0399\u03a3\u03a4</b>\u03c9 \u03bf\u03c5 \u03b4\u03bf\u03c5\u03bb\u03b5\u03c5\u03bf\u03c5\u03c3\u03b9\u03bd \u03b1\u03bb\u03bb\u03b1 \u03c4\u03b7 \u03b5\u03b1\u03c5\u03c4\u03c9\u03bd \u03ba\u03bf\u03b9\u03bb\u03b9\u03b1 \u03ba\u03b1\u03b9 \u03b4\u03b9\u03b1 \u03c4\u03b7\u03c2 \u03c7\u03c1\u03b7\u03c3\u03c4\u03bf\u03bb\u03bf\u03b3\u03b9\u03b1\u03c2 \u03ba\u03b1\u03b9 \u03b5\u03c5\u03bb\u03bf\u03b3\u03b9\u03b1\u03c2 \u03b5\u03be\u03b1\u03c0\u03b1\u03c4\u03c9\u03c3\u03b9\u03bd \u03c4\u03b1\u03c2 \u03ba\u03b1\u03c1\u03b4\u03b9\u03b1\u03c2 \u03c4\u03c9\u03bd \u03b1\u03ba\u03b1\u03ba\u03c9\u03bd</span></li><li><span><b>Romans 16:20</b></span> - <span>\u03bf \u03b4\u03b5 \u03b8\u03b5\u03bf\u03c2 \u03c4\u03b7\u03c2 \u03b5\u03b9\u03c1\u03b7\u03bd\u03b7\u03c2 \u03c3\u03c5\u03bd\u03c4\u03c1\u03b9\u03c8\u03b5\u03b9 \u03c4\u03bf\u03bd \u03c3\u03b1\u03c4\u03b1\u03bd\u03b1\u03bd \u03c5\u03c0\u03bf \u03c4\u03bf\u03c5\u03c2 \u03c0\u03bf\u03b4\u03b1\u03c2 \u03c5\u03bc\u03c9\u03bd \u03b5\u03bd \u03c4\u03b1\u03c7\u03b5\u03b9 \u03b7 \u03c7\u03b1\u03c1\u03b9\u03c2 \u03c4\u03bf\u03c5 <B STYLE=\"COLOR: BROWN\">\u039a\u03a5\u03a1\u0399</b>\u03bf\u03c5 \u03b7\u03bc\u03c9\u03bd <B STYLE=\"COLOR: BROWN\">\u0399\u0397\u03a3\u039f\u03a5</b> <B STYLE=\"COLOR: BROWN\">\u03a7\u03a1\u0399\u03a3\u03a4</b>\u03bf\u03c5 \u03bc\u03b5\u03b8 \u03c5\u03bc\u03c9\u03bd</span></li><li><span><b>Romans 16:24</b></span> - <span>\u03b7 \u03c7\u03b1\u03c1\u03b9\u03c2 \u03c4\u03bf\u03c5 <B STYLE=\"COLOR: BROWN\">\u039a\u03a5\u03a1\u0399</b>\u03bf\u03c5 \u03b7\u03bc\u03c9\u03bd <B STYLE=\"COLOR: BROWN\">\u0399\u0397\u03a3\u039f\u03a5</b> <B STYLE=\"COLOR: BROWN\">\u03a7\u03a1\u0399\u03a3\u03a4</b>\u03bf\u03c5 \u03bc\u03b5\u03c4\u03b1 \u03c0\u03b1\u03bd\u03c4\u03c9\u03bd \u03c5\u03bc\u03c9\u03bd \u03b1\u03bc\u03b7\u03bd</span></li><li><span><b>1 Corinthians 1:2</b></span> - <span>\u03c4\u03b7 \u03b5\u03ba\u03ba\u03bb\u03b7\u03c3\u03b9\u03b1 \u03c4\u03bf\u03c5 \u03b8\u03b5\u03bf\u03c5 \u03c4\u03b7 \u03bf\u03c5\u03c3\u03b7 \u03b5\u03bd \u03ba\u03bf\u03c1\u03b9\u03bd\u03b8\u03c9 \u03b7\u03b3\u03b9\u03b1\u03c3\u03bc\u03b5\u03bd\u03bf\u03b9\u03c2 \u03b5\u03bd <B STYLE=\"COLOR: BROWN\">\u03a7\u03a1\u0399\u03a3\u03a4</b>\u03c9 <B STYLE=\"COLOR: BROWN\">\u0399\u0397\u03a3\u039f\u03a5</b> \u03ba\u03bb\u03b7\u03c4\u03bf\u03b9\u03c2 \u03b1\u03b3\u03b9\u03bf\u03b9\u03c2 \u03c3\u03c5\u03bd \u03c0\u03b1\u03c3\u03b9\u03bd \u03c4\u03bf\u03b9\u03c2 \u03b5\u03c0\u03b9\u03ba\u03b1\u03bb\u03bf\u03c5\u03bc\u03b5\u03bd\u03bf\u03b9\u03c2 \u03c4\u03bf \u03bf\u03bd\u03bf\u03bc\u03b1 \u03c4\u03bf\u03c5 <B STYLE=\"COLOR: BROWN\">\u039a\u03a5\u03a1\u0399</b>\u03bf\u03c5 \u03b7\u03bc\u03c9\u03bd <B STYLE=\"COLOR: BROWN\">\u0399\u0397\u03a3\u039f\u03a5</b> <B STYLE=\"COLOR: BROWN\">\u03a7\u03a1\u0399\u03a3\u03a4</b>\u03bf\u03c5 \u03b5\u03bd \u03c0\u03b1\u03bd\u03c4\u03b9 \u03c4\u03bf\u03c0\u03c9 \u03b1\u03c5\u03c4\u03c9\u03bd \u03c4\u03b5 \u03ba\u03b1\u03b9 \u03b7\u03bc\u03c9\u03bd</span></li><li><span><b>1 Corinthians 1:3</b></span> - <span>\u03c7\u03b1\u03c1\u03b9\u03c2 \u03c5\u03bc\u03b9\u03bd \u03ba\u03b1\u03b9 \u03b5\u03b9\u03c1\u03b7\u03bd\u03b7 \u03b1\u03c0\u03bf \u03b8\u03b5\u03bf\u03c5 \u03c0\u03b1\u03c4\u03c1\u03bf\u03c2 \u03b7\u03bc\u03c9\u03bd \u03ba\u03b1\u03b9 <B STYLE=\"COLOR: BROWN\">\u039a\u03a5\u03a1\u0399</b>\u03bf\u03c5 <B STYLE=\"COLOR: BROWN\">\u0399\u0397\u03a3\u039f\u03a5</b> <B STYLE=\"COLOR: BROWN\">\u03a7\u03a1\u0399\u03a3\u03a4</b>\u03bf\u03c5</span></li><li><span><b>1 Corinthians 1:7</b></span> - <span>\u03c9\u03c3\u03c4\u03b5 \u03c5\u03bc\u03b1\u03c2 \u03bc\u03b7 \u03c5\u03c3\u03c4\u03b5\u03c1\u03b5\u03b9\u03c3\u03b8\u03b1\u03b9 \u03b5\u03bd \u03bc\u03b7\u03b4\u03b5\u03bd\u03b9 \u03c7\u03b1\u03c1\u03b9\u03c3\u03bc\u03b1\u03c4\u03b9 \u03b1\u03c0\u03b5\u03ba\u03b4\u03b5\u03c7\u03bf\u03bc\u03b5\u03bd\u03bf\u03c5\u03c2 \u03c4\u03b7\u03bd \u03b1\u03c0\u03bf\u03ba\u03b1\u03bb\u03c5\u03c8\u03b9\u03bd \u03c4\u03bf\u03c5 <B STYLE=\"COLOR: BROWN\">\u039a\u03a5\u03a1\u0399</b>\u03bf\u03c5 \u03b7\u03bc\u03c9\u03bd <B STYLE=\"COLOR: BROWN\">\u0399\u0397\u03a3\u039f\u03a5</b> <B STYLE=\"COLOR: BROWN\">\u03a7\u03a1\u0399\u03a3\u03a4</b>\u03bf\u03c5</span></li><li><span><b>1 Corinthians 1:8</b></span> - <span>\u03bf\u03c2 \u03ba\u03b1\u03b9 \u03b2\u03b5\u03b2\u03b1\u03b9\u03c9\u03c3\u03b5\u03b9 \u03c5\u03bc\u03b1\u03c2 \u03b5\u03c9\u03c2 \u03c4\u03b5\u03bb\u03bf\u03c5\u03c2 \u03b1\u03bd\u03b5\u03b3\u03ba\u03bb\u03b7\u03c4\u03bf\u03c5\u03c2 \u03b5\u03bd \u03c4\u03b7 \u03b7\u03bc\u03b5\u03c1\u03b1 \u03c4\u03bf\u03c5 <B STYLE=\"COLOR: BROWN\">\u039a\u03a5\u03a1\u0399</b>\u03bf\u03c5 \u03b7\u03bc\u03c9\u03bd <B STYLE=\"COLOR: BROWN\">\u0399\u0397\u03a3\u039f\u03a5</b> <B STYLE=\"COLOR: BROWN\">\u03a7\u03a1\u0399\u03a3\u03a4</b>\u03bf\u03c5</span></li><li><span><b>1 Corinthians 1:9</b></span> - <span>\u03c0\u03b9\u03c3\u03c4\u03bf\u03c2 \u03bf \u03b8\u03b5\u03bf\u03c2 \u03b4\u03b9 \u03bf\u03c5 \u03b5\u03ba\u03bb\u03b7\u03b8\u03b7\u03c4\u03b5 \u03b5\u03b9\u03c2 \u03ba\u03bf\u03b9\u03bd\u03c9\u03bd\u03b9\u03b1\u03bd \u03c4\u03bf\u03c5 \u03c5\u03b9\u03bf\u03c5 \u03b1\u03c5\u03c4\u03bf\u03c5 <B STYLE=\"COLOR: BROWN\">\u0399\u0397\u03a3\u039f\u03a5</b> <B STYLE=\"COLOR: BROWN\">\u03a7\u03a1\u0399\u03a3\u03a4</b>\u03bf\u03c5 \u03c4\u03bf\u03c5 <B STYLE=\"COLOR: BROWN\">\u039a\u03a5\u03a1\u0399</b>\u03bf\u03c5 \u03b7\u03bc\u03c9\u03bd</span></li><li><span><b>1 Corinthians 1:10</b></span> - <span>\u03c0\u03b1\u03c1\u03b1\u03ba\u03b1\u03bb\u03c9 \u03b4\u03b5 \u03c5\u03bc\u03b1\u03c2 \u03b1\u03b4\u03b5\u03bb\u03c6\u03bf\u03b9 \u03b4\u03b9\u03b1 \u03c4\u03bf\u03c5 \u03bf\u03bd\u03bf\u03bc\u03b1\u03c4\u03bf\u03c2 \u03c4\u03bf\u03c5 <B STYLE=\"COLOR: BROWN\">\u039a\u03a5\u03a1\u0399</b>\u03bf\u03c5 \u03b7\u03bc\u03c9\u03bd <B STYLE=\"COLOR: BROWN\">\u0399\u0397\u03a3\u039f\u03a5</b> <B STYLE=\"COLOR: BROWN\">\u03a7\u03a1\u0399\u03a3\u03a4</b>\u03bf\u03c5 \u03b9\u03bd\u03b1 \u03c4\u03bf \u03b1\u03c5\u03c4\u03bf \u03bb\u03b5\u03b3\u03b7\u03c4\u03b5 \u03c0\u03b1\u03bd\u03c4\u03b5\u03c2 \u03ba\u03b1\u03b9 \u03bc\u03b7 \u03b7 \u03b5\u03bd \u03c5\u03bc\u03b9\u03bd \u03c3\u03c7\u03b9\u03c3\u03bc\u03b1\u03c4\u03b1 \u03b7\u03c4\u03b5 \u03b4\u03b5 \u03ba\u03b1\u03c4\u03b7\u03c1\u03c4\u03b9\u03c3\u03bc\u03b5\u03bd\u03bf\u03b9 \u03b5\u03bd \u03c4\u03c9 \u03b1\u03c5\u03c4\u03c9 \u03bd\u03bf\u03b9 \u03ba\u03b1\u03b9 \u03b5\u03bd \u03c4\u03b7 \u03b1\u03c5\u03c4\u03b7 \u03b3\u03bd\u03c9\u03bc\u03b7</span></li><li><span><b>1 Corinthians 5:4</b></span> - <span>\u03b5\u03bd \u03c4\u03c9 \u03bf\u03bd\u03bf\u03bc\u03b1\u03c4\u03b9 \u03c4\u03bf\u03c5 <B STYLE=\"COLOR: BROWN\">\u039a\u03a5\u03a1\u0399</b>\u03bf\u03c5 \u03b7\u03bc\u03c9\u03bd <B STYLE=\"COLOR: BROWN\">\u0399\u0397\u03a3\u039f\u03a5</b> <B STYLE=\"COLOR: BROWN\">\u03a7\u03a1\u0399\u03a3\u03a4</b>\u03bf\u03c5 \u03c3\u03c5\u03bd\u03b1\u03c7\u03b8\u03b5\u03bd\u03c4\u03c9\u03bd \u03c5\u03bc\u03c9\u03bd \u03ba\u03b1\u03b9 \u03c4\u03bf\u03c5 \u03b5\u03bc\u03bf\u03c5 \u03c0\u03bd\u03b5\u03c5\u03bc\u03b1\u03c4\u03bf\u03c2 \u03c3\u03c5\u03bd \u03c4\u03b7 \u03b4\u03c5\u03bd\u03b1\u03bc\u03b5\u03b9 \u03c4\u03bf\u03c5 <B STYLE=\"COLOR: BROWN\">\u039a\u03a5\u03a1\u0399</b>\u03bf\u03c5 \u03b7\u03bc\u03c9\u03bd <B STYLE=\"COLOR: BROWN\">\u0399\u0397\u03a3\u039f\u03a5</b> <B STYLE=\"COLOR: BROWN\">\u03a7\u03a1\u0399\u03a3\u03a4</b>\u03bf\u03c5</span></li><li><span><b>1 Corinthians 8:6</b></span> - <span>\u03b1\u03bb\u03bb \u03b7\u03bc\u03b9\u03bd \u03b5\u03b9\u03c2 \u03b8\u03b5\u03bf\u03c2 \u03bf \u03c0\u03b1\u03c4\u03b7\u03c1 \u03b5\u03be \u03bf\u03c5 \u03c4\u03b1 \u03c0\u03b1\u03bd\u03c4\u03b1 \u03ba\u03b1\u03b9 \u03b7\u03bc\u03b5\u03b9\u03c2 \u03b5\u03b9\u03c2 \u03b1\u03c5\u03c4\u03bf\u03bd \u03ba\u03b1\u03b9 \u03b5\u03b9\u03c2 <B STYLE=\"COLOR: BROWN\">\u039a\u03a5\u03a1\u0399</b>\u03bf\u03c2 <B STYLE=\"COLOR: BROWN\">\u0399\u0397\u03a3\u039f\u03a5</b>\u03c2 <B STYLE=\"COLOR: BROWN\">\u03a7\u03a1\u0399\u03a3\u03a4</b>\u03bf\u03c2 \u03b4\u03b9 \u03bf\u03c5 \u03c4\u03b1 \u03c0\u03b1\u03bd\u03c4\u03b1 \u03ba\u03b1\u03b9 \u03b7\u03bc\u03b5\u03b9\u03c2 \u03b4\u03b9 \u03b1\u03c5\u03c4\u03bf\u03c5</span></li><li><span><b>1 Corinthians 9:1</b></span> - <span>\u03bf\u03c5\u03ba \u03b5\u03b9\u03bc\u03b9 \u03b1\u03c0\u03bf\u03c3\u03c4\u03bf\u03bb\u03bf\u03c2 \u03bf\u03c5\u03ba \u03b5\u03b9\u03bc\u03b9 \u03b5\u03bb\u03b5\u03c5\u03b8\u03b5\u03c1\u03bf\u03c2 \u03bf\u03c5\u03c7\u03b9 <B STYLE=\"COLOR: BROWN\">\u0399\u0397\u03a3\u039f\u03a5</b>\u03bd <B STYLE=\"COLOR: BROWN\">\u03a7\u03a1\u0399\u03a3\u03a4</b>\u03bf\u03bd \u03c4\u03bf\u03bd <B STYLE=\"COLOR: BROWN\">\u039a\u03a5\u03a1\u0399</b>\u03bf\u03bd \u03b7\u03bc\u03c9\u03bd \u03b5\u03c9\u03c1\u03b1\u03ba\u03b1 \u03bf\u03c5 \u03c4\u03bf \u03b5\u03c1\u03b3\u03bf\u03bd \u03bc\u03bf\u03c5 \u03c5\u03bc\u03b5\u03b9\u03c2 \u03b5\u03c3\u03c4\u03b5 \u03b5\u03bd <B STYLE=\"COLOR: BROWN\">\u039a\u03a5\u03a1\u0399</b>\u03c9</span></li><li><span><b>1 Corinthians 15:31</b></span> - <span>\u03ba\u03b1\u03b8 \u03b7\u03bc\u03b5\u03c1\u03b1\u03bd \u03b1\u03c0\u03bf\u03b8\u03bd\u03b7\u03c3\u03ba\u03c9 \u03bd\u03b7 \u03c4\u03b7\u03bd \u03b7\u03bc\u03b5\u03c4\u03b5\u03c1\u03b1\u03bd \u03ba\u03b1\u03c5\u03c7\u03b7\u03c3\u03b9\u03bd \u03b7\u03bd \u03b5\u03c7\u03c9 \u03b5\u03bd <B STYLE=\"COLOR: BROWN\">\u03a7\u03a1\u0399\u03a3\u03a4</b>\u03c9 <B STYLE=\"COLOR: BROWN\">\u0399\u0397\u03a3\u039f\u03a5</b> \u03c4\u03c9 <B STYLE=\"COLOR: BROWN\">\u039a\u03a5\u03a1\u0399</b>\u03c9 \u03b7\u03bc\u03c9\u03bd</span></li><li><span><b>1 Corinthians 15:57</b></span> - <span>\u03c4\u03c9 \u03b4\u03b5 \u03b8\u03b5\u03c9 \u03c7\u03b1\u03c1\u03b9\u03c2 \u03c4\u03c9 \u03b4\u03b9\u03b4\u03bf\u03bd\u03c4\u03b9 \u03b7\u03bc\u03b9\u03bd \u03c4\u03bf \u03bd\u03b9\u03ba\u03bf\u03c2 \u03b4\u03b9\u03b1 \u03c4\u03bf\u03c5 <B STYLE=\"COLOR: BROWN\">\u039a\u03a5\u03a1\u0399</b>\u03bf\u03c5 \u03b7\u03bc\u03c9\u03bd <B STYLE=\"COLOR: BROWN\">\u0399\u0397\u03a3\u039f\u03a5</b> <B STYLE=\"COLOR: BROWN\">\u03a7\u03a1\u0399\u03a3\u03a4</b>\u03bf\u03c5</span></li><li><span><b>1 Corinthians 16:22</b></span> - <span>\u03b5\u03b9 \u03c4\u03b9\u03c2 \u03bf\u03c5 \u03c6\u03b9\u03bb\u03b5\u03b9 \u03c4\u03bf\u03bd <B STYLE=\"COLOR: BROWN\">\u039a\u03a5\u03a1\u0399</b>\u03bf\u03bd <B STYLE=\"COLOR: BROWN\">\u0399\u0397\u03a3\u039f\u03a5</b>\u03bd <B STYLE=\"COLOR: BROWN\">\u03a7\u03a1\u0399\u03a3\u03a4</b>\u03bf\u03bd \u03b7\u03c4\u03c9 \u03b1\u03bd\u03b1\u03b8\u03b5\u03bc\u03b1 \u03bc\u03b1\u03c1\u03b1\u03bd \u03b1\u03b8\u03b1</span></li><li><span><b>1 Corinthians 16:23</b></span> - <span>\u03b7 \u03c7\u03b1\u03c1\u03b9\u03c2 \u03c4\u03bf\u03c5 <B STYLE=\"COLOR: BROWN\">\u039a\u03a5\u03a1\u0399</b>\u03bf\u03c5 <B STYLE=\"COLOR: BROWN\">\u0399\u0397\u03a3\u039f\u03a5</b> <B STYLE=\"COLOR: BROWN\">\u03a7\u03a1\u0399\u03a3\u03a4</b>\u03bf\u03c5 \u03bc\u03b5\u03b8 \u03c5\u03bc\u03c9\u03bd</span></li><li><span><b>2 Corinthians 1:2</b></span> - <span>\u03c7\u03b1\u03c1\u03b9\u03c2 \u03c5\u03bc\u03b9\u03bd \u03ba\u03b1\u03b9 \u03b5\u03b9\u03c1\u03b7\u03bd\u03b7 \u03b1\u03c0\u03bf \u03b8\u03b5\u03bf\u03c5 \u03c0\u03b1\u03c4\u03c1\u03bf\u03c2 \u03b7\u03bc\u03c9\u03bd \u03ba\u03b1\u03b9 <B STYLE=\"COLOR: BROWN\">\u039a\u03a5\u03a1\u0399</b>\u03bf\u03c5 <B STYLE=\"COLOR: BROWN\">\u0399\u0397\u03a3\u039f\u03a5</b> <B STYLE=\"COLOR: BROWN\">\u03a7\u03a1\u0399\u03a3\u03a4</b>\u03bf\u03c5</span></li><li><span><b>2 Corinthians 1:3</b></span> - <span>\u03b5\u03c5\u03bb\u03bf\u03b3\u03b7\u03c4\u03bf\u03c2 \u03bf \u03b8\u03b5\u03bf\u03c2 \u03ba\u03b1\u03b9 \u03c0\u03b1\u03c4\u03b7\u03c1 \u03c4\u03bf\u03c5 <B STYLE=\"COLOR: BROWN\">\u039a\u03a5\u03a1\u0399</b>\u03bf\u03c5 \u03b7\u03bc\u03c9\u03bd <B STYLE=\"COLOR: BROWN\">\u0399\u0397\u03a3\u039f\u03a5</b> <B STYLE=\"COLOR: BROWN\">\u03a7\u03a1\u0399\u03a3\u03a4</b>\u03bf\u03c5 \u03bf \u03c0\u03b1\u03c4\u03b7\u03c1 \u03c4\u03c9\u03bd \u03bf\u03b9\u03ba\u03c4\u03b9\u03c1\u03bc\u03c9\u03bd \u03ba\u03b1\u03b9 \u03b8\u03b5\u03bf\u03c2 \u03c0\u03b1\u03c3\u03b7\u03c2 \u03c0\u03b1\u03c1\u03b1\u03ba\u03bb\u03b7\u03c3\u03b5\u03c9\u03c2</span></li><li><span><b>2 Corinthians 4:5</b></span> - <span>\u03bf\u03c5 \u03b3\u03b1\u03c1 \u03b5\u03b1\u03c5\u03c4\u03bf\u03c5\u03c2 \u03ba\u03b7\u03c1\u03c5\u03c3\u03c3\u03bf\u03bc\u03b5\u03bd \u03b1\u03bb\u03bb\u03b1 <B STYLE=\"COLOR: BROWN\">\u03a7\u03a1\u0399\u03a3\u03a4</b>\u03bf\u03bd <B STYLE=\"COLOR: BROWN\">\u0399\u0397\u03a3\u039f\u03a5</b>\u03bd <B STYLE=\"COLOR: BROWN\">\u039a\u03a5\u03a1\u0399</b>\u03bf\u03bd \u03b5\u03b1\u03c5\u03c4\u03bf\u03c5\u03c2 \u03b4\u03b5 \u03b4\u03bf\u03c5\u03bb\u03bf\u03c5\u03c2 \u03c5\u03bc\u03c9\u03bd \u03b4\u03b9\u03b1 <B STYLE=\"COLOR: BROWN\">\u0399\u0397\u03a3\u039f\u03a5</b>\u03bd</span></li><li><span><b>2 Corinthians 8:9</b></span> - <span>\u03b3\u03b9\u03bd\u03c9\u03c3\u03ba\u03b5\u03c4\u03b5 \u03b3\u03b1\u03c1 \u03c4\u03b7\u03bd \u03c7\u03b1\u03c1\u03b9\u03bd \u03c4\u03bf\u03c5 <B STYLE=\"COLOR: BROWN\">\u039a\u03a5\u03a1\u0399</b>\u03bf\u03c5 \u03b7\u03bc\u03c9\u03bd <B STYLE=\"COLOR: BROWN\">\u0399\u0397\u03a3\u039f\u03a5</b> <B STYLE=\"COLOR: BROWN\">\u03a7\u03a1\u0399\u03a3\u03a4</b>\u03bf\u03c5 \u03bf\u03c4\u03b9 \u03b4\u03b9 \u03c5\u03bc\u03b1\u03c2 \u03b5\u03c0\u03c4\u03c9\u03c7\u03b5\u03c5\u03c3\u03b5\u03bd \u03c0\u03bb\u03bf\u03c5\u03c3\u03b9\u03bf\u03c2 \u03c9\u03bd \u03b9\u03bd\u03b1 \u03c5\u03bc\u03b5\u03b9\u03c2 \u03c4\u03b7 \u03b5\u03ba\u03b5\u03b9\u03bd\u03bf\u03c5 \u03c0\u03c4\u03c9\u03c7\u03b5\u03b9\u03b1 \u03c0\u03bb\u03bf\u03c5\u03c4\u03b7\u03c3\u03b7\u03c4\u03b5</span></li><li><span><b>2 Corinthians 11:31</b></span> - <span>\u03bf \u03b8\u03b5\u03bf\u03c2 \u03ba\u03b1\u03b9 \u03c0\u03b1\u03c4\u03b7\u03c1 \u03c4\u03bf\u03c5 <B STYLE=\"COLOR: BROWN\">\u039a\u03a5\u03a1\u0399</b>\u03bf\u03c5 \u03b7\u03bc\u03c9\u03bd <B STYLE=\"COLOR: BROWN\">\u0399\u0397\u03a3\u039f\u03a5</b> <B STYLE=\"COLOR: BROWN\">\u03a7\u03a1\u0399\u03a3\u03a4</b>\u03bf\u03c5 \u03bf\u03b9\u03b4\u03b5\u03bd \u03bf \u03c9\u03bd \u03b5\u03c5\u03bb\u03bf\u03b3\u03b7\u03c4\u03bf\u03c2 \u03b5\u03b9\u03c2 \u03c4\u03bf\u03c5\u03c2 \u03b1\u03b9\u03c9\u03bd\u03b1\u03c2 \u03bf\u03c4\u03b9 \u03bf\u03c5 \u03c8\u03b5\u03c5\u03b4\u03bf\u03bc\u03b1\u03b9</span></li><li><span><b>2 Corinthians 13:13</b></span> - <span>\u03b7 \u03c7\u03b1\u03c1\u03b9\u03c2 \u03c4\u03bf\u03c5 <B STYLE=\"COLOR: BROWN\">\u039a\u03a5\u03a1\u0399</b>\u03bf\u03c5 <B STYLE=\"COLOR: BROWN\">\u0399\u0397\u03a3\u039f\u03a5</b> <B STYLE=\"COLOR: BROWN\">\u03a7\u03a1\u0399\u03a3\u03a4</b>\u03bf\u03c5 \u03ba\u03b1\u03b9 \u03b7 \u03b1\u03b3\u03b1\u03c0\u03b7 \u03c4\u03bf\u03c5 \u03b8\u03b5\u03bf\u03c5 \u03ba\u03b1\u03b9 \u03b7 \u03ba\u03bf\u03b9\u03bd\u03c9\u03bd\u03b9\u03b1 \u03c4\u03bf\u03c5 \u03b1\u03b3\u03b9\u03bf\u03c5 \u03c0\u03bd\u03b5\u03c5\u03bc\u03b1\u03c4\u03bf\u03c2 \u03bc\u03b5\u03c4\u03b1 \u03c0\u03b1\u03bd\u03c4\u03c9\u03bd \u03c5\u03bc\u03c9\u03bd \u03b1\u03bc\u03b7\u03bd</span></li><li><span><b>Galatians 1:3</b></span> - <span>\u03c7\u03b1\u03c1\u03b9\u03c2 \u03c5\u03bc\u03b9\u03bd \u03ba\u03b1\u03b9 \u03b5\u03b9\u03c1\u03b7\u03bd\u03b7 \u03b1\u03c0\u03bf \u03b8\u03b5\u03bf\u03c5 \u03c0\u03b1\u03c4\u03c1\u03bf\u03c2 \u03ba\u03b1\u03b9 <B STYLE=\"COLOR: BROWN\">\u039a\u03a5\u03a1\u0399</b>\u03bf\u03c5 \u03b7\u03bc\u03c9\u03bd <B STYLE=\"COLOR: BROWN\">\u0399\u0397\u03a3\u039f\u03a5</b> <B STYLE=\"COLOR: BROWN\">\u03a7\u03a1\u0399\u03a3\u03a4</b>\u03bf\u03c5</span></li><li><span><b>Galatians 6:14</b></span> - <span>\u03b5\u03bc\u03bf\u03b9 \u03b4\u03b5 \u03bc\u03b7 \u03b3\u03b5\u03bd\u03bf\u03b9\u03c4\u03bf \u03ba\u03b1\u03c5\u03c7\u03b1\u03c3\u03b8\u03b1\u03b9 \u03b5\u03b9 \u03bc\u03b7 \u03b5\u03bd \u03c4\u03c9 \u03c3\u03c4\u03b1\u03c5\u03c1\u03c9 \u03c4\u03bf\u03c5 <B STYLE=\"COLOR: BROWN\">\u039a\u03a5\u03a1\u0399</b>\u03bf\u03c5 \u03b7\u03bc\u03c9\u03bd <B STYLE=\"COLOR: BROWN\">\u0399\u0397\u03a3\u039f\u03a5</b> <B STYLE=\"COLOR: BROWN\">\u03a7\u03a1\u0399\u03a3\u03a4</b>\u03bf\u03c5 \u03b4\u03b9 \u03bf\u03c5 \u03b5\u03bc\u03bf\u03b9 \u03ba\u03bf\u03c3\u03bc\u03bf\u03c2 \u03b5\u03c3\u03c4\u03b1\u03c5\u03c1\u03c9\u03c4\u03b1\u03b9 \u03ba\u03b1\u03b3\u03c9 \u03c4\u03c9 \u03ba\u03bf\u03c3\u03bc\u03c9</span></li><li><span><b>Galatians 6:18</b></span> - <span>\u03b7 \u03c7\u03b1\u03c1\u03b9\u03c2 \u03c4\u03bf\u03c5 <B STYLE=\"COLOR: BROWN\">\u039a\u03a5\u03a1\u0399</b>\u03bf\u03c5 \u03b7\u03bc\u03c9\u03bd <B STYLE=\"COLOR: BROWN\">\u0399\u0397\u03a3\u039f\u03a5</b> <B STYLE=\"COLOR: BROWN\">\u03a7\u03a1\u0399\u03a3\u03a4</b>\u03bf\u03c5 \u03bc\u03b5\u03c4\u03b1 \u03c4\u03bf\u03c5 \u03c0\u03bd\u03b5\u03c5\u03bc\u03b1\u03c4\u03bf\u03c2 \u03c5\u03bc\u03c9\u03bd \u03b1\u03b4\u03b5\u03bb\u03c6\u03bf\u03b9 \u03b1\u03bc\u03b7\u03bd</span></li><li><span><b>Ephesians 1:2</b></span> - <span>\u03c7\u03b1\u03c1\u03b9\u03c2 \u03c5\u03bc\u03b9\u03bd \u03ba\u03b1\u03b9 \u03b5\u03b9\u03c1\u03b7\u03bd\u03b7 \u03b1\u03c0\u03bf \u03b8\u03b5\u03bf\u03c5 \u03c0\u03b1\u03c4\u03c1\u03bf\u03c2 \u03b7\u03bc\u03c9\u03bd \u03ba\u03b1\u03b9 <B STYLE=\"COLOR: BROWN\">\u039a\u03a5\u03a1\u0399</b>\u03bf\u03c5 <B STYLE=\"COLOR: BROWN\">\u0399\u0397\u03a3\u039f\u03a5</b> <B STYLE=\"COLOR: BROWN\">\u03a7\u03a1\u0399\u03a3\u03a4</b>\u03bf\u03c5</span></li><li><span><b>Ephesians 1:3</b></span> - <span>\u03b5\u03c5\u03bb\u03bf\u03b3\u03b7\u03c4\u03bf\u03c2 \u03bf \u03b8\u03b5\u03bf\u03c2 \u03ba\u03b1\u03b9 \u03c0\u03b1\u03c4\u03b7\u03c1 \u03c4\u03bf\u03c5 <B STYLE=\"COLOR: BROWN\">\u039a\u03a5\u03a1\u0399</b>\u03bf\u03c5 \u03b7\u03bc\u03c9\u03bd <B STYLE=\"COLOR: BROWN\">\u0399\u0397\u03a3\u039f\u03a5</b> <B STYLE=\"COLOR: BROWN\">\u03a7\u03a1\u0399\u03a3\u03a4</b>\u03bf\u03c5 \u03bf \u03b5\u03c5\u03bb\u03bf\u03b3\u03b7\u03c3\u03b1\u03c2 \u03b7\u03bc\u03b1\u03c2 \u03b5\u03bd \u03c0\u03b1\u03c3\u03b7 \u03b5\u03c5\u03bb\u03bf\u03b3\u03b9\u03b1 \u03c0\u03bd\u03b5\u03c5\u03bc\u03b1\u03c4\u03b9\u03ba\u03b7 \u03b5\u03bd \u03c4\u03bf\u03b9\u03c2 \u03b5\u03c0\u03bf\u03c5\u03c1\u03b1\u03bd\u03b9\u03bf\u03b9\u03c2 <B STYLE=\"COLOR: BROWN\">\u03a7\u03a1\u0399\u03a3\u03a4</b>\u03c9</span></li><li><span><b>Ephesians 1:17</b></span> - <span>\u03b9\u03bd\u03b1 \u03bf \u03b8\u03b5\u03bf\u03c2 \u03c4\u03bf\u03c5 <B STYLE=\"COLOR: BROWN\">\u039a\u03a5\u03a1\u0399</b>\u03bf\u03c5 \u03b7\u03bc\u03c9\u03bd <B STYLE=\"COLOR: BROWN\">\u0399\u0397\u03a3\u039f\u03a5</b> <B STYLE=\"COLOR: BROWN\">\u03a7\u03a1\u0399\u03a3\u03a4</b>\u03bf\u03c5 \u03bf \u03c0\u03b1\u03c4\u03b7\u03c1 \u03c4\u03b7\u03c2 \u03b4\u03bf\u03be\u03b7\u03c2 \u03b4\u03c9\u03b7 \u03c5\u03bc\u03b9\u03bd \u03c0\u03bd\u03b5\u03c5\u03bc\u03b1 \u03c3\u03bf\u03c6\u03b9\u03b1\u03c2 \u03ba\u03b1\u03b9 \u03b1\u03c0\u03bf\u03ba\u03b1\u03bb\u03c5\u03c8\u03b5\u03c9\u03c2 \u03b5\u03bd \u03b5\u03c0\u03b9\u03b3\u03bd\u03c9\u03c3\u03b5\u03b9 \u03b1\u03c5\u03c4\u03bf\u03c5</span></li><li><span><b>Ephesians 3:11</b></span> - <span>\u03ba\u03b1\u03c4\u03b1 \u03c0\u03c1\u03bf\u03b8\u03b5\u03c3\u03b9\u03bd \u03c4\u03c9\u03bd \u03b1\u03b9\u03c9\u03bd\u03c9\u03bd \u03b7\u03bd \u03b5\u03c0\u03bf\u03b9\u03b7\u03c3\u03b5\u03bd \u03b5\u03bd <B STYLE=\"COLOR: BROWN\">\u03a7\u03a1\u0399\u03a3\u03a4</b>\u03c9 <B STYLE=\"COLOR: BROWN\">\u0399\u0397\u03a3\u039f\u03a5</b> \u03c4\u03c9 <B STYLE=\"COLOR: BROWN\">\u039a\u03a5\u03a1\u0399</b>\u03c9 \u03b7\u03bc\u03c9\u03bd</span></li><li><span><b>Ephesians 3:14</b></span> - <span>\u03c4\u03bf\u03c5\u03c4\u03bf\u03c5 \u03c7\u03b1\u03c1\u03b9\u03bd \u03ba\u03b1\u03bc\u03c0\u03c4\u03c9 \u03c4\u03b1 \u03b3\u03bf\u03bd\u03b1\u03c4\u03b1 \u03bc\u03bf\u03c5 \u03c0\u03c1\u03bf\u03c2 \u03c4\u03bf\u03bd \u03c0\u03b1\u03c4\u03b5\u03c1\u03b1 \u03c4\u03bf\u03c5 <B STYLE=\"COLOR: BROWN\">\u039a\u03a5\u03a1\u0399</b>\u03bf\u03c5 \u03b7\u03bc\u03c9\u03bd <B STYLE=\"COLOR: BROWN\">\u0399\u0397\u03a3\u039f\u03a5</b> <B STYLE=\"COLOR: BROWN\">\u03a7\u03a1\u0399\u03a3\u03a4</b>\u03bf\u03c5</span></li><li><span><b>Ephesians 5:20</b></span> - <span>\u03b5\u03c5\u03c7\u03b1\u03c1\u03b9\u03c3\u03c4\u03bf\u03c5\u03bd\u03c4\u03b5\u03c2 \u03c0\u03b1\u03bd\u03c4\u03bf\u03c4\u03b5 \u03c5\u03c0\u03b5\u03c1 \u03c0\u03b1\u03bd\u03c4\u03c9\u03bd \u03b5\u03bd \u03bf\u03bd\u03bf\u03bc\u03b1\u03c4\u03b9 \u03c4\u03bf\u03c5 <B STYLE=\"COLOR: BROWN\">\u039a\u03a5\u03a1\u0399</b>\u03bf\u03c5 \u03b7\u03bc\u03c9\u03bd <B STYLE=\"COLOR: BROWN\">\u0399\u0397\u03a3\u039f\u03a5</b> <B STYLE=\"COLOR: BROWN\">\u03a7\u03a1\u0399\u03a3\u03a4</b>\u03bf\u03c5 \u03c4\u03c9 \u03b8\u03b5\u03c9 \u03ba\u03b1\u03b9 \u03c0\u03b1\u03c4\u03c1\u03b9</span></li><li><span><b>Ephesians 6:23</b></span> - <span>\u03b5\u03b9\u03c1\u03b7\u03bd\u03b7 \u03c4\u03bf\u03b9\u03c2 \u03b1\u03b4\u03b5\u03bb\u03c6\u03bf\u03b9\u03c2 \u03ba\u03b1\u03b9 \u03b1\u03b3\u03b1\u03c0\u03b7 \u03bc\u03b5\u03c4\u03b1 \u03c0\u03b9\u03c3\u03c4\u03b5\u03c9\u03c2 \u03b1\u03c0\u03bf \u03b8\u03b5\u03bf\u03c5 \u03c0\u03b1\u03c4\u03c1\u03bf\u03c2 \u03ba\u03b1\u03b9 <B STYLE=\"COLOR: BROWN\">\u039a\u03a5\u03a1\u0399</b>\u03bf\u03c5 <B STYLE=\"COLOR: BROWN\">\u0399\u0397\u03a3\u039f\u03a5</b> <B STYLE=\"COLOR: BROWN\">\u03a7\u03a1\u0399\u03a3\u03a4</b>\u03bf\u03c5</span></li><li><span><b>Ephesians 6:24</b></span> - <span>\u03b7 \u03c7\u03b1\u03c1\u03b9\u03c2 \u03bc\u03b5\u03c4\u03b1 \u03c0\u03b1\u03bd\u03c4\u03c9\u03bd \u03c4\u03c9\u03bd \u03b1\u03b3\u03b1\u03c0\u03c9\u03bd\u03c4\u03c9\u03bd \u03c4\u03bf\u03bd <B STYLE=\"COLOR: BROWN\">\u039a\u03a5\u03a1\u0399</b>\u03bf\u03bd \u03b7\u03bc\u03c9\u03bd <B STYLE=\"COLOR: BROWN\">\u0399\u0397\u03a3\u039f\u03a5</b>\u03bd <B STYLE=\"COLOR: BROWN\">\u03a7\u03a1\u0399\u03a3\u03a4</b>\u03bf\u03bd \u03b5\u03bd \u03b1\u03c6\u03b8\u03b1\u03c1\u03c3\u03b9\u03b1 \u03b1\u03bc\u03b7\u03bd</span></li><li><span><b>Philippians 1:2</b></span> - <span>\u03c7\u03b1\u03c1\u03b9\u03c2 \u03c5\u03bc\u03b9\u03bd \u03ba\u03b1\u03b9 \u03b5\u03b9\u03c1\u03b7\u03bd\u03b7 \u03b1\u03c0\u03bf \u03b8\u03b5\u03bf\u03c5 \u03c0\u03b1\u03c4\u03c1\u03bf\u03c2 \u03b7\u03bc\u03c9\u03bd \u03ba\u03b1\u03b9 <B STYLE=\"COLOR: BROWN\">\u039a\u03a5\u03a1\u0399</b>\u03bf\u03c5 <B STYLE=\"COLOR: BROWN\">\u0399\u0397\u03a3\u039f\u03a5</b> <B STYLE=\"COLOR: BROWN\">\u03a7\u03a1\u0399\u03a3\u03a4</b>\u03bf\u03c5</span></li><li><span><b>Philippians 2:11</b></span> - <span>\u03ba\u03b1\u03b9 \u03c0\u03b1\u03c3\u03b1 \u03b3\u03bb\u03c9\u03c3\u03c3\u03b1 \u03b5\u03be\u03bf\u03bc\u03bf\u03bb\u03bf\u03b3\u03b7\u03c3\u03b7\u03c4\u03b1\u03b9 \u03bf\u03c4\u03b9 <B STYLE=\"COLOR: BROWN\">\u039a\u03a5\u03a1\u0399</b>\u03bf\u03c2 <B STYLE=\"COLOR: BROWN\">\u0399\u0397\u03a3\u039f\u03a5</b>\u03c2 <B STYLE=\"COLOR: BROWN\">\u03a7\u03a1\u0399\u03a3\u03a4</b>\u03bf\u03c2 \u03b5\u03b9\u03c2 \u03b4\u03bf\u03be\u03b1\u03bd \u03b8\u03b5\u03bf\u03c5 \u03c0\u03b1\u03c4\u03c1\u03bf\u03c2</span></li><li><span><b>Philippians 3:8</b></span> - <span>\u03b1\u03bb\u03bb\u03b1 \u03bc\u03b5\u03bd\u03bf\u03c5\u03bd\u03b3\u03b5 \u03ba\u03b1\u03b9 \u03b7\u03b3\u03bf\u03c5\u03bc\u03b1\u03b9 \u03c0\u03b1\u03bd\u03c4\u03b1 \u03b6\u03b7\u03bc\u03b9\u03b1\u03bd \u03b5\u03b9\u03bd\u03b1\u03b9 \u03b4\u03b9\u03b1 \u03c4\u03bf \u03c5\u03c0\u03b5\u03c1\u03b5\u03c7\u03bf\u03bd \u03c4\u03b7\u03c2 \u03b3\u03bd\u03c9\u03c3\u03b5\u03c9\u03c2 <B STYLE=\"COLOR: BROWN\">\u03a7\u03a1\u0399\u03a3\u03a4</b>\u03bf\u03c5 <B STYLE=\"COLOR: BROWN\">\u0399\u0397\u03a3\u039f\u03a5</b> \u03c4\u03bf\u03c5 <B STYLE=\"COLOR: BROWN\">\u039a\u03a5\u03a1\u0399</b>\u03bf\u03c5 \u03bc\u03bf\u03c5 \u03b4\u03b9 \u03bf\u03bd \u03c4\u03b1 \u03c0\u03b1\u03bd\u03c4\u03b1 \u03b5\u03b6\u03b7\u03bc\u03b9\u03c9\u03b8\u03b7\u03bd \u03ba\u03b1\u03b9 \u03b7\u03b3\u03bf\u03c5\u03bc\u03b1\u03b9 \u03c3\u03ba\u03c5\u03b2\u03b1\u03bb\u03b1 \u03b5\u03b9\u03bd\u03b1\u03b9 \u03b9\u03bd\u03b1 <B STYLE=\"COLOR: BROWN\">\u03a7\u03a1\u0399\u03a3\u03a4</b>\u03bf\u03bd \u03ba\u03b5\u03c1\u03b4\u03b7\u03c3\u03c9</span></li><li><span><b>Philippians 3:20</b></span> - <span>\u03b7\u03bc\u03c9\u03bd \u03b3\u03b1\u03c1 \u03c4\u03bf \u03c0\u03bf\u03bb\u03b9\u03c4\u03b5\u03c5\u03bc\u03b1 \u03b5\u03bd \u03bf\u03c5\u03c1\u03b1\u03bd\u03bf\u03b9\u03c2 \u03c5\u03c0\u03b1\u03c1\u03c7\u03b5\u03b9 \u03b5\u03be \u03bf\u03c5 \u03ba\u03b1\u03b9 \u03c3\u03c9\u03c4\u03b7\u03c1\u03b1 \u03b1\u03c0\u03b5\u03ba\u03b4\u03b5\u03c7\u03bf\u03bc\u03b5\u03b8\u03b1 <B STYLE=\"COLOR: BROWN\">\u039a\u03a5\u03a1\u0399</b>\u03bf\u03bd <B STYLE=\"COLOR: BROWN\">\u0399\u0397\u03a3\u039f\u03a5</b>\u03bd <B STYLE=\"COLOR: BROWN\">\u03a7\u03a1\u0399\u03a3\u03a4</b>\u03bf\u03bd</span></li><li><span><b>Philippians 4:23</b></span> - <span>\u03b7 \u03c7\u03b1\u03c1\u03b9\u03c2 \u03c4\u03bf\u03c5 <B STYLE=\"COLOR: BROWN\">\u039a\u03a5\u03a1\u0399</b>\u03bf\u03c5 \u03b7\u03bc\u03c9\u03bd <B STYLE=\"COLOR: BROWN\">\u0399\u0397\u03a3\u039f\u03a5</b> <B STYLE=\"COLOR: BROWN\">\u03a7\u03a1\u0399\u03a3\u03a4</b>\u03bf\u03c5 \u03bc\u03b5\u03c4\u03b1 \u03c0\u03b1\u03bd\u03c4\u03c9\u03bd \u03c5\u03bc\u03c9\u03bd \u03b1\u03bc\u03b7\u03bd</span></li><li><span><b>Colossians 1:2</b></span> - <span>\u03c4\u03bf\u03b9\u03c2 \u03b5\u03bd \u03ba\u03bf\u03bb\u03b1\u03c3\u03c3\u03b1\u03b9\u03c2 \u03b1\u03b3\u03b9\u03bf\u03b9\u03c2 \u03ba\u03b1\u03b9 \u03c0\u03b9\u03c3\u03c4\u03bf\u03b9\u03c2 \u03b1\u03b4\u03b5\u03bb\u03c6\u03bf\u03b9\u03c2 \u03b5\u03bd <B STYLE=\"COLOR: BROWN\">\u03a7\u03a1\u0399\u03a3\u03a4</b>\u03c9 \u03c7\u03b1\u03c1\u03b9\u03c2 \u03c5\u03bc\u03b9\u03bd \u03ba\u03b1\u03b9 \u03b5\u03b9\u03c1\u03b7\u03bd\u03b7 \u03b1\u03c0\u03bf \u03b8\u03b5\u03bf\u03c5 \u03c0\u03b1\u03c4\u03c1\u03bf\u03c2 \u03b7\u03bc\u03c9\u03bd \u03ba\u03b1\u03b9 <B STYLE=\"COLOR: BROWN\">\u039a\u03a5\u03a1\u0399</b>\u03bf\u03c5 <B STYLE=\"COLOR: BROWN\">\u0399\u0397\u03a3\u039f\u03a5</b> <B STYLE=\"COLOR: BROWN\">\u03a7\u03a1\u0399\u03a3\u03a4</b>\u03bf\u03c5</span></li><li><span><b>Colossians 1:3</b></span> - <span>\u03b5\u03c5\u03c7\u03b1\u03c1\u03b9\u03c3\u03c4\u03bf\u03c5\u03bc\u03b5\u03bd \u03c4\u03c9 \u03b8\u03b5\u03c9 \u03ba\u03b1\u03b9 \u03c0\u03b1\u03c4\u03c1\u03b9 \u03c4\u03bf\u03c5 <B STYLE=\"COLOR: BROWN\">\u039a\u03a5\u03a1\u0399</b>\u03bf\u03c5 \u03b7\u03bc\u03c9\u03bd <B STYLE=\"COLOR: BROWN\">\u0399\u0397\u03a3\u039f\u03a5</b> <B STYLE=\"COLOR: BROWN\">\u03a7\u03a1\u0399\u03a3\u03a4</b>\u03bf\u03c5 \u03c0\u03b1\u03bd\u03c4\u03bf\u03c4\u03b5 \u03c0\u03b5\u03c1\u03b9 \u03c5\u03bc\u03c9\u03bd \u03c0\u03c1\u03bf\u03c3\u03b5\u03c5\u03c7\u03bf\u03bc\u03b5\u03bd\u03bf\u03b9</span></li><li><span><b>Colossians 2:6</b></span> - <span>\u03c9\u03c2 \u03bf\u03c5\u03bd \u03c0\u03b1\u03c1\u03b5\u03bb\u03b1\u03b2\u03b5\u03c4\u03b5 \u03c4\u03bf\u03bd <B STYLE=\"COLOR: BROWN\">\u03a7\u03a1\u0399\u03a3\u03a4</b>\u03bf\u03bd <B STYLE=\"COLOR: BROWN\">\u0399\u0397\u03a3\u039f\u03a5</b>\u03bd \u03c4\u03bf\u03bd <B STYLE=\"COLOR: BROWN\">\u039a\u03a5\u03a1\u0399</b>\u03bf\u03bd \u03b5\u03bd \u03b1\u03c5\u03c4\u03c9 \u03c0\u03b5\u03c1\u03b9\u03c0\u03b1\u03c4\u03b5\u03b9\u03c4\u03b5</span></li><li><span><b>1 Thessalonians 1:1</b></span> - <span>\u03c0\u03b1\u03c5\u03bb\u03bf\u03c2 \u03ba\u03b1\u03b9 \u03c3\u03b9\u03bb\u03bf\u03c5\u03b1\u03bd\u03bf\u03c2 \u03ba\u03b1\u03b9 \u03c4\u03b9\u03bc\u03bf\u03b8\u03b5\u03bf\u03c2 \u03c4\u03b7 \u03b5\u03ba\u03ba\u03bb\u03b7\u03c3\u03b9\u03b1 \u03b8\u03b5\u03c3\u03c3\u03b1\u03bb\u03bf\u03bd\u03b9\u03ba\u03b5\u03c9\u03bd \u03b5\u03bd \u03b8\u03b5\u03c9 \u03c0\u03b1\u03c4\u03c1\u03b9 \u03ba\u03b1\u03b9 <B STYLE=\"COLOR: BROWN\">\u039a\u03a5\u03a1\u0399</b>\u03c9 <B STYLE=\"COLOR: BROWN\">\u0399\u0397\u03a3\u039f\u03a5</b> <B STYLE=\"COLOR: BROWN\">\u03a7\u03a1\u0399\u03a3\u03a4</b>\u03c9 \u03c7\u03b1\u03c1\u03b9\u03c2 \u03c5\u03bc\u03b9\u03bd \u03ba\u03b1\u03b9 \u03b5\u03b9\u03c1\u03b7\u03bd\u03b7 \u03b1\u03c0\u03bf \u03b8\u03b5\u03bf\u03c5 \u03c0\u03b1\u03c4\u03c1\u03bf\u03c2 \u03b7\u03bc\u03c9\u03bd \u03ba\u03b1\u03b9 <B STYLE=\"COLOR: BROWN\">\u039a\u03a5\u03a1\u0399</b>\u03bf\u03c5 <B STYLE=\"COLOR: BROWN\">\u0399\u0397\u03a3\u039f\u03a5</b> <B STYLE=\"COLOR: BROWN\">\u03a7\u03a1\u0399\u03a3\u03a4</b>\u03bf\u03c5</span></li><li><span><b>1 Thessalonians 1:3</b></span> - <span>\u03b1\u03b4\u03b9\u03b1\u03bb\u03b5\u03b9\u03c0\u03c4\u03c9\u03c2 \u03bc\u03bd\u03b7\u03bc\u03bf\u03bd\u03b5\u03c5\u03bf\u03bd\u03c4\u03b5\u03c2 \u03c5\u03bc\u03c9\u03bd \u03c4\u03bf\u03c5 \u03b5\u03c1\u03b3\u03bf\u03c5 \u03c4\u03b7\u03c2 \u03c0\u03b9\u03c3\u03c4\u03b5\u03c9\u03c2 \u03ba\u03b1\u03b9 \u03c4\u03bf\u03c5 \u03ba\u03bf\u03c0\u03bf\u03c5 \u03c4\u03b7\u03c2 \u03b1\u03b3\u03b1\u03c0\u03b7\u03c2 \u03ba\u03b1\u03b9 \u03c4\u03b7\u03c2 \u03c5\u03c0\u03bf\u03bc\u03bf\u03bd\u03b7\u03c2 \u03c4\u03b7\u03c2 \u03b5\u03bb\u03c0\u03b9\u03b4\u03bf\u03c2 \u03c4\u03bf\u03c5 <B STYLE=\"COLOR: BROWN\">\u039a\u03a5\u03a1\u0399</b>\u03bf\u03c5 \u03b7\u03bc\u03c9\u03bd <B STYLE=\"COLOR: BROWN\">\u0399\u0397\u03a3\u039f\u03a5</b> <B STYLE=\"COLOR: BROWN\">\u03a7\u03a1\u0399\u03a3\u03a4</b>\u03bf\u03c5 \u03b5\u03bc\u03c0\u03c1\u03bf\u03c3\u03b8\u03b5\u03bd \u03c4\u03bf\u03c5 \u03b8\u03b5\u03bf\u03c5 \u03ba\u03b1\u03b9 \u03c0\u03b1\u03c4\u03c1\u03bf\u03c2 \u03b7\u03bc\u03c9\u03bd</span></li><li><span><b>1 Thessalonians 2:19</b></span> - <span>\u03c4\u03b9\u03c2 \u03b3\u03b1\u03c1 \u03b7\u03bc\u03c9\u03bd \u03b5\u03bb\u03c0\u03b9\u03c2 \u03b7 \u03c7\u03b1\u03c1\u03b1 \u03b7 \u03c3\u03c4\u03b5\u03c6\u03b1\u03bd\u03bf\u03c2 \u03ba\u03b1\u03c5\u03c7\u03b7\u03c3\u03b5\u03c9\u03c2 \u03b7 \u03bf\u03c5\u03c7\u03b9 \u03ba\u03b1\u03b9 \u03c5\u03bc\u03b5\u03b9\u03c2 \u03b5\u03bc\u03c0\u03c1\u03bf\u03c3\u03b8\u03b5\u03bd \u03c4\u03bf\u03c5 <B STYLE=\"COLOR: BROWN\">\u039a\u03a5\u03a1\u0399</b>\u03bf\u03c5 \u03b7\u03bc\u03c9\u03bd <B STYLE=\"COLOR: BROWN\">\u0399\u0397\u03a3\u039f\u03a5</b> <B STYLE=\"COLOR: BROWN\">\u03a7\u03a1\u0399\u03a3\u03a4</b>\u03bf\u03c5 \u03b5\u03bd \u03c4\u03b7 \u03b1\u03c5\u03c4\u03bf\u03c5 \u03c0\u03b1\u03c1\u03bf\u03c5\u03c3\u03b9\u03b1</span></li><li><span><b>1 Thessalonians 3:11</b></span> - <span>\u03b1\u03c5\u03c4\u03bf\u03c2 \u03b4\u03b5 \u03bf \u03b8\u03b5\u03bf\u03c2 \u03ba\u03b1\u03b9 \u03c0\u03b1\u03c4\u03b7\u03c1 \u03b7\u03bc\u03c9\u03bd \u03ba\u03b1\u03b9 \u03bf <B STYLE=\"COLOR: BROWN\">\u039a\u03a5\u03a1\u0399</b>\u03bf\u03c2 \u03b7\u03bc\u03c9\u03bd <B STYLE=\"COLOR: BROWN\">\u0399\u0397\u03a3\u039f\u03a5</b>\u03c2 <B STYLE=\"COLOR: BROWN\">\u03a7\u03a1\u0399\u03a3\u03a4</b>\u03bf\u03c2 \u03ba\u03b1\u03c4\u03b5\u03c5\u03b8\u03c5\u03bd\u03b1\u03b9 \u03c4\u03b7\u03bd \u03bf\u03b4\u03bf\u03bd \u03b7\u03bc\u03c9\u03bd \u03c0\u03c1\u03bf\u03c2 \u03c5\u03bc\u03b1\u03c2</span></li><li><span><b>1 Thessalonians 3:13</b></span> - <span>\u03b5\u03b9\u03c2 \u03c4\u03bf \u03c3\u03c4\u03b7\u03c1\u03b9\u03be\u03b1\u03b9 \u03c5\u03bc\u03c9\u03bd \u03c4\u03b1\u03c2 \u03ba\u03b1\u03c1\u03b4\u03b9\u03b1\u03c2 \u03b1\u03bc\u03b5\u03bc\u03c0\u03c4\u03bf\u03c5\u03c2 \u03b5\u03bd \u03b1\u03b3\u03b9\u03c9\u03c3\u03c5\u03bd\u03b7 \u03b5\u03bc\u03c0\u03c1\u03bf\u03c3\u03b8\u03b5\u03bd \u03c4\u03bf\u03c5 \u03b8\u03b5\u03bf\u03c5 \u03ba\u03b1\u03b9 \u03c0\u03b1\u03c4\u03c1\u03bf\u03c2 \u03b7\u03bc\u03c9\u03bd \u03b5\u03bd \u03c4\u03b7 \u03c0\u03b1\u03c1\u03bf\u03c5\u03c3\u03b9\u03b1 \u03c4\u03bf\u03c5 <B STYLE=\"COLOR: BROWN\">\u039a\u03a5\u03a1\u0399</b>\u03bf\u03c5 \u03b7\u03bc\u03c9\u03bd <B STYLE=\"COLOR: BROWN\">\u0399\u0397\u03a3\u039f\u03a5</b> <B STYLE=\"COLOR: BROWN\">\u03a7\u03a1\u0399\u03a3\u03a4</b>\u03bf\u03c5 \u03bc\u03b5\u03c4\u03b1 \u03c0\u03b1\u03bd\u03c4\u03c9\u03bd \u03c4\u03c9\u03bd \u03b1\u03b3\u03b9\u03c9\u03bd \u03b1\u03c5\u03c4\u03bf\u03c5</span></li><li><span><b>1 Thessalonians 5:9</b></span> - <span>\u03bf\u03c4\u03b9 \u03bf\u03c5\u03ba \u03b5\u03b8\u03b5\u03c4\u03bf \u03b7\u03bc\u03b1\u03c2 \u03bf \u03b8\u03b5\u03bf\u03c2 \u03b5\u03b9\u03c2 \u03bf\u03c1\u03b3\u03b7\u03bd \u03b1\u03bb\u03bb \u03b5\u03b9\u03c2 \u03c0\u03b5\u03c1\u03b9\u03c0\u03bf\u03b9\u03b7\u03c3\u03b9\u03bd \u03c3\u03c9\u03c4\u03b7\u03c1\u03b9\u03b1\u03c2 \u03b4\u03b9\u03b1 \u03c4\u03bf\u03c5 <B STYLE=\"COLOR: BROWN\">\u039a\u03a5\u03a1\u0399</b>\u03bf\u03c5 \u03b7\u03bc\u03c9\u03bd <B STYLE=\"COLOR: BROWN\">\u0399\u0397\u03a3\u039f\u03a5</b> <B STYLE=\"COLOR: BROWN\">\u03a7\u03a1\u0399\u03a3\u03a4</b>\u03bf\u03c5</span></li><li><span><b>1 Thessalonians 5:23</b></span> - <span>\u03b1\u03c5\u03c4\u03bf\u03c2 \u03b4\u03b5 \u03bf \u03b8\u03b5\u03bf\u03c2 \u03c4\u03b7\u03c2 \u03b5\u03b9\u03c1\u03b7\u03bd\u03b7\u03c2 \u03b1\u03b3\u03b9\u03b1\u03c3\u03b1\u03b9 \u03c5\u03bc\u03b1\u03c2 \u03bf\u03bb\u03bf\u03c4\u03b5\u03bb\u03b5\u03b9\u03c2 \u03ba\u03b1\u03b9 \u03bf\u03bb\u03bf\u03ba\u03bb\u03b7\u03c1\u03bf\u03bd \u03c5\u03bc\u03c9\u03bd \u03c4\u03bf \u03c0\u03bd\u03b5\u03c5\u03bc\u03b1 \u03ba\u03b1\u03b9 \u03b7 \u03c8\u03c5\u03c7\u03b7 \u03ba\u03b1\u03b9 \u03c4\u03bf \u03c3\u03c9\u03bc\u03b1 \u03b1\u03bc\u03b5\u03bc\u03c0\u03c4\u03c9\u03c2 \u03b5\u03bd \u03c4\u03b7 \u03c0\u03b1\u03c1\u03bf\u03c5\u03c3\u03b9\u03b1 \u03c4\u03bf\u03c5 <B STYLE=\"COLOR: BROWN\">\u039a\u03a5\u03a1\u0399</b>\u03bf\u03c5 \u03b7\u03bc\u03c9\u03bd <B STYLE=\"COLOR: BROWN\">\u0399\u0397\u03a3\u039f\u03a5</b> <B STYLE=\"COLOR: BROWN\">\u03a7\u03a1\u0399\u03a3\u03a4</b>\u03bf\u03c5 \u03c4\u03b7\u03c1\u03b7\u03b8\u03b5\u03b9\u03b7</span></li><li><span><b>1 Thessalonians 5:28</b></span> - <span>\u03b7 \u03c7\u03b1\u03c1\u03b9\u03c2 \u03c4\u03bf\u03c5 <B STYLE=\"COLOR: BROWN\">\u039a\u03a5\u03a1\u0399</b>\u03bf\u03c5 \u03b7\u03bc\u03c9\u03bd <B STYLE=\"COLOR: BROWN\">\u0399\u0397\u03a3\u039f\u03a5</b> <B STYLE=\"COLOR: BROWN\">\u03a7\u03a1\u0399\u03a3\u03a4</b>\u03bf\u03c5 \u03bc\u03b5\u03b8 \u03c5\u03bc\u03c9\u03bd \u03b1\u03bc\u03b7\u03bd</span></li><li><span><b>2 Thessalonians 1:1</b></span> - <span>\u03c0\u03b1\u03c5\u03bb\u03bf\u03c2 \u03ba\u03b1\u03b9 \u03c3\u03b9\u03bb\u03bf\u03c5\u03b1\u03bd\u03bf\u03c2 \u03ba\u03b1\u03b9 \u03c4\u03b9\u03bc\u03bf\u03b8\u03b5\u03bf\u03c2 \u03c4\u03b7 \u03b5\u03ba\u03ba\u03bb\u03b7\u03c3\u03b9\u03b1 \u03b8\u03b5\u03c3\u03c3\u03b1\u03bb\u03bf\u03bd\u03b9\u03ba\u03b5\u03c9\u03bd \u03b5\u03bd \u03b8\u03b5\u03c9 \u03c0\u03b1\u03c4\u03c1\u03b9 \u03b7\u03bc\u03c9\u03bd \u03ba\u03b1\u03b9 <B STYLE=\"COLOR: BROWN\">\u039a\u03a5\u03a1\u0399</b>\u03c9 <B STYLE=\"COLOR: BROWN\">\u0399\u0397\u03a3\u039f\u03a5</b> <B STYLE=\"COLOR: BROWN\">\u03a7\u03a1\u0399\u03a3\u03a4</b>\u03c9</span></li><li><span><b>2 Thessalonians 1:2</b></span> - <span>\u03c7\u03b1\u03c1\u03b9\u03c2 \u03c5\u03bc\u03b9\u03bd \u03ba\u03b1\u03b9 \u03b5\u03b9\u03c1\u03b7\u03bd\u03b7 \u03b1\u03c0\u03bf \u03b8\u03b5\u03bf\u03c5 \u03c0\u03b1\u03c4\u03c1\u03bf\u03c2 \u03b7\u03bc\u03c9\u03bd \u03ba\u03b1\u03b9 <B STYLE=\"COLOR: BROWN\">\u039a\u03a5\u03a1\u0399</b>\u03bf\u03c5 <B STYLE=\"COLOR: BROWN\">\u0399\u0397\u03a3\u039f\u03a5</b> <B STYLE=\"COLOR: BROWN\">\u03a7\u03a1\u0399\u03a3\u03a4</b>\u03bf\u03c5</span></li><li><span><b>2 Thessalonians 1:8</b></span> - <span>\u03b5\u03bd \u03c0\u03c5\u03c1\u03b9 \u03c6\u03bb\u03bf\u03b3\u03bf\u03c2 \u03b4\u03b9\u03b4\u03bf\u03bd\u03c4\u03bf\u03c2 \u03b5\u03ba\u03b4\u03b9\u03ba\u03b7\u03c3\u03b9\u03bd \u03c4\u03bf\u03b9\u03c2 \u03bc\u03b7 \u03b5\u03b9\u03b4\u03bf\u03c3\u03b9\u03bd \u03b8\u03b5\u03bf\u03bd \u03ba\u03b1\u03b9 \u03c4\u03bf\u03b9\u03c2 \u03bc\u03b7 \u03c5\u03c0\u03b1\u03ba\u03bf\u03c5\u03bf\u03c5\u03c3\u03b9\u03bd \u03c4\u03c9 \u03b5\u03c5\u03b1\u03b3\u03b3\u03b5\u03bb\u03b9\u03c9 \u03c4\u03bf\u03c5 <B STYLE=\"COLOR: BROWN\">\u039a\u03a5\u03a1\u0399</b>\u03bf\u03c5 \u03b7\u03bc\u03c9\u03bd <B STYLE=\"COLOR: BROWN\">\u0399\u0397\u03a3\u039f\u03a5</b> <B STYLE=\"COLOR: BROWN\">\u03a7\u03a1\u0399\u03a3\u03a4</b>\u03bf\u03c5</span></li><li><span><b>2 Thessalonians 1:12</b></span> - <span>\u03bf\u03c0\u03c9\u03c2 \u03b5\u03bd\u03b4\u03bf\u03be\u03b1\u03c3\u03b8\u03b7 \u03c4\u03bf \u03bf\u03bd\u03bf\u03bc\u03b1 \u03c4\u03bf\u03c5 <B STYLE=\"COLOR: BROWN\">\u039a\u03a5\u03a1\u0399</b>\u03bf\u03c5 \u03b7\u03bc\u03c9\u03bd <B STYLE=\"COLOR: BROWN\">\u0399\u0397\u03a3\u039f\u03a5</b> <B STYLE=\"COLOR: BROWN\">\u03a7\u03a1\u0399\u03a3\u03a4</b>\u03bf\u03c5 \u03b5\u03bd \u03c5\u03bc\u03b9\u03bd \u03ba\u03b1\u03b9 \u03c5\u03bc\u03b5\u03b9\u03c2 \u03b5\u03bd \u03b1\u03c5\u03c4\u03c9 \u03ba\u03b1\u03c4\u03b1 \u03c4\u03b7\u03bd \u03c7\u03b1\u03c1\u03b9\u03bd \u03c4\u03bf\u03c5 \u03b8\u03b5\u03bf\u03c5 \u03b7\u03bc\u03c9\u03bd \u03ba\u03b1\u03b9 <B STYLE=\"COLOR: BROWN\">\u039a\u03a5\u03a1\u0399</b>\u03bf\u03c5 <B STYLE=\"COLOR: BROWN\">\u0399\u0397\u03a3\u039f\u03a5</b> <B STYLE=\"COLOR: BROWN\">\u03a7\u03a1\u0399\u03a3\u03a4</b>\u03bf\u03c5</span></li><li><span><b>2 Thessalonians 2:1</b></span> - <span>\u03b5\u03c1\u03c9\u03c4\u03c9\u03bc\u03b5\u03bd \u03b4\u03b5 \u03c5\u03bc\u03b1\u03c2 \u03b1\u03b4\u03b5\u03bb\u03c6\u03bf\u03b9 \u03c5\u03c0\u03b5\u03c1 \u03c4\u03b7\u03c2 \u03c0\u03b1\u03c1\u03bf\u03c5\u03c3\u03b9\u03b1\u03c2 \u03c4\u03bf\u03c5 <B STYLE=\"COLOR: BROWN\">\u039a\u03a5\u03a1\u0399</b>\u03bf\u03c5 \u03b7\u03bc\u03c9\u03bd <B STYLE=\"COLOR: BROWN\">\u0399\u0397\u03a3\u039f\u03a5</b> <B STYLE=\"COLOR: BROWN\">\u03a7\u03a1\u0399\u03a3\u03a4</b>\u03bf\u03c5 \u03ba\u03b1\u03b9 \u03b7\u03bc\u03c9\u03bd \u03b5\u03c0\u03b9\u03c3\u03c5\u03bd\u03b1\u03b3\u03c9\u03b3\u03b7\u03c2 \u03b5\u03c0 \u03b1\u03c5\u03c4\u03bf\u03bd</span></li><li><span><b>2 Thessalonians 2:14</b></span> - <span>\u03b5\u03b9\u03c2 \u03bf \u03b5\u03ba\u03b1\u03bb\u03b5\u03c3\u03b5\u03bd \u03c5\u03bc\u03b1\u03c2 \u03b4\u03b9\u03b1 \u03c4\u03bf\u03c5 \u03b5\u03c5\u03b1\u03b3\u03b3\u03b5\u03bb\u03b9\u03bf\u03c5 \u03b7\u03bc\u03c9\u03bd \u03b5\u03b9\u03c2 \u03c0\u03b5\u03c1\u03b9\u03c0\u03bf\u03b9\u03b7\u03c3\u03b9\u03bd \u03b4\u03bf\u03be\u03b7\u03c2 \u03c4\u03bf\u03c5 <B STYLE=\"COLOR: BROWN\">\u039a\u03a5\u03a1\u0399</b>\u03bf\u03c5 \u03b7\u03bc\u03c9\u03bd <B STYLE=\"COLOR: BROWN\">\u0399\u0397\u03a3\u039f\u03a5</b> <B STYLE=\"COLOR: BROWN\">\u03a7\u03a1\u0399\u03a3\u03a4</b>\u03bf\u03c5</span></li><li><span><b>2 Thessalonians 2:16</b></span> - <span>\u03b1\u03c5\u03c4\u03bf\u03c2 \u03b4\u03b5 \u03bf <B STYLE=\"COLOR: BROWN\">\u039a\u03a5\u03a1\u0399</b>\u03bf\u03c2 \u03b7\u03bc\u03c9\u03bd <B STYLE=\"COLOR: BROWN\">\u0399\u0397\u03a3\u039f\u03a5</b>\u03c2 <B STYLE=\"COLOR: BROWN\">\u03a7\u03a1\u0399\u03a3\u03a4</b>\u03bf\u03c2 \u03ba\u03b1\u03b9 \u03bf \u03b8\u03b5\u03bf\u03c2 \u03ba\u03b1\u03b9 \u03c0\u03b1\u03c4\u03b7\u03c1 \u03b7\u03bc\u03c9\u03bd \u03bf \u03b1\u03b3\u03b1\u03c0\u03b7\u03c3\u03b1\u03c2 \u03b7\u03bc\u03b1\u03c2 \u03ba\u03b1\u03b9 \u03b4\u03bf\u03c5\u03c2 \u03c0\u03b1\u03c1\u03b1\u03ba\u03bb\u03b7\u03c3\u03b9\u03bd \u03b1\u03b9\u03c9\u03bd\u03b9\u03b1\u03bd \u03ba\u03b1\u03b9 \u03b5\u03bb\u03c0\u03b9\u03b4\u03b1 \u03b1\u03b3\u03b1\u03b8\u03b7\u03bd \u03b5\u03bd \u03c7\u03b1\u03c1\u03b9\u03c4\u03b9</span></li><li><span><b>2 Thessalonians 3:6</b></span> - <span>\u03c0\u03b1\u03c1\u03b1\u03b3\u03b3\u03b5\u03bb\u03bb\u03bf\u03bc\u03b5\u03bd \u03b4\u03b5 \u03c5\u03bc\u03b9\u03bd \u03b1\u03b4\u03b5\u03bb\u03c6\u03bf\u03b9 \u03b5\u03bd \u03bf\u03bd\u03bf\u03bc\u03b1\u03c4\u03b9 \u03c4\u03bf\u03c5 <B STYLE=\"COLOR: BROWN\">\u039a\u03a5\u03a1\u0399</b>\u03bf\u03c5 \u03b7\u03bc\u03c9\u03bd <B STYLE=\"COLOR: BROWN\">\u0399\u0397\u03a3\u039f\u03a5</b> <B STYLE=\"COLOR: BROWN\">\u03a7\u03a1\u0399\u03a3\u03a4</b>\u03bf\u03c5 \u03c3\u03c4\u03b5\u03bb\u03bb\u03b5\u03c3\u03b8\u03b1\u03b9 \u03c5\u03bc\u03b1\u03c2 \u03b1\u03c0\u03bf \u03c0\u03b1\u03bd\u03c4\u03bf\u03c2 \u03b1\u03b4\u03b5\u03bb\u03c6\u03bf\u03c5 \u03b1\u03c4\u03b1\u03ba\u03c4\u03c9\u03c2 \u03c0\u03b5\u03c1\u03b9\u03c0\u03b1\u03c4\u03bf\u03c5\u03bd\u03c4\u03bf\u03c2 \u03ba\u03b1\u03b9 \u03bc\u03b7 \u03ba\u03b1\u03c4\u03b1 \u03c4\u03b7\u03bd \u03c0\u03b1\u03c1\u03b1\u03b4\u03bf\u03c3\u03b9\u03bd \u03b7\u03bd \u03c0\u03b1\u03c1\u03b5\u03bb\u03b1\u03b2\u03b5\u03bd \u03c0\u03b1\u03c1 \u03b7\u03bc\u03c9\u03bd</span></li><li><span><b>2 Thessalonians 3:12</b></span> - <span>\u03c4\u03bf\u03b9\u03c2 \u03b4\u03b5 \u03c4\u03bf\u03b9\u03bf\u03c5\u03c4\u03bf\u03b9\u03c2 \u03c0\u03b1\u03c1\u03b1\u03b3\u03b3\u03b5\u03bb\u03bb\u03bf\u03bc\u03b5\u03bd \u03ba\u03b1\u03b9 \u03c0\u03b1\u03c1\u03b1\u03ba\u03b1\u03bb\u03bf\u03c5\u03bc\u03b5\u03bd \u03b4\u03b9\u03b1 \u03c4\u03bf\u03c5 <B STYLE=\"COLOR: BROWN\">\u039a\u03a5\u03a1\u0399</b>\u03bf\u03c5 \u03b7\u03bc\u03c9\u03bd <B STYLE=\"COLOR: BROWN\">\u0399\u0397\u03a3\u039f\u03a5</b> <B STYLE=\"COLOR: BROWN\">\u03a7\u03a1\u0399\u03a3\u03a4</b>\u03bf\u03c5 \u03b9\u03bd\u03b1 \u03bc\u03b5\u03c4\u03b1 \u03b7\u03c3\u03c5\u03c7\u03b9\u03b1\u03c2 \u03b5\u03c1\u03b3\u03b1\u03b6\u03bf\u03bc\u03b5\u03bd\u03bf\u03b9 \u03c4\u03bf\u03bd \u03b5\u03b1\u03c5\u03c4\u03c9\u03bd \u03b1\u03c1\u03c4\u03bf\u03bd \u03b5\u03c3\u03b8\u03b9\u03c9\u03c3\u03b9\u03bd</span></li><li><span><b>2 Thessalonians 3:18</b></span> - <span>\u03b7 \u03c7\u03b1\u03c1\u03b9\u03c2 \u03c4\u03bf\u03c5 <B STYLE=\"COLOR: BROWN\">\u039a\u03a5\u03a1\u0399</b>\u03bf\u03c5 \u03b7\u03bc\u03c9\u03bd <B STYLE=\"COLOR: BROWN\">\u0399\u0397\u03a3\u039f\u03a5</b> <B STYLE=\"COLOR: BROWN\">\u03a7\u03a1\u0399\u03a3\u03a4</b>\u03bf\u03c5 \u03bc\u03b5\u03c4\u03b1 \u03c0\u03b1\u03bd\u03c4\u03c9\u03bd \u03c5\u03bc\u03c9\u03bd \u03b1\u03bc\u03b7\u03bd</span></li><li><span><b>1 Timothy 1:1</b></span> - <span>\u03c0\u03b1\u03c5\u03bb\u03bf\u03c2 \u03b1\u03c0\u03bf\u03c3\u03c4\u03bf\u03bb\u03bf\u03c2 <B STYLE=\"COLOR: BROWN\">\u0399\u0397\u03a3\u039f\u03a5</b> <B STYLE=\"COLOR: BROWN\">\u03a7\u03a1\u0399\u03a3\u03a4</b>\u03bf\u03c5 \u03ba\u03b1\u03c4 \u03b5\u03c0\u03b9\u03c4\u03b1\u03b3\u03b7\u03bd \u03b8\u03b5\u03bf\u03c5 \u03c3\u03c9\u03c4\u03b7\u03c1\u03bf\u03c2 \u03b7\u03bc\u03c9\u03bd \u03ba\u03b1\u03b9 <B STYLE=\"COLOR: BROWN\">\u039a\u03a5\u03a1\u0399</b>\u03bf\u03c5 <B STYLE=\"COLOR: BROWN\">\u0399\u0397\u03a3\u039f\u03a5</b> <B STYLE=\"COLOR: BROWN\">\u03a7\u03a1\u0399\u03a3\u03a4</b>\u03bf\u03c5 \u03c4\u03b7\u03c2 \u03b5\u03bb\u03c0\u03b9\u03b4\u03bf\u03c2 \u03b7\u03bc\u03c9\u03bd</span></li><li><span><b>1 Timothy 1:2</b></span> - <span>\u03c4\u03b9\u03bc\u03bf\u03b8\u03b5\u03c9 \u03b3\u03bd\u03b7\u03c3\u03b9\u03c9 \u03c4\u03b5\u03ba\u03bd\u03c9 \u03b5\u03bd \u03c0\u03b9\u03c3\u03c4\u03b5\u03b9 \u03c7\u03b1\u03c1\u03b9\u03c2 \u03b5\u03bb\u03b5\u03bf\u03c2 \u03b5\u03b9\u03c1\u03b7\u03bd\u03b7 \u03b1\u03c0\u03bf \u03b8\u03b5\u03bf\u03c5 \u03c0\u03b1\u03c4\u03c1\u03bf\u03c2 \u03b7\u03bc\u03c9\u03bd \u03ba\u03b1\u03b9 <B STYLE=\"COLOR: BROWN\">\u03a7\u03a1\u0399\u03a3\u03a4</b>\u03bf\u03c5 <B STYLE=\"COLOR: BROWN\">\u0399\u0397\u03a3\u039f\u03a5</b> \u03c4\u03bf\u03c5 <B STYLE=\"COLOR: BROWN\">\u039a\u03a5\u03a1\u0399</b>\u03bf\u03c5 \u03b7\u03bc\u03c9\u03bd</span></li><li><span><b>1 Timothy 1:12</b></span> - <span>\u03ba\u03b1\u03b9 \u03c7\u03b1\u03c1\u03b9\u03bd \u03b5\u03c7\u03c9 \u03c4\u03c9 \u03b5\u03bd\u03b4\u03c5\u03bd\u03b1\u03bc\u03c9\u03c3\u03b1\u03bd\u03c4\u03b9 \u03bc\u03b5 <B STYLE=\"COLOR: BROWN\">\u03a7\u03a1\u0399\u03a3\u03a4</b>\u03c9 <B STYLE=\"COLOR: BROWN\">\u0399\u0397\u03a3\u039f\u03a5</b> \u03c4\u03c9 <B STYLE=\"COLOR: BROWN\">\u039a\u03a5\u03a1\u0399</b>\u03c9 \u03b7\u03bc\u03c9\u03bd \u03bf\u03c4\u03b9 \u03c0\u03b9\u03c3\u03c4\u03bf\u03bd \u03bc\u03b5 \u03b7\u03b3\u03b7\u03c3\u03b1\u03c4\u03bf \u03b8\u03b5\u03bc\u03b5\u03bd\u03bf\u03c2 \u03b5\u03b9\u03c2 \u03b4\u03b9\u03b1\u03ba\u03bf\u03bd\u03b9\u03b1\u03bd</span></li><li><span><b>1 Timothy 1:14</b></span> - <span>\u03c5\u03c0\u03b5\u03c1\u03b5\u03c0\u03bb\u03b5\u03bf\u03bd\u03b1\u03c3\u03b5\u03bd \u03b4\u03b5 \u03b7 \u03c7\u03b1\u03c1\u03b9\u03c2 \u03c4\u03bf\u03c5 <B STYLE=\"COLOR: BROWN\">\u039a\u03a5\u03a1\u0399</b>\u03bf\u03c5 \u03b7\u03bc\u03c9\u03bd \u03bc\u03b5\u03c4\u03b1 \u03c0\u03b9\u03c3\u03c4\u03b5\u03c9\u03c2 \u03ba\u03b1\u03b9 \u03b1\u03b3\u03b1\u03c0\u03b7\u03c2 \u03c4\u03b7\u03c2 \u03b5\u03bd <B STYLE=\"COLOR: BROWN\">\u03a7\u03a1\u0399\u03a3\u03a4</b>\u03c9 <B STYLE=\"COLOR: BROWN\">\u0399\u0397\u03a3\u039f\u03a5</b></span></li><li><span><b>1 Timothy 5:21</b></span> - <span>\u03b4\u03b9\u03b1\u03bc\u03b1\u03c1\u03c4\u03c5\u03c1\u03bf\u03bc\u03b1\u03b9 \u03b5\u03bd\u03c9\u03c0\u03b9\u03bf\u03bd \u03c4\u03bf\u03c5 \u03b8\u03b5\u03bf\u03c5 \u03ba\u03b1\u03b9 <B STYLE=\"COLOR: BROWN\">\u039a\u03a5\u03a1\u0399</b>\u03bf\u03c5 <B STYLE=\"COLOR: BROWN\">\u0399\u0397\u03a3\u039f\u03a5</b> <B STYLE=\"COLOR: BROWN\">\u03a7\u03a1\u0399\u03a3\u03a4</b>\u03bf\u03c5 \u03ba\u03b1\u03b9 \u03c4\u03c9\u03bd \u03b5\u03ba\u03bb\u03b5\u03ba\u03c4\u03c9\u03bd \u03b1\u03b3\u03b3\u03b5\u03bb\u03c9\u03bd \u03b9\u03bd\u03b1 \u03c4\u03b1\u03c5\u03c4\u03b1 \u03c6\u03c5\u03bb\u03b1\u03be\u03b7\u03c2 \u03c7\u03c9\u03c1\u03b9\u03c2 \u03c0\u03c1\u03bf\u03ba\u03c1\u03b9\u03bc\u03b1\u03c4\u03bf\u03c2 \u03bc\u03b7\u03b4\u03b5\u03bd \u03c0\u03bf\u03b9\u03c9\u03bd \u03ba\u03b1\u03c4\u03b1 \u03c0\u03c1\u03bf\u03c3\u03ba\u03bb\u03b9\u03c3\u03b9\u03bd</span></li><li><span><b>1 Timothy 6:3</b></span> - <span>\u03b5\u03b9 \u03c4\u03b9\u03c2 \u03b5\u03c4\u03b5\u03c1\u03bf\u03b4\u03b9\u03b4\u03b1\u03c3\u03ba\u03b1\u03bb\u03b5\u03b9 \u03ba\u03b1\u03b9 \u03bc\u03b7 \u03c0\u03c1\u03bf\u03c3\u03b5\u03c1\u03c7\u03b5\u03c4\u03b1\u03b9 \u03c5\u03b3\u03b9\u03b1\u03b9\u03bd\u03bf\u03c5\u03c3\u03b9\u03bd \u03bb\u03bf\u03b3\u03bf\u03b9\u03c2 \u03c4\u03bf\u03b9\u03c2 \u03c4\u03bf\u03c5 <B STYLE=\"COLOR: BROWN\">\u039a\u03a5\u03a1\u0399</b>\u03bf\u03c5 \u03b7\u03bc\u03c9\u03bd <B STYLE=\"COLOR: BROWN\">\u0399\u0397\u03a3\u039f\u03a5</b> <B STYLE=\"COLOR: BROWN\">\u03a7\u03a1\u0399\u03a3\u03a4</b>\u03bf\u03c5 \u03ba\u03b1\u03b9 \u03c4\u03b7 \u03ba\u03b1\u03c4 \u03b5\u03c5\u03c3\u03b5\u03b2\u03b5\u03b9\u03b1\u03bd \u03b4\u03b9\u03b4\u03b1\u03c3\u03ba\u03b1\u03bb\u03b9\u03b1</span></li><li><span><b>1 Timothy 6:14</b></span> - <span>\u03c4\u03b7\u03c1\u03b7\u03c3\u03b1\u03b9 \u03c3\u03b5 \u03c4\u03b7\u03bd \u03b5\u03bd\u03c4\u03bf\u03bb\u03b7\u03bd \u03b1\u03c3\u03c0\u03b9\u03bb\u03bf\u03bd \u03b1\u03bd\u03b5\u03c0\u03b9\u03bb\u03b7\u03c0\u03c4\u03bf\u03bd \u03bc\u03b5\u03c7\u03c1\u03b9 \u03c4\u03b7\u03c2 \u03b5\u03c0\u03b9\u03c6\u03b1\u03bd\u03b5\u03b9\u03b1\u03c2 \u03c4\u03bf\u03c5 <B STYLE=\"COLOR: BROWN\">\u039a\u03a5\u03a1\u0399</b>\u03bf\u03c5 \u03b7\u03bc\u03c9\u03bd <B STYLE=\"COLOR: BROWN\">\u0399\u0397\u03a3\u039f\u03a5</b> <B STYLE=\"COLOR: BROWN\">\u03a7\u03a1\u0399\u03a3\u03a4</b>\u03bf\u03c5</span></li><li><span><b>2 Timothy 1:2</b></span> - <span>\u03c4\u03b9\u03bc\u03bf\u03b8\u03b5\u03c9 \u03b1\u03b3\u03b1\u03c0\u03b7\u03c4\u03c9 \u03c4\u03b5\u03ba\u03bd\u03c9 \u03c7\u03b1\u03c1\u03b9\u03c2 \u03b5\u03bb\u03b5\u03bf\u03c2 \u03b5\u03b9\u03c1\u03b7\u03bd\u03b7 \u03b1\u03c0\u03bf \u03b8\u03b5\u03bf\u03c5 \u03c0\u03b1\u03c4\u03c1\u03bf\u03c2 \u03ba\u03b1\u03b9 <B STYLE=\"COLOR: BROWN\">\u03a7\u03a1\u0399\u03a3\u03a4</b>\u03bf\u03c5 <B STYLE=\"COLOR: BROWN\">\u0399\u0397\u03a3\u039f\u03a5</b> \u03c4\u03bf\u03c5 <B STYLE=\"COLOR: BROWN\">\u039a\u03a5\u03a1\u0399</b>\u03bf\u03c5 \u03b7\u03bc\u03c9\u03bd</span></li><li><span><b>2 Timothy 4:1</b></span> - <span>\u03b4\u03b9\u03b1\u03bc\u03b1\u03c1\u03c4\u03c5\u03c1\u03bf\u03bc\u03b1\u03b9 \u03bf\u03c5\u03bd \u03b5\u03b3\u03c9 \u03b5\u03bd\u03c9\u03c0\u03b9\u03bf\u03bd \u03c4\u03bf\u03c5 \u03b8\u03b5\u03bf\u03c5 \u03ba\u03b1\u03b9 \u03c4\u03bf\u03c5 <B STYLE=\"COLOR: BROWN\">\u039a\u03a5\u03a1\u0399</b>\u03bf\u03c5 <B STYLE=\"COLOR: BROWN\">\u0399\u0397\u03a3\u039f\u03a5</b> <B STYLE=\"COLOR: BROWN\">\u03a7\u03a1\u0399\u03a3\u03a4</b>\u03bf\u03c5 \u03c4\u03bf\u03c5 \u03bc\u03b5\u03bb\u03bb\u03bf\u03bd\u03c4\u03bf\u03c2 \u03ba\u03c1\u03b9\u03bd\u03b5\u03b9\u03bd \u03b6\u03c9\u03bd\u03c4\u03b1\u03c2 \u03ba\u03b1\u03b9 \u03bd\u03b5\u03ba\u03c1\u03bf\u03c5\u03c2 \u03ba\u03b1\u03c4\u03b1 \u03c4\u03b7\u03bd \u03b5\u03c0\u03b9\u03c6\u03b1\u03bd\u03b5\u03b9\u03b1\u03bd \u03b1\u03c5\u03c4\u03bf\u03c5 \u03ba\u03b1\u03b9 \u03c4\u03b7\u03bd \u03b2\u03b1\u03c3\u03b9\u03bb\u03b5\u03b9\u03b1\u03bd \u03b1\u03c5\u03c4\u03bf\u03c5</span></li><li><span><b>2 Timothy 4:22</b></span> - <span>\u03bf <B STYLE=\"COLOR: BROWN\">\u039a\u03a5\u03a1\u0399</b>\u03bf\u03c2 <B STYLE=\"COLOR: BROWN\">\u0399\u0397\u03a3\u039f\u03a5</b>\u03c2 <B STYLE=\"COLOR: BROWN\">\u03a7\u03a1\u0399\u03a3\u03a4</b>\u03bf\u03c2 \u03bc\u03b5\u03c4\u03b1 \u03c4\u03bf\u03c5 \u03c0\u03bd\u03b5\u03c5\u03bc\u03b1\u03c4\u03bf\u03c2 \u03c3\u03bf\u03c5 \u03b7 \u03c7\u03b1\u03c1\u03b9\u03c2 \u03bc\u03b5\u03b8 \u03c5\u03bc\u03c9\u03bd \u03b1\u03bc\u03b7\u03bd</span></li><li><span><b>Titus 1:4</b></span> - <span>\u03c4\u03b9\u03c4\u03c9 \u03b3\u03bd\u03b7\u03c3\u03b9\u03c9 \u03c4\u03b5\u03ba\u03bd\u03c9 \u03ba\u03b1\u03c4\u03b1 \u03ba\u03bf\u03b9\u03bd\u03b7\u03bd \u03c0\u03b9\u03c3\u03c4\u03b9\u03bd \u03c7\u03b1\u03c1\u03b9\u03c2 \u03b5\u03bb\u03b5\u03bf\u03c2 \u03b5\u03b9\u03c1\u03b7\u03bd\u03b7 \u03b1\u03c0\u03bf \u03b8\u03b5\u03bf\u03c5 \u03c0\u03b1\u03c4\u03c1\u03bf\u03c2 \u03ba\u03b1\u03b9 <B STYLE=\"COLOR: BROWN\">\u039a\u03a5\u03a1\u0399</b>\u03bf\u03c5 <B STYLE=\"COLOR: BROWN\">\u0399\u0397\u03a3\u039f\u03a5</b> <B STYLE=\"COLOR: BROWN\">\u03a7\u03a1\u0399\u03a3\u03a4</b>\u03bf\u03c5 \u03c4\u03bf\u03c5 \u03c3\u03c9\u03c4\u03b7\u03c1\u03bf\u03c2 \u03b7\u03bc\u03c9\u03bd</span></li><li><span><b>Philemon 1:3</b></span> - <span>\u03c7\u03b1\u03c1\u03b9\u03c2 \u03c5\u03bc\u03b9\u03bd \u03ba\u03b1\u03b9 \u03b5\u03b9\u03c1\u03b7\u03bd\u03b7 \u03b1\u03c0\u03bf \u03b8\u03b5\u03bf\u03c5 \u03c0\u03b1\u03c4\u03c1\u03bf\u03c2 \u03b7\u03bc\u03c9\u03bd \u03ba\u03b1\u03b9 <B STYLE=\"COLOR: BROWN\">\u039a\u03a5\u03a1\u0399</b>\u03bf\u03c5 <B STYLE=\"COLOR: BROWN\">\u0399\u0397\u03a3\u039f\u03a5</b> <B STYLE=\"COLOR: BROWN\">\u03a7\u03a1\u0399\u03a3\u03a4</b>\u03bf\u03c5</span></li><li><span><b>Philemon 1:25</b></span> - <span>\u03b7 \u03c7\u03b1\u03c1\u03b9\u03c2 \u03c4\u03bf\u03c5 <B STYLE=\"COLOR: BROWN\">\u039a\u03a5\u03a1\u0399</b>\u03bf\u03c5 \u03b7\u03bc\u03c9\u03bd <B STYLE=\"COLOR: BROWN\">\u0399\u0397\u03a3\u039f\u03a5</b> <B STYLE=\"COLOR: BROWN\">\u03a7\u03a1\u0399\u03a3\u03a4</b>\u03bf\u03c5 \u03bc\u03b5\u03c4\u03b1 \u03c4\u03bf\u03c5 \u03c0\u03bd\u03b5\u03c5\u03bc\u03b1\u03c4\u03bf\u03c2 \u03c5\u03bc\u03c9\u03bd \u03b1\u03bc\u03b7\u03bd</span></li><li><span><b>James 1:1</b></span> - <span>\u03b9\u03b1\u03ba\u03c9\u03b2\u03bf\u03c2 \u03b8\u03b5\u03bf\u03c5 \u03ba\u03b1\u03b9 <B STYLE=\"COLOR: BROWN\">\u039a\u03a5\u03a1\u0399</b>\u03bf\u03c5 <B STYLE=\"COLOR: BROWN\">\u0399\u0397\u03a3\u039f\u03a5</b> <B STYLE=\"COLOR: BROWN\">\u03a7\u03a1\u0399\u03a3\u03a4</b>\u03bf\u03c5 \u03b4\u03bf\u03c5\u03bb\u03bf\u03c2 \u03c4\u03b1\u03b9\u03c2 \u03b4\u03c9\u03b4\u03b5\u03ba\u03b1 \u03c6\u03c5\u03bb\u03b1\u03b9\u03c2 \u03c4\u03b1\u03b9\u03c2 \u03b5\u03bd \u03c4\u03b7 \u03b4\u03b9\u03b1\u03c3\u03c0\u03bf\u03c1\u03b1 \u03c7\u03b1\u03b9\u03c1\u03b5\u03b9\u03bd</span></li><li><span><b>James 2:1</b></span> - <span>\u03b1\u03b4\u03b5\u03bb\u03c6\u03bf\u03b9 \u03bc\u03bf\u03c5 \u03bc\u03b7 \u03b5\u03bd \u03c0\u03c1\u03bf\u03c3\u03c9\u03c0\u03bf\u03bb\u03b7\u03c8\u03b9\u03b1\u03b9\u03c2 \u03b5\u03c7\u03b5\u03c4\u03b5 \u03c4\u03b7\u03bd \u03c0\u03b9\u03c3\u03c4\u03b9\u03bd \u03c4\u03bf\u03c5 <B STYLE=\"COLOR: BROWN\">\u039a\u03a5\u03a1\u0399</b>\u03bf\u03c5 \u03b7\u03bc\u03c9\u03bd <B STYLE=\"COLOR: BROWN\">\u0399\u0397\u03a3\u039f\u03a5</b> <B STYLE=\"COLOR: BROWN\">\u03a7\u03a1\u0399\u03a3\u03a4</b>\u03bf\u03c5 \u03c4\u03b7\u03c2 \u03b4\u03bf\u03be\u03b7\u03c2</span></li><li><span><b>1 Peter 1:3</b></span> - <span>\u03b5\u03c5\u03bb\u03bf\u03b3\u03b7\u03c4\u03bf\u03c2 \u03bf \u03b8\u03b5\u03bf\u03c2 \u03ba\u03b1\u03b9 \u03c0\u03b1\u03c4\u03b7\u03c1 \u03c4\u03bf\u03c5 <B STYLE=\"COLOR: BROWN\">\u039a\u03a5\u03a1\u0399</b>\u03bf\u03c5 \u03b7\u03bc\u03c9\u03bd <B STYLE=\"COLOR: BROWN\">\u0399\u0397\u03a3\u039f\u03a5</b> <B STYLE=\"COLOR: BROWN\">\u03a7\u03a1\u0399\u03a3\u03a4</b>\u03bf\u03c5 \u03bf \u03ba\u03b1\u03c4\u03b1 \u03c4\u03bf \u03c0\u03bf\u03bb\u03c5 \u03b1\u03c5\u03c4\u03bf\u03c5 \u03b5\u03bb\u03b5\u03bf\u03c2 \u03b1\u03bd\u03b1\u03b3\u03b5\u03bd\u03bd\u03b7\u03c3\u03b1\u03c2 \u03b7\u03bc\u03b1\u03c2 \u03b5\u03b9\u03c2 \u03b5\u03bb\u03c0\u03b9\u03b4\u03b1 \u03b6\u03c9\u03c3\u03b1\u03bd \u03b4\u03b9 \u03b1\u03bd\u03b1\u03c3\u03c4\u03b1\u03c3\u03b5\u03c9\u03c2 <B STYLE=\"COLOR: BROWN\">\u0399\u0397\u03a3\u039f\u03a5</b> <B STYLE=\"COLOR: BROWN\">\u03a7\u03a1\u0399\u03a3\u03a4</b>\u03bf\u03c5 \u03b5\u03ba \u03bd\u03b5\u03ba\u03c1\u03c9\u03bd</span></li><li><span><b>2 Peter 1:8</b></span> - <span>\u03c4\u03b1\u03c5\u03c4\u03b1 \u03b3\u03b1\u03c1 \u03c5\u03bc\u03b9\u03bd \u03c5\u03c0\u03b1\u03c1\u03c7\u03bf\u03bd\u03c4\u03b1 \u03ba\u03b1\u03b9 \u03c0\u03bb\u03b5\u03bf\u03bd\u03b1\u03b6\u03bf\u03bd\u03c4\u03b1 \u03bf\u03c5\u03ba \u03b1\u03c1\u03b3\u03bf\u03c5\u03c2 \u03bf\u03c5\u03b4\u03b5 \u03b1\u03ba\u03b1\u03c1\u03c0\u03bf\u03c5\u03c2 \u03ba\u03b1\u03b8\u03b9\u03c3\u03c4\u03b7\u03c3\u03b9\u03bd \u03b5\u03b9\u03c2 \u03c4\u03b7\u03bd \u03c4\u03bf\u03c5 <B STYLE=\"COLOR: BROWN\">\u039a\u03a5\u03a1\u0399</b>\u03bf\u03c5 \u03b7\u03bc\u03c9\u03bd <B STYLE=\"COLOR: BROWN\">\u0399\u0397\u03a3\u039f\u03a5</b> <B STYLE=\"COLOR: BROWN\">\u03a7\u03a1\u0399\u03a3\u03a4</b>\u03bf\u03c5 \u03b5\u03c0\u03b9\u03b3\u03bd\u03c9\u03c3\u03b9\u03bd</span></li><li><span><b>2 Peter 1:11</b></span> - <span>\u03bf\u03c5\u03c4\u03c9\u03c2 \u03b3\u03b1\u03c1 \u03c0\u03bb\u03bf\u03c5\u03c3\u03b9\u03c9\u03c2 \u03b5\u03c0\u03b9\u03c7\u03bf\u03c1\u03b7\u03b3\u03b7\u03b8\u03b7\u03c3\u03b5\u03c4\u03b1\u03b9 \u03c5\u03bc\u03b9\u03bd \u03b7 \u03b5\u03b9\u03c3\u03bf\u03b4\u03bf\u03c2 \u03b5\u03b9\u03c2 \u03c4\u03b7\u03bd \u03b1\u03b9\u03c9\u03bd\u03b9\u03bf\u03bd \u03b2\u03b1\u03c3\u03b9\u03bb\u03b5\u03b9\u03b1\u03bd \u03c4\u03bf\u03c5 <B STYLE=\"COLOR: BROWN\">\u039a\u03a5\u03a1\u0399</b>\u03bf\u03c5 \u03b7\u03bc\u03c9\u03bd \u03ba\u03b1\u03b9 \u03c3\u03c9\u03c4\u03b7\u03c1\u03bf\u03c2 <B STYLE=\"COLOR: BROWN\">\u0399\u0397\u03a3\u039f\u03a5</b> <B STYLE=\"COLOR: BROWN\">\u03a7\u03a1\u0399\u03a3\u03a4</b>\u03bf\u03c5</span></li><li><span><b>2 Peter 1:14</b></span> - <span>\u03b5\u03b9\u03b4\u03c9\u03c2 \u03bf\u03c4\u03b9 \u03c4\u03b1\u03c7\u03b9\u03bd\u03b7 \u03b5\u03c3\u03c4\u03b9\u03bd \u03b7 \u03b1\u03c0\u03bf\u03b8\u03b5\u03c3\u03b9\u03c2 \u03c4\u03bf\u03c5 \u03c3\u03ba\u03b7\u03bd\u03c9\u03bc\u03b1\u03c4\u03bf\u03c2 \u03bc\u03bf\u03c5 \u03ba\u03b1\u03b8\u03c9\u03c2 \u03ba\u03b1\u03b9 \u03bf <B STYLE=\"COLOR: BROWN\">\u039a\u03a5\u03a1\u0399</b>\u03bf\u03c2 \u03b7\u03bc\u03c9\u03bd <B STYLE=\"COLOR: BROWN\">\u0399\u0397\u03a3\u039f\u03a5</b>\u03c2 <B STYLE=\"COLOR: BROWN\">\u03a7\u03a1\u0399\u03a3\u03a4</b>\u03bf\u03c2 \u03b5\u03b4\u03b7\u03bb\u03c9\u03c3\u03b5\u03bd \u03bc\u03bf\u03b9</span></li><li><span><b>2 Peter 1:16</b></span> - <span>\u03bf\u03c5 \u03b3\u03b1\u03c1 \u03c3\u03b5\u03c3\u03bf\u03c6\u03b9\u03c3\u03bc\u03b5\u03bd\u03bf\u03b9\u03c2 \u03bc\u03c5\u03b8\u03bf\u03b9\u03c2 \u03b5\u03be\u03b1\u03ba\u03bf\u03bb\u03bf\u03c5\u03b8\u03b7\u03c3\u03b1\u03bd\u03c4\u03b5\u03c2 \u03b5\u03b3\u03bd\u03c9\u03c1\u03b9\u03c3\u03b1\u03bc\u03b5\u03bd \u03c5\u03bc\u03b9\u03bd \u03c4\u03b7\u03bd \u03c4\u03bf\u03c5 <B STYLE=\"COLOR: BROWN\">\u039a\u03a5\u03a1\u0399</b>\u03bf\u03c5 \u03b7\u03bc\u03c9\u03bd <B STYLE=\"COLOR: BROWN\">\u0399\u0397\u03a3\u039f\u03a5</b> <B STYLE=\"COLOR: BROWN\">\u03a7\u03a1\u0399\u03a3\u03a4</b>\u03bf\u03c5 \u03b4\u03c5\u03bd\u03b1\u03bc\u03b9\u03bd \u03ba\u03b1\u03b9 \u03c0\u03b1\u03c1\u03bf\u03c5\u03c3\u03b9\u03b1\u03bd \u03b1\u03bb\u03bb \u03b5\u03c0\u03bf\u03c0\u03c4\u03b1\u03b9 \u03b3\u03b5\u03bd\u03b7\u03b8\u03b5\u03bd\u03c4\u03b5\u03c2 \u03c4\u03b7\u03c2 \u03b5\u03ba\u03b5\u03b9\u03bd\u03bf\u03c5 \u03bc\u03b5\u03b3\u03b1\u03bb\u03b5\u03b9\u03bf\u03c4\u03b7\u03c4\u03bf\u03c2</span></li><li><span><b>2 Peter 2:20</b></span> - <span>\u03b5\u03b9 \u03b3\u03b1\u03c1 \u03b1\u03c0\u03bf\u03c6\u03c5\u03b3\u03bf\u03bd\u03c4\u03b5\u03c2 \u03c4\u03b1 \u03bc\u03b9\u03b1\u03c3\u03bc\u03b1\u03c4\u03b1 \u03c4\u03bf\u03c5 \u03ba\u03bf\u03c3\u03bc\u03bf\u03c5 \u03b5\u03bd \u03b5\u03c0\u03b9\u03b3\u03bd\u03c9\u03c3\u03b5\u03b9 \u03c4\u03bf\u03c5 <B STYLE=\"COLOR: BROWN\">\u039a\u03a5\u03a1\u0399</b>\u03bf\u03c5 \u03ba\u03b1\u03b9 \u03c3\u03c9\u03c4\u03b7\u03c1\u03bf\u03c2 <B STYLE=\"COLOR: BROWN\">\u0399\u0397\u03a3\u039f\u03a5</b> <B STYLE=\"COLOR: BROWN\">\u03a7\u03a1\u0399\u03a3\u03a4</b>\u03bf\u03c5 \u03c4\u03bf\u03c5\u03c4\u03bf\u03b9\u03c2 \u03b4\u03b5 \u03c0\u03b1\u03bb\u03b9\u03bd \u03b5\u03bc\u03c0\u03bb\u03b1\u03ba\u03b5\u03bd\u03c4\u03b5\u03c2 \u03b7\u03c4\u03c4\u03c9\u03bd\u03c4\u03b1\u03b9 \u03b3\u03b5\u03b3\u03bf\u03bd\u03b5\u03bd \u03b1\u03c5\u03c4\u03bf\u03b9\u03c2 \u03c4\u03b1 \u03b5\u03c3\u03c7\u03b1\u03c4\u03b1 \u03c7\u03b5\u03b9\u03c1\u03bf\u03bd\u03b1 \u03c4\u03c9\u03bd \u03c0\u03c1\u03c9\u03c4\u03c9\u03bd</span></li><li><span><b>2 Peter 3:18</b></span> - <span>\u03b1\u03c5\u03be\u03b1\u03bd\u03b5\u03c4\u03b5 \u03b4\u03b5 \u03b5\u03bd \u03c7\u03b1\u03c1\u03b9\u03c4\u03b9 \u03ba\u03b1\u03b9 \u03b3\u03bd\u03c9\u03c3\u03b5\u03b9 \u03c4\u03bf\u03c5 <B STYLE=\"COLOR: BROWN\">\u039a\u03a5\u03a1\u0399</b>\u03bf\u03c5 \u03b7\u03bc\u03c9\u03bd \u03ba\u03b1\u03b9 \u03c3\u03c9\u03c4\u03b7\u03c1\u03bf\u03c2 <B STYLE=\"COLOR: BROWN\">\u0399\u0397\u03a3\u039f\u03a5</b> <B STYLE=\"COLOR: BROWN\">\u03a7\u03a1\u0399\u03a3\u03a4</b>\u03bf\u03c5 \u03b1\u03c5\u03c4\u03c9 \u03b7 \u03b4\u03bf\u03be\u03b1 \u03ba\u03b1\u03b9 \u03bd\u03c5\u03bd \u03ba\u03b1\u03b9 \u03b5\u03b9\u03c2 \u03b7\u03bc\u03b5\u03c1\u03b1\u03bd \u03b1\u03b9\u03c9\u03bd\u03bf\u03c2 \u03b1\u03bc\u03b7\u03bd</span></li><li><span><b>2 John 1:3</b></span> - <span>\u03b5\u03c3\u03c4\u03b1\u03b9 \u03bc\u03b5\u03b8 \u03b7\u03bc\u03c9\u03bd \u03c7\u03b1\u03c1\u03b9\u03c2 \u03b5\u03bb\u03b5\u03bf\u03c2 \u03b5\u03b9\u03c1\u03b7\u03bd\u03b7 \u03c0\u03b1\u03c1\u03b1 \u03b8\u03b5\u03bf\u03c5 \u03c0\u03b1\u03c4\u03c1\u03bf\u03c2 \u03ba\u03b1\u03b9 \u03c0\u03b1\u03c1\u03b1 <B STYLE=\"COLOR: BROWN\">\u039a\u03a5\u03a1\u0399</b>\u03bf\u03c5 <B STYLE=\"COLOR: BROWN\">\u0399\u0397\u03a3\u039f\u03a5</b> <B STYLE=\"COLOR: BROWN\">\u03a7\u03a1\u0399\u03a3\u03a4</b>\u03bf\u03c5 \u03c4\u03bf\u03c5 \u03c5\u03b9\u03bf\u03c5 \u03c4\u03bf\u03c5 \u03c0\u03b1\u03c4\u03c1\u03bf\u03c2 \u03b5\u03bd \u03b1\u03bb\u03b7\u03b8\u03b5\u03b9\u03b1 \u03ba\u03b1\u03b9 \u03b1\u03b3\u03b1\u03c0\u03b7</span></li><li><span><b>Jude 1:4</b></span> - <span>\u03c0\u03b1\u03c1\u03b5\u03b9\u03c3\u03b5\u03b4\u03c5\u03c3\u03b1\u03bd \u03b3\u03b1\u03c1 \u03c4\u03b9\u03bd\u03b5\u03c2 \u03b1\u03bd\u03b8\u03c1\u03c9\u03c0\u03bf\u03b9 \u03bf\u03b9 \u03c0\u03b1\u03bb\u03b1\u03b9 \u03c0\u03c1\u03bf\u03b3\u03b5\u03b3\u03c1\u03b1\u03bc\u03bc\u03b5\u03bd\u03bf\u03b9 \u03b5\u03b9\u03c2 \u03c4\u03bf\u03c5\u03c4\u03bf \u03c4\u03bf \u03ba\u03c1\u03b9\u03bc\u03b1 \u03b1\u03c3\u03b5\u03b2\u03b5\u03b9\u03c2 \u03c4\u03b7\u03bd \u03c4\u03bf\u03c5 \u03b8\u03b5\u03bf\u03c5 \u03b7\u03bc\u03c9\u03bd \u03c7\u03b1\u03c1\u03b9\u03bd \u03bc\u03b5\u03c4\u03b1\u03c4\u03b9\u03b8\u03b5\u03bd\u03c4\u03b5\u03c2 \u03b5\u03b9\u03c2 \u03b1\u03c3\u03b5\u03bb\u03b3\u03b5\u03b9\u03b1\u03bd \u03ba\u03b1\u03b9 \u03c4\u03bf\u03bd \u03bc\u03bf\u03bd\u03bf\u03bd \u03b4\u03b5\u03c3\u03c0\u03bf\u03c4\u03b7\u03bd \u03b8\u03b5\u03bf\u03bd \u03ba\u03b1\u03b9 <B STYLE=\"COLOR: BROWN\">\u039a\u03a5\u03a1\u0399</b>\u03bf\u03bd \u03b7\u03bc\u03c9\u03bd <B STYLE=\"COLOR: BROWN\">\u0399\u0397\u03a3\u039f\u03a5</b>\u03bd <B STYLE=\"COLOR: BROWN\">\u03a7\u03a1\u0399\u03a3\u03a4</b>\u03bf\u03bd \u03b1\u03c1\u03bd\u03bf\u03c5\u03bc\u03b5\u03bd\u03bf\u03b9</span></li><li><span><b>Jude 1:17</b></span> - <span>\u03c5\u03bc\u03b5\u03b9\u03c2 \u03b4\u03b5 \u03b1\u03b3\u03b1\u03c0\u03b7\u03c4\u03bf\u03b9 \u03bc\u03bd\u03b7\u03c3\u03b8\u03b7\u03c4\u03b5 \u03c4\u03c9\u03bd \u03c1\u03b7\u03bc\u03b1\u03c4\u03c9\u03bd \u03c4\u03c9\u03bd \u03c0\u03c1\u03bf\u03b5\u03b9\u03c1\u03b7\u03bc\u03b5\u03bd\u03c9\u03bd \u03c5\u03c0\u03bf \u03c4\u03c9\u03bd \u03b1\u03c0\u03bf\u03c3\u03c4\u03bf\u03bb\u03c9\u03bd \u03c4\u03bf\u03c5 <B STYLE=\"COLOR: BROWN\">\u039a\u03a5\u03a1\u0399</b>\u03bf\u03c5 \u03b7\u03bc\u03c9\u03bd <B STYLE=\"COLOR: BROWN\">\u0399\u0397\u03a3\u039f\u03a5</b> <B STYLE=\"COLOR: BROWN\">\u03a7\u03a1\u0399\u03a3\u03a4</b>\u03bf\u03c5</span></li><li><span><b>Jude 1:21</b></span> - <span>\u03b5\u03b1\u03c5\u03c4\u03bf\u03c5\u03c2 \u03b5\u03bd \u03b1\u03b3\u03b1\u03c0\u03b7 \u03b8\u03b5\u03bf\u03c5 \u03c4\u03b7\u03c1\u03b7\u03c3\u03b1\u03c4\u03b5 \u03c0\u03c1\u03bf\u03c3\u03b4\u03b5\u03c7\u03bf\u03bc\u03b5\u03bd\u03bf\u03b9 \u03c4\u03bf \u03b5\u03bb\u03b5\u03bf\u03c2 \u03c4\u03bf\u03c5 <B STYLE=\"COLOR: BROWN\">\u039a\u03a5\u03a1\u0399</b>\u03bf\u03c5 \u03b7\u03bc\u03c9\u03bd <B STYLE=\"COLOR: BROWN\">\u0399\u0397\u03a3\u039f\u03a5</b> <B STYLE=\"COLOR: BROWN\">\u03a7\u03a1\u0399\u03a3\u03a4</b>\u03bf\u03c5 \u03b5\u03b9\u03c2 \u03b6\u03c9\u03b7\u03bd \u03b1\u03b9\u03c9\u03bd\u03b9\u03bf\u03bd</span></li><li><span><b>Revelation 22:21</b></span> - <span>\u03b7 \u03c7\u03b1\u03c1\u03b9\u03c2 \u03c4\u03bf\u03c5 <B STYLE=\"COLOR: BROWN\">\u039a\u03a5\u03a1\u0399</b>\u03bf\u03c5 \u03b7\u03bc\u03c9\u03bd <B STYLE=\"COLOR: BROWN\">\u0399\u0397\u03a3\u039f\u03a5</b> <B STYLE=\"COLOR: BROWN\">\u03a7\u03a1\u0399\u03a3\u03a4</b>\u03bf\u03c5 \u03bc\u03b5\u03c4\u03b1 \u03c0\u03b1\u03bd\u03c4\u03c9\u03bd \u03c5\u03bc\u03c9\u03bd \u03b1\u03bc\u03b7\u03bd</span></li></ul>"
       ],
       "metadata": {},
       "output_type": "pyout",
       "prompt_number": 5,
       "text": [
        "<IPython.core.display.HTML at 0xc6caa20>"
       ]
      }
     ],
     "prompt_number": 5
    },
    {
     "cell_type": "markdown",
     "metadata": {},
     "source": [
      "# Print couple of verses as char table from the results"
     ]
    },
    {
     "cell_type": "code",
     "collapsed": false,
     "input": [
      "char_table(tr.get_verse('Revelation', 22, 21))"
     ],
     "language": "python",
     "metadata": {},
     "outputs": [
      {
       "output_type": "stream",
       "stream": "stderr",
       "text": [
        "C:\\Users\\Marko\\Anaconda\\lib\\site-packages\\pandas\\core\\frame.py:1686: UserWarning: Boolean Series key will be reindexed to match DataFrame index.\n",
        "  \"DataFrame index.\", UserWarning)\n"
       ]
      },
      {
       "html": [
        "<table class=\"char-table\"><caption>\u03b7 \u03c7\u03b1\u03c1\u03b9\u03c2 \u03c4\u03bf\u03c5 \u03ba\u03c5\u03c1\u03b9\u03bf\u03c5 \u03b7\u03bc\u03c9\u03bd \u03b9\u03b7\u03c3\u03bf\u03c5 \u03c7\u03c1\u03b9\u03c3\u03c4\u03bf\u03c5 \u03bc\u03b5\u03c4\u03b1 \u03c0\u03b1\u03bd\u03c4\u03c9\u03bd \u03c5\u03bc\u03c9\u03bd \u03b1\u03bc\u03b7\u03bd</caption><thead><tr><th>\u03b7</th><th>&nbsp;</th><th>&nbsp;</th><th>\u03c7</th><th>\u03b1</th><th>\u03c1</th><th>\u03b9</th><th>\u03c2</th><th>&nbsp;</th><th>&nbsp;</th><th>\u03c4</th><th>\u03bf</th><th>\u03c5</th><th>&nbsp;</th><th>&nbsp;</th><th>\u03ba</th><th>\u03c5</th><th>\u03c1</th><th>\u03b9</th><th>\u03bf</th><th>\u03c5</th><th>&nbsp;</th><th>&nbsp;</th><th>\u03b7</th><th>\u03bc</th><th>\u03c9</th><th>\u03bd</th><th>&nbsp;</th><th>&nbsp;</th><th>\u03b9</th><th>\u03b7</th><th>\u03c3</th><th>\u03bf</th><th>\u03c5</th><th>&nbsp;</th><th>&nbsp;</th><th>\u03c7</th><th>\u03c1</th><th>\u03b9</th><th>\u03c3</th><th>\u03c4</th><th>\u03bf</th><th>\u03c5</th><th>&nbsp;</th><th>&nbsp;</th><th>\u03bc</th><th>\u03b5</th><th>\u03c4</th><th>\u03b1</th><th>&nbsp;</th><th>&nbsp;</th><th>\u03c0</th><th>\u03b1</th><th>\u03bd</th><th>\u03c4</th><th>\u03c9</th><th>\u03bd</th><th>&nbsp;</th><th>&nbsp;</th><th>\u03c5</th><th>\u03bc</th><th>\u03c9</th><th>\u03bd</th><th>&nbsp;</th><th>&nbsp;</th><th>\u03b1</th><th>\u03bc</th><th>\u03b7</th><th>\u03bd</th></tr></thead><tfoot><tr><td colspan=\"1\">8 <sub>8</sub></td><td/><td/><td colspan=\"5\">911 <sub>2</sub></td><td/><td/><td colspan=\"3\">770 <sub>5</sub></td><td/><td/><td colspan=\"6\">1000 <sub>1</sub></td><td/><td/><td colspan=\"4\">898 <sub>7</sub></td><td/><td/><td colspan=\"5\">688 <sub>4</sub></td><td/><td/><td colspan=\"7\">1680 <sub>6</sub></td><td/><td/><td colspan=\"4\">346 <sub>4</sub></td><td/><td/><td colspan=\"6\">1281 <sub>3</sub></td><td/><td/><td colspan=\"4\">1290 <sub>3</sub></td><td/><td/><td colspan=\"4\">99 <sub>9</sub></td></tr><tr><td colspan=\"70\" style=\"border-top: solid 1px #ddd\">8971 <sub>25 / 7</sub></td></tr></tfoot><tbody><tr><td>h</td><td/><td class=\"empty-cell\"/><td>x</td><td>a</td><td>r</td><td>i</td><td>s</td><td/><td class=\"empty-cell\"/><td>t</td><td>o</td><td>u</td><td/><td class=\"empty-cell\"/><td>k</td><td>u</td><td>r</td><td>i</td><td>o</td><td>u</td><td/><td class=\"empty-cell\"/><td>h</td><td>m</td><td>w</td><td>n</td><td/><td class=\"empty-cell\"/><td>i</td><td>h</td><td>s</td><td>o</td><td>u</td><td/><td class=\"empty-cell\"/><td>x</td><td>r</td><td>i</td><td>s</td><td>t</td><td>o</td><td>u</td><td/><td class=\"empty-cell\"/><td>m</td><td>e</td><td>t</td><td>a</td><td/><td class=\"empty-cell\"/><td>p</td><td>a</td><td>n</td><td>t</td><td>w</td><td>n</td><td/><td class=\"empty-cell\"/><td>u</td><td>m</td><td>w</td><td>n</td><td/><td class=\"empty-cell\"/><td>a</td><td>m</td><td>h</td><td>n</td></tr><tr><td>8</td><td/><td class=\"empty-cell\"/><td>600</td><td>1</td><td>100</td><td>10</td><td>200</td><td/><td class=\"empty-cell\"/><td>300</td><td>70</td><td>400</td><td/><td class=\"empty-cell\"/><td>20</td><td>400</td><td>100</td><td>10</td><td>70</td><td>400</td><td/><td class=\"empty-cell\"/><td>8</td><td>40</td><td>800</td><td>50</td><td/><td class=\"empty-cell\"/><td>10</td><td>8</td><td>200</td><td>70</td><td>400</td><td/><td class=\"empty-cell\"/><td>600</td><td>100</td><td>10</td><td>200</td><td>300</td><td>70</td><td>400</td><td/><td class=\"empty-cell\"/><td>40</td><td>5</td><td>300</td><td>1</td><td/><td class=\"empty-cell\"/><td>80</td><td>1</td><td>50</td><td>300</td><td>800</td><td>50</td><td/><td class=\"empty-cell\"/><td>400</td><td>40</td><td>800</td><td>50</td><td/><td class=\"empty-cell\"/><td>1</td><td>40</td><td>8</td><td>50</td></tr></tbody></table>"
       ],
       "metadata": {},
       "output_type": "pyout",
       "prompt_number": 6,
       "text": [
        "<remarkuple.table.table at 0xa7aeda0>"
       ]
      }
     ],
     "prompt_number": 6
    },
    {
     "cell_type": "code",
     "collapsed": false,
     "input": [
      "char_table(tr.get_verse('Jude', 1, 4))"
     ],
     "language": "python",
     "metadata": {},
     "outputs": [
      {
       "html": [
        "<table class=\"char-table\"><caption>\u03c0\u03b1\u03c1\u03b5\u03b9\u03c3\u03b5\u03b4\u03c5\u03c3\u03b1\u03bd \u03b3\u03b1\u03c1 \u03c4\u03b9\u03bd\u03b5\u03c2 \u03b1\u03bd\u03b8\u03c1\u03c9\u03c0\u03bf\u03b9 \u03bf\u03b9 \u03c0\u03b1\u03bb\u03b1\u03b9 \u03c0\u03c1\u03bf\u03b3\u03b5\u03b3\u03c1\u03b1\u03bc\u03bc\u03b5\u03bd\u03bf\u03b9 \u03b5\u03b9\u03c2 \u03c4\u03bf\u03c5\u03c4\u03bf \u03c4\u03bf \u03ba\u03c1\u03b9\u03bc\u03b1 \u03b1\u03c3\u03b5\u03b2\u03b5\u03b9\u03c2 \u03c4\u03b7\u03bd \u03c4\u03bf\u03c5 \u03b8\u03b5\u03bf\u03c5 \u03b7\u03bc\u03c9\u03bd \u03c7\u03b1\u03c1\u03b9\u03bd \u03bc\u03b5\u03c4\u03b1\u03c4\u03b9\u03b8\u03b5\u03bd\u03c4\u03b5\u03c2 \u03b5\u03b9\u03c2 \u03b1\u03c3\u03b5\u03bb\u03b3\u03b5\u03b9\u03b1\u03bd \u03ba\u03b1\u03b9 \u03c4\u03bf\u03bd \u03bc\u03bf\u03bd\u03bf\u03bd \u03b4\u03b5\u03c3\u03c0\u03bf\u03c4\u03b7\u03bd \u03b8\u03b5\u03bf\u03bd \u03ba\u03b1\u03b9 \u03ba\u03c5\u03c1\u03b9\u03bf\u03bd \u03b7\u03bc\u03c9\u03bd \u03b9\u03b7\u03c3\u03bf\u03c5\u03bd \u03c7\u03c1\u03b9\u03c3\u03c4\u03bf\u03bd \u03b1\u03c1\u03bd\u03bf\u03c5\u03bc\u03b5\u03bd\u03bf\u03b9</caption><thead><tr><th>\u03c0</th><th>\u03b1</th><th>\u03c1</th><th>\u03b5</th><th>\u03b9</th><th>\u03c3</th><th>\u03b5</th><th>\u03b4</th><th>\u03c5</th><th>\u03c3</th><th>\u03b1</th><th>\u03bd</th><th>&nbsp;</th><th>&nbsp;</th><th>\u03b3</th><th>\u03b1</th><th>\u03c1</th><th>&nbsp;</th><th>&nbsp;</th><th>\u03c4</th><th>\u03b9</th><th>\u03bd</th><th>\u03b5</th><th>\u03c2</th><th>&nbsp;</th><th>&nbsp;</th><th>\u03b1</th><th>\u03bd</th><th>\u03b8</th><th>\u03c1</th><th>\u03c9</th><th>\u03c0</th><th>\u03bf</th><th>\u03b9</th><th>&nbsp;</th><th>&nbsp;</th><th>\u03bf</th><th>\u03b9</th><th>&nbsp;</th><th>&nbsp;</th><th>\u03c0</th><th>\u03b1</th><th>\u03bb</th><th>\u03b1</th><th>\u03b9</th><th>&nbsp;</th><th>&nbsp;</th><th>\u03c0</th><th>\u03c1</th><th>\u03bf</th><th>\u03b3</th><th>\u03b5</th><th>\u03b3</th><th>\u03c1</th><th>\u03b1</th><th>\u03bc</th><th>\u03bc</th><th>\u03b5</th><th>\u03bd</th><th>\u03bf</th><th>\u03b9</th><th>&nbsp;</th><th>&nbsp;</th><th>\u03b5</th><th>\u03b9</th><th>\u03c2</th><th>&nbsp;</th><th>&nbsp;</th><th>\u03c4</th><th>\u03bf</th><th>\u03c5</th><th>\u03c4</th><th>\u03bf</th><th>&nbsp;</th><th>&nbsp;</th><th>\u03c4</th><th>\u03bf</th><th>&nbsp;</th><th>&nbsp;</th><th>\u03ba</th><th>\u03c1</th><th>\u03b9</th><th>\u03bc</th><th>\u03b1</th><th>&nbsp;</th><th>&nbsp;</th><th>\u03b1</th><th>\u03c3</th><th>\u03b5</th><th>\u03b2</th><th>\u03b5</th><th>\u03b9</th><th>\u03c2</th><th>&nbsp;</th><th>&nbsp;</th><th>\u03c4</th><th>\u03b7</th><th>\u03bd</th><th>&nbsp;</th><th>&nbsp;</th><th>\u03c4</th><th>\u03bf</th><th>\u03c5</th><th>&nbsp;</th><th>&nbsp;</th><th>\u03b8</th><th>\u03b5</th><th>\u03bf</th><th>\u03c5</th><th>&nbsp;</th><th>&nbsp;</th><th>\u03b7</th><th>\u03bc</th><th>\u03c9</th><th>\u03bd</th><th>&nbsp;</th><th>&nbsp;</th><th>\u03c7</th><th>\u03b1</th><th>\u03c1</th><th>\u03b9</th><th>\u03bd</th><th>&nbsp;</th><th>&nbsp;</th><th>\u03bc</th><th>\u03b5</th><th>\u03c4</th><th>\u03b1</th><th>\u03c4</th><th>\u03b9</th><th>\u03b8</th><th>\u03b5</th><th>\u03bd</th><th>\u03c4</th><th>\u03b5</th><th>\u03c2</th><th>&nbsp;</th><th>&nbsp;</th><th>\u03b5</th><th>\u03b9</th><th>\u03c2</th><th>&nbsp;</th><th>&nbsp;</th><th>\u03b1</th><th>\u03c3</th><th>\u03b5</th><th>\u03bb</th><th>\u03b3</th><th>\u03b5</th><th>\u03b9</th><th>\u03b1</th><th>\u03bd</th><th>&nbsp;</th><th>&nbsp;</th><th>\u03ba</th><th>\u03b1</th><th>\u03b9</th><th>&nbsp;</th><th>&nbsp;</th><th>\u03c4</th><th>\u03bf</th><th>\u03bd</th><th>&nbsp;</th><th>&nbsp;</th><th>\u03bc</th><th>\u03bf</th><th>\u03bd</th><th>\u03bf</th><th>\u03bd</th><th>&nbsp;</th><th>&nbsp;</th><th>\u03b4</th><th>\u03b5</th><th>\u03c3</th><th>\u03c0</th><th>\u03bf</th><th>\u03c4</th><th>\u03b7</th><th>\u03bd</th><th>&nbsp;</th><th>&nbsp;</th><th>\u03b8</th><th>\u03b5</th><th>\u03bf</th><th>\u03bd</th><th>&nbsp;</th><th>&nbsp;</th><th>\u03ba</th><th>\u03b1</th><th>\u03b9</th><th>&nbsp;</th><th>&nbsp;</th><th>\u03ba</th><th>\u03c5</th><th>\u03c1</th><th>\u03b9</th><th>\u03bf</th><th>\u03bd</th><th>&nbsp;</th><th>&nbsp;</th><th>\u03b7</th><th>\u03bc</th><th>\u03c9</th><th>\u03bd</th><th>&nbsp;</th><th>&nbsp;</th><th>\u03b9</th><th>\u03b7</th><th>\u03c3</th><th>\u03bf</th><th>\u03c5</th><th>\u03bd</th><th>&nbsp;</th><th>&nbsp;</th><th>\u03c7</th><th>\u03c1</th><th>\u03b9</th><th>\u03c3</th><th>\u03c4</th><th>\u03bf</th><th>\u03bd</th><th>&nbsp;</th><th>&nbsp;</th><th>\u03b1</th><th>\u03c1</th><th>\u03bd</th><th>\u03bf</th><th>\u03c5</th><th>\u03bc</th><th>\u03b5</th><th>\u03bd</th><th>\u03bf</th><th>\u03b9</th></tr></thead><tfoot><tr><td colspan=\"12\">1056 <sub>3</sub></td><td/><td/><td colspan=\"3\">104 <sub>5</sub></td><td/><td/><td colspan=\"5\">565 <sub>7</sub></td><td/><td/><td colspan=\"8\">1120 <sub>4</sub></td><td/><td/><td colspan=\"2\">80 <sub>8</sub></td><td/><td/><td colspan=\"5\">122 <sub>5</sub></td><td/><td/><td colspan=\"14\">577 <sub>1</sub></td><td/><td/><td colspan=\"3\">215 <sub>8</sub></td><td/><td/><td colspan=\"5\">1140 <sub>6</sub></td><td/><td/><td colspan=\"2\">370 <sub>1</sub></td><td/><td/><td colspan=\"5\">171 <sub>9</sub></td><td/><td/><td colspan=\"7\">423 <sub>9</sub></td><td/><td/><td colspan=\"3\">358 <sub>7</sub></td><td/><td/><td colspan=\"3\">770 <sub>5</sub></td><td/><td/><td colspan=\"4\">484 <sub>7</sub></td><td/><td/><td colspan=\"4\">898 <sub>7</sub></td><td/><td/><td colspan=\"5\">761 <sub>5</sub></td><td/><td/><td colspan=\"12\">1225 <sub>1</sub></td><td/><td/><td colspan=\"3\">215 <sub>8</sub></td><td/><td/><td colspan=\"9\">305 <sub>8</sub></td><td/><td/><td colspan=\"3\">31 <sub>4</sub></td><td/><td/><td colspan=\"3\">420 <sub>6</sub></td><td/><td/><td colspan=\"5\">280 <sub>1</sub></td><td/><td/><td colspan=\"8\">717 <sub>6</sub></td><td/><td/><td colspan=\"4\">134 <sub>8</sub></td><td/><td/><td colspan=\"3\">31 <sub>4</sub></td><td/><td/><td colspan=\"6\">650 <sub>2</sub></td><td/><td/><td colspan=\"4\">898 <sub>7</sub></td><td/><td/><td colspan=\"6\">738 <sub>9</sub></td><td/><td/><td colspan=\"7\">1330 <sub>7</sub></td><td/><td/><td colspan=\"10\">796 <sub>4</sub></td></tr><tr><td colspan=\"234\" style=\"border-top: solid 1px #ddd\">16984 <sub>28 / 1</sub></td></tr></tfoot><tbody><tr><td>p</td><td>a</td><td>r</td><td>e</td><td>i</td><td>s</td><td>e</td><td>d</td><td>u</td><td>s</td><td>a</td><td>n</td><td/><td class=\"empty-cell\"/><td>g</td><td>a</td><td>r</td><td/><td class=\"empty-cell\"/><td>t</td><td>i</td><td>n</td><td>e</td><td>s</td><td/><td class=\"empty-cell\"/><td>a</td><td>n</td><td>q</td><td>r</td><td>w</td><td>p</td><td>o</td><td>i</td><td/><td class=\"empty-cell\"/><td>o</td><td>i</td><td/><td class=\"empty-cell\"/><td>p</td><td>a</td><td>l</td><td>a</td><td>i</td><td/><td class=\"empty-cell\"/><td>p</td><td>r</td><td>o</td><td>g</td><td>e</td><td>g</td><td>r</td><td>a</td><td>m</td><td>m</td><td>e</td><td>n</td><td>o</td><td>i</td><td/><td class=\"empty-cell\"/><td>e</td><td>i</td><td>s</td><td/><td class=\"empty-cell\"/><td>t</td><td>o</td><td>u</td><td>t</td><td>o</td><td/><td class=\"empty-cell\"/><td>t</td><td>o</td><td/><td class=\"empty-cell\"/><td>k</td><td>r</td><td>i</td><td>m</td><td>a</td><td/><td class=\"empty-cell\"/><td>a</td><td>s</td><td>e</td><td>b</td><td>e</td><td>i</td><td>s</td><td/><td class=\"empty-cell\"/><td>t</td><td>h</td><td>n</td><td/><td class=\"empty-cell\"/><td>t</td><td>o</td><td>u</td><td/><td class=\"empty-cell\"/><td>q</td><td>e</td><td>o</td><td>u</td><td/><td class=\"empty-cell\"/><td>h</td><td>m</td><td>w</td><td>n</td><td/><td class=\"empty-cell\"/><td>x</td><td>a</td><td>r</td><td>i</td><td>n</td><td/><td class=\"empty-cell\"/><td>m</td><td>e</td><td>t</td><td>a</td><td>t</td><td>i</td><td>q</td><td>e</td><td>n</td><td>t</td><td>e</td><td>s</td><td/><td class=\"empty-cell\"/><td>e</td><td>i</td><td>s</td><td/><td class=\"empty-cell\"/><td>a</td><td>s</td><td>e</td><td>l</td><td>g</td><td>e</td><td>i</td><td>a</td><td>n</td><td/><td class=\"empty-cell\"/><td>k</td><td>a</td><td>i</td><td/><td class=\"empty-cell\"/><td>t</td><td>o</td><td>n</td><td/><td class=\"empty-cell\"/><td>m</td><td>o</td><td>n</td><td>o</td><td>n</td><td/><td class=\"empty-cell\"/><td>d</td><td>e</td><td>s</td><td>p</td><td>o</td><td>t</td><td>h</td><td>n</td><td/><td class=\"empty-cell\"/><td>q</td><td>e</td><td>o</td><td>n</td><td/><td class=\"empty-cell\"/><td>k</td><td>a</td><td>i</td><td/><td class=\"empty-cell\"/><td>k</td><td>u</td><td>r</td><td>i</td><td>o</td><td>n</td><td/><td class=\"empty-cell\"/><td>h</td><td>m</td><td>w</td><td>n</td><td/><td class=\"empty-cell\"/><td>i</td><td>h</td><td>s</td><td>o</td><td>u</td><td>n</td><td/><td class=\"empty-cell\"/><td>x</td><td>r</td><td>i</td><td>s</td><td>t</td><td>o</td><td>n</td><td/><td class=\"empty-cell\"/><td>a</td><td>r</td><td>n</td><td>o</td><td>u</td><td>m</td><td>e</td><td>n</td><td>o</td><td>i</td></tr><tr><td>80</td><td>1</td><td>100</td><td>5</td><td>10</td><td>200</td><td>5</td><td>4</td><td>400</td><td>200</td><td>1</td><td>50</td><td/><td class=\"empty-cell\"/><td>3</td><td>1</td><td>100</td><td/><td class=\"empty-cell\"/><td>300</td><td>10</td><td>50</td><td>5</td><td>200</td><td/><td class=\"empty-cell\"/><td>1</td><td>50</td><td>9</td><td>100</td><td>800</td><td>80</td><td>70</td><td>10</td><td/><td class=\"empty-cell\"/><td>70</td><td>10</td><td/><td class=\"empty-cell\"/><td>80</td><td>1</td><td>30</td><td>1</td><td>10</td><td/><td class=\"empty-cell\"/><td>80</td><td>100</td><td>70</td><td>3</td><td>5</td><td>3</td><td>100</td><td>1</td><td>40</td><td>40</td><td>5</td><td>50</td><td>70</td><td>10</td><td/><td class=\"empty-cell\"/><td>5</td><td>10</td><td>200</td><td/><td class=\"empty-cell\"/><td>300</td><td>70</td><td>400</td><td>300</td><td>70</td><td/><td class=\"empty-cell\"/><td>300</td><td>70</td><td/><td class=\"empty-cell\"/><td>20</td><td>100</td><td>10</td><td>40</td><td>1</td><td/><td class=\"empty-cell\"/><td>1</td><td>200</td><td>5</td><td>2</td><td>5</td><td>10</td><td>200</td><td/><td class=\"empty-cell\"/><td>300</td><td>8</td><td>50</td><td/><td class=\"empty-cell\"/><td>300</td><td>70</td><td>400</td><td/><td class=\"empty-cell\"/><td>9</td><td>5</td><td>70</td><td>400</td><td/><td class=\"empty-cell\"/><td>8</td><td>40</td><td>800</td><td>50</td><td/><td class=\"empty-cell\"/><td>600</td><td>1</td><td>100</td><td>10</td><td>50</td><td/><td class=\"empty-cell\"/><td>40</td><td>5</td><td>300</td><td>1</td><td>300</td><td>10</td><td>9</td><td>5</td><td>50</td><td>300</td><td>5</td><td>200</td><td/><td class=\"empty-cell\"/><td>5</td><td>10</td><td>200</td><td/><td class=\"empty-cell\"/><td>1</td><td>200</td><td>5</td><td>30</td><td>3</td><td>5</td><td>10</td><td>1</td><td>50</td><td/><td class=\"empty-cell\"/><td>20</td><td>1</td><td>10</td><td/><td class=\"empty-cell\"/><td>300</td><td>70</td><td>50</td><td/><td class=\"empty-cell\"/><td>40</td><td>70</td><td>50</td><td>70</td><td>50</td><td/><td class=\"empty-cell\"/><td>4</td><td>5</td><td>200</td><td>80</td><td>70</td><td>300</td><td>8</td><td>50</td><td/><td class=\"empty-cell\"/><td>9</td><td>5</td><td>70</td><td>50</td><td/><td class=\"empty-cell\"/><td>20</td><td>1</td><td>10</td><td/><td class=\"empty-cell\"/><td>20</td><td>400</td><td>100</td><td>10</td><td>70</td><td>50</td><td/><td class=\"empty-cell\"/><td>8</td><td>40</td><td>800</td><td>50</td><td/><td class=\"empty-cell\"/><td>10</td><td>8</td><td>200</td><td>70</td><td>400</td><td>50</td><td/><td class=\"empty-cell\"/><td>600</td><td>100</td><td>10</td><td>200</td><td>300</td><td>70</td><td>50</td><td/><td class=\"empty-cell\"/><td>1</td><td>100</td><td>50</td><td>70</td><td>400</td><td>40</td><td>5</td><td>50</td><td>70</td><td>10</td></tr></tbody></table>"
       ],
       "metadata": {},
       "output_type": "pyout",
       "prompt_number": 7,
       "text": [
        "<remarkuple.table.table at 0xc8642b0>"
       ]
      }
     ],
     "prompt_number": 7
    },
    {
     "cell_type": "code",
     "collapsed": false,
     "input": [
      "char_table(tr.get_verse('1 Thessalonians', 1, 1))"
     ],
     "language": "python",
     "metadata": {},
     "outputs": [
      {
       "html": [
        "<table class=\"char-table\"><caption>\u03c0\u03b1\u03c5\u03bb\u03bf\u03c2 \u03ba\u03b1\u03b9 \u03c3\u03b9\u03bb\u03bf\u03c5\u03b1\u03bd\u03bf\u03c2 \u03ba\u03b1\u03b9 \u03c4\u03b9\u03bc\u03bf\u03b8\u03b5\u03bf\u03c2 \u03c4\u03b7 \u03b5\u03ba\u03ba\u03bb\u03b7\u03c3\u03b9\u03b1 \u03b8\u03b5\u03c3\u03c3\u03b1\u03bb\u03bf\u03bd\u03b9\u03ba\u03b5\u03c9\u03bd \u03b5\u03bd \u03b8\u03b5\u03c9 \u03c0\u03b1\u03c4\u03c1\u03b9 \u03ba\u03b1\u03b9 \u03ba\u03c5\u03c1\u03b9\u03c9 \u03b9\u03b7\u03c3\u03bf\u03c5 \u03c7\u03c1\u03b9\u03c3\u03c4\u03c9 \u03c7\u03b1\u03c1\u03b9\u03c2 \u03c5\u03bc\u03b9\u03bd \u03ba\u03b1\u03b9 \u03b5\u03b9\u03c1\u03b7\u03bd\u03b7 \u03b1\u03c0\u03bf \u03b8\u03b5\u03bf\u03c5 \u03c0\u03b1\u03c4\u03c1\u03bf\u03c2 \u03b7\u03bc\u03c9\u03bd \u03ba\u03b1\u03b9 \u03ba\u03c5\u03c1\u03b9\u03bf\u03c5 \u03b9\u03b7\u03c3\u03bf\u03c5 \u03c7\u03c1\u03b9\u03c3\u03c4\u03bf\u03c5</caption><thead><tr><th>\u03c0</th><th>\u03b1</th><th>\u03c5</th><th>\u03bb</th><th>\u03bf</th><th>\u03c2</th><th>&nbsp;</th><th>&nbsp;</th><th>\u03ba</th><th>\u03b1</th><th>\u03b9</th><th>&nbsp;</th><th>&nbsp;</th><th>\u03c3</th><th>\u03b9</th><th>\u03bb</th><th>\u03bf</th><th>\u03c5</th><th>\u03b1</th><th>\u03bd</th><th>\u03bf</th><th>\u03c2</th><th>&nbsp;</th><th>&nbsp;</th><th>\u03ba</th><th>\u03b1</th><th>\u03b9</th><th>&nbsp;</th><th>&nbsp;</th><th>\u03c4</th><th>\u03b9</th><th>\u03bc</th><th>\u03bf</th><th>\u03b8</th><th>\u03b5</th><th>\u03bf</th><th>\u03c2</th><th>&nbsp;</th><th>&nbsp;</th><th>\u03c4</th><th>\u03b7</th><th>&nbsp;</th><th>&nbsp;</th><th>\u03b5</th><th>\u03ba</th><th>\u03ba</th><th>\u03bb</th><th>\u03b7</th><th>\u03c3</th><th>\u03b9</th><th>\u03b1</th><th>&nbsp;</th><th>&nbsp;</th><th>\u03b8</th><th>\u03b5</th><th>\u03c3</th><th>\u03c3</th><th>\u03b1</th><th>\u03bb</th><th>\u03bf</th><th>\u03bd</th><th>\u03b9</th><th>\u03ba</th><th>\u03b5</th><th>\u03c9</th><th>\u03bd</th><th>&nbsp;</th><th>&nbsp;</th><th>\u03b5</th><th>\u03bd</th><th>&nbsp;</th><th>&nbsp;</th><th>\u03b8</th><th>\u03b5</th><th>\u03c9</th><th>&nbsp;</th><th>&nbsp;</th><th>\u03c0</th><th>\u03b1</th><th>\u03c4</th><th>\u03c1</th><th>\u03b9</th><th>&nbsp;</th><th>&nbsp;</th><th>\u03ba</th><th>\u03b1</th><th>\u03b9</th><th>&nbsp;</th><th>&nbsp;</th><th>\u03ba</th><th>\u03c5</th><th>\u03c1</th><th>\u03b9</th><th>\u03c9</th><th>&nbsp;</th><th>&nbsp;</th><th>\u03b9</th><th>\u03b7</th><th>\u03c3</th><th>\u03bf</th><th>\u03c5</th><th>&nbsp;</th><th>&nbsp;</th><th>\u03c7</th><th>\u03c1</th><th>\u03b9</th><th>\u03c3</th><th>\u03c4</th><th>\u03c9</th><th>&nbsp;</th><th>&nbsp;</th><th>\u03c7</th><th>\u03b1</th><th>\u03c1</th><th>\u03b9</th><th>\u03c2</th><th>&nbsp;</th><th>&nbsp;</th><th>\u03c5</th><th>\u03bc</th><th>\u03b9</th><th>\u03bd</th><th>&nbsp;</th><th>&nbsp;</th><th>\u03ba</th><th>\u03b1</th><th>\u03b9</th><th>&nbsp;</th><th>&nbsp;</th><th>\u03b5</th><th>\u03b9</th><th>\u03c1</th><th>\u03b7</th><th>\u03bd</th><th>\u03b7</th><th>&nbsp;</th><th>&nbsp;</th><th>\u03b1</th><th>\u03c0</th><th>\u03bf</th><th>&nbsp;</th><th>&nbsp;</th><th>\u03b8</th><th>\u03b5</th><th>\u03bf</th><th>\u03c5</th><th>&nbsp;</th><th>&nbsp;</th><th>\u03c0</th><th>\u03b1</th><th>\u03c4</th><th>\u03c1</th><th>\u03bf</th><th>\u03c2</th><th>&nbsp;</th><th>&nbsp;</th><th>\u03b7</th><th>\u03bc</th><th>\u03c9</th><th>\u03bd</th><th>&nbsp;</th><th>&nbsp;</th><th>\u03ba</th><th>\u03b1</th><th>\u03b9</th><th>&nbsp;</th><th>&nbsp;</th><th>\u03ba</th><th>\u03c5</th><th>\u03c1</th><th>\u03b9</th><th>\u03bf</th><th>\u03c5</th><th>&nbsp;</th><th>&nbsp;</th><th>\u03b9</th><th>\u03b7</th><th>\u03c3</th><th>\u03bf</th><th>\u03c5</th><th>&nbsp;</th><th>&nbsp;</th><th>\u03c7</th><th>\u03c1</th><th>\u03b9</th><th>\u03c3</th><th>\u03c4</th><th>\u03bf</th><th>\u03c5</th></tr></thead><tfoot><tr><td colspan=\"6\">781 <sub>7</sub></td><td/><td/><td colspan=\"3\">31 <sub>4</sub></td><td/><td/><td colspan=\"9\">1031 <sub>5</sub></td><td/><td/><td colspan=\"3\">31 <sub>4</sub></td><td/><td/><td colspan=\"8\">704 <sub>2</sub></td><td/><td/><td colspan=\"2\">308 <sub>2</sub></td><td/><td/><td colspan=\"8\">294 <sub>6</sub></td><td/><td/><td colspan=\"13\">1450 <sub>1</sub></td><td/><td/><td colspan=\"2\">55 <sub>1</sub></td><td/><td/><td colspan=\"3\">814 <sub>4</sub></td><td/><td/><td colspan=\"5\">491 <sub>5</sub></td><td/><td/><td colspan=\"3\">31 <sub>4</sub></td><td/><td/><td colspan=\"5\">1330 <sub>7</sub></td><td/><td/><td colspan=\"5\">688 <sub>4</sub></td><td/><td/><td colspan=\"6\">2010 <sub>3</sub></td><td/><td/><td colspan=\"5\">911 <sub>2</sub></td><td/><td/><td colspan=\"4\">500 <sub>5</sub></td><td/><td/><td colspan=\"3\">31 <sub>4</sub></td><td/><td/><td colspan=\"6\">181 <sub>1</sub></td><td/><td/><td colspan=\"3\">151 <sub>7</sub></td><td/><td/><td colspan=\"4\">484 <sub>7</sub></td><td/><td/><td colspan=\"6\">751 <sub>4</sub></td><td/><td/><td colspan=\"4\">898 <sub>7</sub></td><td/><td/><td colspan=\"3\">31 <sub>4</sub></td><td/><td/><td colspan=\"6\">1000 <sub>1</sub></td><td/><td/><td colspan=\"5\">688 <sub>4</sub></td><td/><td/><td colspan=\"7\">1680 <sub>6</sub></td></tr><tr><td colspan=\"190\" style=\"border-top: solid 1px #ddd\">17355 <sub>21 / 3</sub></td></tr></tfoot><tbody><tr><td>p</td><td>a</td><td>u</td><td>l</td><td>o</td><td>s</td><td/><td class=\"empty-cell\"/><td>k</td><td>a</td><td>i</td><td/><td class=\"empty-cell\"/><td>s</td><td>i</td><td>l</td><td>o</td><td>u</td><td>a</td><td>n</td><td>o</td><td>s</td><td/><td class=\"empty-cell\"/><td>k</td><td>a</td><td>i</td><td/><td class=\"empty-cell\"/><td>t</td><td>i</td><td>m</td><td>o</td><td>q</td><td>e</td><td>o</td><td>s</td><td/><td class=\"empty-cell\"/><td>t</td><td>h</td><td/><td class=\"empty-cell\"/><td>e</td><td>k</td><td>k</td><td>l</td><td>h</td><td>s</td><td>i</td><td>a</td><td/><td class=\"empty-cell\"/><td>q</td><td>e</td><td>s</td><td>s</td><td>a</td><td>l</td><td>o</td><td>n</td><td>i</td><td>k</td><td>e</td><td>w</td><td>n</td><td/><td class=\"empty-cell\"/><td>e</td><td>n</td><td/><td class=\"empty-cell\"/><td>q</td><td>e</td><td>w</td><td/><td class=\"empty-cell\"/><td>p</td><td>a</td><td>t</td><td>r</td><td>i</td><td/><td class=\"empty-cell\"/><td>k</td><td>a</td><td>i</td><td/><td class=\"empty-cell\"/><td>k</td><td>u</td><td>r</td><td>i</td><td>w</td><td/><td class=\"empty-cell\"/><td>i</td><td>h</td><td>s</td><td>o</td><td>u</td><td/><td class=\"empty-cell\"/><td>x</td><td>r</td><td>i</td><td>s</td><td>t</td><td>w</td><td/><td class=\"empty-cell\"/><td>x</td><td>a</td><td>r</td><td>i</td><td>s</td><td/><td class=\"empty-cell\"/><td>u</td><td>m</td><td>i</td><td>n</td><td/><td class=\"empty-cell\"/><td>k</td><td>a</td><td>i</td><td/><td class=\"empty-cell\"/><td>e</td><td>i</td><td>r</td><td>h</td><td>n</td><td>h</td><td/><td class=\"empty-cell\"/><td>a</td><td>p</td><td>o</td><td/><td class=\"empty-cell\"/><td>q</td><td>e</td><td>o</td><td>u</td><td/><td class=\"empty-cell\"/><td>p</td><td>a</td><td>t</td><td>r</td><td>o</td><td>s</td><td/><td class=\"empty-cell\"/><td>h</td><td>m</td><td>w</td><td>n</td><td/><td class=\"empty-cell\"/><td>k</td><td>a</td><td>i</td><td/><td class=\"empty-cell\"/><td>k</td><td>u</td><td>r</td><td>i</td><td>o</td><td>u</td><td/><td class=\"empty-cell\"/><td>i</td><td>h</td><td>s</td><td>o</td><td>u</td><td/><td class=\"empty-cell\"/><td>x</td><td>r</td><td>i</td><td>s</td><td>t</td><td>o</td><td>u</td></tr><tr><td>80</td><td>1</td><td>400</td><td>30</td><td>70</td><td>200</td><td/><td class=\"empty-cell\"/><td>20</td><td>1</td><td>10</td><td/><td class=\"empty-cell\"/><td>200</td><td>10</td><td>30</td><td>70</td><td>400</td><td>1</td><td>50</td><td>70</td><td>200</td><td/><td class=\"empty-cell\"/><td>20</td><td>1</td><td>10</td><td/><td class=\"empty-cell\"/><td>300</td><td>10</td><td>40</td><td>70</td><td>9</td><td>5</td><td>70</td><td>200</td><td/><td class=\"empty-cell\"/><td>300</td><td>8</td><td/><td class=\"empty-cell\"/><td>5</td><td>20</td><td>20</td><td>30</td><td>8</td><td>200</td><td>10</td><td>1</td><td/><td class=\"empty-cell\"/><td>9</td><td>5</td><td>200</td><td>200</td><td>1</td><td>30</td><td>70</td><td>50</td><td>10</td><td>20</td><td>5</td><td>800</td><td>50</td><td/><td class=\"empty-cell\"/><td>5</td><td>50</td><td/><td class=\"empty-cell\"/><td>9</td><td>5</td><td>800</td><td/><td class=\"empty-cell\"/><td>80</td><td>1</td><td>300</td><td>100</td><td>10</td><td/><td class=\"empty-cell\"/><td>20</td><td>1</td><td>10</td><td/><td class=\"empty-cell\"/><td>20</td><td>400</td><td>100</td><td>10</td><td>800</td><td/><td class=\"empty-cell\"/><td>10</td><td>8</td><td>200</td><td>70</td><td>400</td><td/><td class=\"empty-cell\"/><td>600</td><td>100</td><td>10</td><td>200</td><td>300</td><td>800</td><td/><td class=\"empty-cell\"/><td>600</td><td>1</td><td>100</td><td>10</td><td>200</td><td/><td class=\"empty-cell\"/><td>400</td><td>40</td><td>10</td><td>50</td><td/><td class=\"empty-cell\"/><td>20</td><td>1</td><td>10</td><td/><td class=\"empty-cell\"/><td>5</td><td>10</td><td>100</td><td>8</td><td>50</td><td>8</td><td/><td class=\"empty-cell\"/><td>1</td><td>80</td><td>70</td><td/><td class=\"empty-cell\"/><td>9</td><td>5</td><td>70</td><td>400</td><td/><td class=\"empty-cell\"/><td>80</td><td>1</td><td>300</td><td>100</td><td>70</td><td>200</td><td/><td class=\"empty-cell\"/><td>8</td><td>40</td><td>800</td><td>50</td><td/><td class=\"empty-cell\"/><td>20</td><td>1</td><td>10</td><td/><td class=\"empty-cell\"/><td>20</td><td>400</td><td>100</td><td>10</td><td>70</td><td>400</td><td/><td class=\"empty-cell\"/><td>10</td><td>8</td><td>200</td><td>70</td><td>400</td><td/><td class=\"empty-cell\"/><td>600</td><td>100</td><td>10</td><td>200</td><td>300</td><td>70</td><td>400</td></tr></tbody></table>"
       ],
       "metadata": {},
       "output_type": "pyout",
       "prompt_number": 8,
       "text": [
        "<remarkuple.table.table at 0x3af29b0>"
       ]
      }
     ],
     "prompt_number": 8
    },
    {
     "cell_type": "code",
     "collapsed": false,
     "input": [
      "char_table(tr.get_verse('2 Corinthians', 4, 5))"
     ],
     "language": "python",
     "metadata": {},
     "outputs": [
      {
       "html": [
        "<table class=\"char-table\"><caption>\u03bf\u03c5 \u03b3\u03b1\u03c1 \u03b5\u03b1\u03c5\u03c4\u03bf\u03c5\u03c2 \u03ba\u03b7\u03c1\u03c5\u03c3\u03c3\u03bf\u03bc\u03b5\u03bd \u03b1\u03bb\u03bb\u03b1 \u03c7\u03c1\u03b9\u03c3\u03c4\u03bf\u03bd \u03b9\u03b7\u03c3\u03bf\u03c5\u03bd \u03ba\u03c5\u03c1\u03b9\u03bf\u03bd \u03b5\u03b1\u03c5\u03c4\u03bf\u03c5\u03c2 \u03b4\u03b5 \u03b4\u03bf\u03c5\u03bb\u03bf\u03c5\u03c2 \u03c5\u03bc\u03c9\u03bd \u03b4\u03b9\u03b1 \u03b9\u03b7\u03c3\u03bf\u03c5\u03bd</caption><thead><tr><th>\u03bf</th><th>\u03c5</th><th>&nbsp;</th><th>&nbsp;</th><th>\u03b3</th><th>\u03b1</th><th>\u03c1</th><th>&nbsp;</th><th>&nbsp;</th><th>\u03b5</th><th>\u03b1</th><th>\u03c5</th><th>\u03c4</th><th>\u03bf</th><th>\u03c5</th><th>\u03c2</th><th>&nbsp;</th><th>&nbsp;</th><th>\u03ba</th><th>\u03b7</th><th>\u03c1</th><th>\u03c5</th><th>\u03c3</th><th>\u03c3</th><th>\u03bf</th><th>\u03bc</th><th>\u03b5</th><th>\u03bd</th><th>&nbsp;</th><th>&nbsp;</th><th>\u03b1</th><th>\u03bb</th><th>\u03bb</th><th>\u03b1</th><th>&nbsp;</th><th>&nbsp;</th><th>\u03c7</th><th>\u03c1</th><th>\u03b9</th><th>\u03c3</th><th>\u03c4</th><th>\u03bf</th><th>\u03bd</th><th>&nbsp;</th><th>&nbsp;</th><th>\u03b9</th><th>\u03b7</th><th>\u03c3</th><th>\u03bf</th><th>\u03c5</th><th>\u03bd</th><th>&nbsp;</th><th>&nbsp;</th><th>\u03ba</th><th>\u03c5</th><th>\u03c1</th><th>\u03b9</th><th>\u03bf</th><th>\u03bd</th><th>&nbsp;</th><th>&nbsp;</th><th>\u03b5</th><th>\u03b1</th><th>\u03c5</th><th>\u03c4</th><th>\u03bf</th><th>\u03c5</th><th>\u03c2</th><th>&nbsp;</th><th>&nbsp;</th><th>\u03b4</th><th>\u03b5</th><th>&nbsp;</th><th>&nbsp;</th><th>\u03b4</th><th>\u03bf</th><th>\u03c5</th><th>\u03bb</th><th>\u03bf</th><th>\u03c5</th><th>\u03c2</th><th>&nbsp;</th><th>&nbsp;</th><th>\u03c5</th><th>\u03bc</th><th>\u03c9</th><th>\u03bd</th><th>&nbsp;</th><th>&nbsp;</th><th>\u03b4</th><th>\u03b9</th><th>\u03b1</th><th>&nbsp;</th><th>&nbsp;</th><th>\u03b9</th><th>\u03b7</th><th>\u03c3</th><th>\u03bf</th><th>\u03c5</th><th>\u03bd</th></tr></thead><tfoot><tr><td colspan=\"2\">470 <sub>2</sub></td><td/><td/><td colspan=\"3\">104 <sub>5</sub></td><td/><td/><td colspan=\"7\">1376 <sub>8</sub></td><td/><td/><td colspan=\"10\">1093 <sub>4</sub></td><td/><td/><td colspan=\"4\">62 <sub>8</sub></td><td/><td/><td colspan=\"7\">1330 <sub>7</sub></td><td/><td/><td colspan=\"6\">738 <sub>9</sub></td><td/><td/><td colspan=\"6\">650 <sub>2</sub></td><td/><td/><td colspan=\"7\">1376 <sub>8</sub></td><td/><td/><td colspan=\"2\">9 <sub>9</sub></td><td/><td/><td colspan=\"7\">1174 <sub>4</sub></td><td/><td/><td colspan=\"4\">1290 <sub>3</sub></td><td/><td/><td colspan=\"3\">15 <sub>6</sub></td><td/><td/><td colspan=\"6\">738 <sub>9</sub></td></tr><tr><td colspan=\"101\" style=\"border-top: solid 1px #ddd\">10425 <sub>12 / 3</sub></td></tr></tfoot><tbody><tr><td>o</td><td>u</td><td/><td class=\"empty-cell\"/><td>g</td><td>a</td><td>r</td><td/><td class=\"empty-cell\"/><td>e</td><td>a</td><td>u</td><td>t</td><td>o</td><td>u</td><td>s</td><td/><td class=\"empty-cell\"/><td>k</td><td>h</td><td>r</td><td>u</td><td>s</td><td>s</td><td>o</td><td>m</td><td>e</td><td>n</td><td/><td class=\"empty-cell\"/><td>a</td><td>l</td><td>l</td><td>a</td><td/><td class=\"empty-cell\"/><td>x</td><td>r</td><td>i</td><td>s</td><td>t</td><td>o</td><td>n</td><td/><td class=\"empty-cell\"/><td>i</td><td>h</td><td>s</td><td>o</td><td>u</td><td>n</td><td/><td class=\"empty-cell\"/><td>k</td><td>u</td><td>r</td><td>i</td><td>o</td><td>n</td><td/><td class=\"empty-cell\"/><td>e</td><td>a</td><td>u</td><td>t</td><td>o</td><td>u</td><td>s</td><td/><td class=\"empty-cell\"/><td>d</td><td>e</td><td/><td class=\"empty-cell\"/><td>d</td><td>o</td><td>u</td><td>l</td><td>o</td><td>u</td><td>s</td><td/><td class=\"empty-cell\"/><td>u</td><td>m</td><td>w</td><td>n</td><td/><td class=\"empty-cell\"/><td>d</td><td>i</td><td>a</td><td/><td class=\"empty-cell\"/><td>i</td><td>h</td><td>s</td><td>o</td><td>u</td><td>n</td></tr><tr><td>70</td><td>400</td><td/><td class=\"empty-cell\"/><td>3</td><td>1</td><td>100</td><td/><td class=\"empty-cell\"/><td>5</td><td>1</td><td>400</td><td>300</td><td>70</td><td>400</td><td>200</td><td/><td class=\"empty-cell\"/><td>20</td><td>8</td><td>100</td><td>400</td><td>200</td><td>200</td><td>70</td><td>40</td><td>5</td><td>50</td><td/><td class=\"empty-cell\"/><td>1</td><td>30</td><td>30</td><td>1</td><td/><td class=\"empty-cell\"/><td>600</td><td>100</td><td>10</td><td>200</td><td>300</td><td>70</td><td>50</td><td/><td class=\"empty-cell\"/><td>10</td><td>8</td><td>200</td><td>70</td><td>400</td><td>50</td><td/><td class=\"empty-cell\"/><td>20</td><td>400</td><td>100</td><td>10</td><td>70</td><td>50</td><td/><td class=\"empty-cell\"/><td>5</td><td>1</td><td>400</td><td>300</td><td>70</td><td>400</td><td>200</td><td/><td class=\"empty-cell\"/><td>4</td><td>5</td><td/><td class=\"empty-cell\"/><td>4</td><td>70</td><td>400</td><td>30</td><td>70</td><td>400</td><td>200</td><td/><td class=\"empty-cell\"/><td>400</td><td>40</td><td>800</td><td>50</td><td/><td class=\"empty-cell\"/><td>4</td><td>10</td><td>1</td><td/><td class=\"empty-cell\"/><td>10</td><td>8</td><td>200</td><td>70</td><td>400</td><td>50</td></tr></tbody></table>"
       ],
       "metadata": {},
       "output_type": "pyout",
       "prompt_number": 9,
       "text": [
        "<remarkuple.table.table at 0xc864358>"
       ]
      }
     ],
     "prompt_number": 9
    },
    {
     "cell_type": "code",
     "collapsed": false,
     "input": [
      "def find_and_print(phrase, list_rows = False):\n",
      "    rows = tr.match_phrase(phrase)\n",
      "    print \"Isopsephy value of the phrase:\", \\\n",
      "          phrase, \"is\", isopsephy(phrase), \\\n",
      "          \"and it is found %s times in this form from the corpus\" % len(rows)\n",
      "    if list_rows is True:\n",
      "        return tr.list_rows(rows)\n",
      "\n",
      "find_and_print(\"\u03ba\u03c5\u03c1\u03b9\u03bf\u03c2 \u03b9\u03b7\u03c3\u03bf\u03c5\u03c2 \u03c7\u03c1\u03b9\u03c3\u03c4\u03bf\u03c2\", True)"
     ],
     "language": "python",
     "metadata": {},
     "outputs": [
      {
       "output_type": "stream",
       "stream": "stdout",
       "text": [
        "Isopsephy value of the phrase: \u03ba\u03c5\u03c1\u03b9\u03bf\u03c2 \u03b9\u03b7\u03c3\u03bf\u03c5\u03c2 \u03c7\u03c1\u03b9\u03c3\u03c4\u03bf\u03c2 is 3168 and it is found 3 times in this form from the corpus\n"
       ]
      },
      {
       "html": [
        "<ul><li><span><b>1 Corinthians 8:6</b></span> - <span>\u03b1\u03bb\u03bb \u03b7\u03bc\u03b9\u03bd \u03b5\u03b9\u03c2 \u03b8\u03b5\u03bf\u03c2 \u03bf \u03c0\u03b1\u03c4\u03b7\u03c1 \u03b5\u03be \u03bf\u03c5 \u03c4\u03b1 \u03c0\u03b1\u03bd\u03c4\u03b1 \u03ba\u03b1\u03b9 \u03b7\u03bc\u03b5\u03b9\u03c2 \u03b5\u03b9\u03c2 \u03b1\u03c5\u03c4\u03bf\u03bd \u03ba\u03b1\u03b9 \u03b5\u03b9\u03c2 <b style=\"color: brown; text-decoration: underline; cursor: pointer\" title=\"kurios\">\u03ba\u03c5\u03c1\u03b9\u03bf\u03c2</b> <b style=\"color: brown; text-decoration: underline; cursor: pointer\" title=\"ihsous\">\u03b9\u03b7\u03c3\u03bf\u03c5\u03c2</b> <b style=\"color: brown; text-decoration: underline; cursor: pointer\" title=\"xristos\">\u03c7\u03c1\u03b9\u03c3\u03c4\u03bf\u03c2</b> \u03b4\u03b9 \u03bf\u03c5 \u03c4\u03b1 \u03c0\u03b1\u03bd\u03c4\u03b1 \u03ba\u03b1\u03b9 \u03b7\u03bc\u03b5\u03b9\u03c2 \u03b4\u03b9 \u03b1\u03c5\u03c4\u03bf\u03c5</span></li><li><span><b>Philippians 2:11</b></span> - <span>\u03ba\u03b1\u03b9 \u03c0\u03b1\u03c3\u03b1 \u03b3\u03bb\u03c9\u03c3\u03c3\u03b1 \u03b5\u03be\u03bf\u03bc\u03bf\u03bb\u03bf\u03b3\u03b7\u03c3\u03b7\u03c4\u03b1\u03b9 \u03bf\u03c4\u03b9 <b style=\"color: brown; text-decoration: underline; cursor: pointer\" title=\"kurios\">\u03ba\u03c5\u03c1\u03b9\u03bf\u03c2</b> <b style=\"color: brown; text-decoration: underline; cursor: pointer\" title=\"ihsous\">\u03b9\u03b7\u03c3\u03bf\u03c5\u03c2</b> <b style=\"color: brown; text-decoration: underline; cursor: pointer\" title=\"xristos\">\u03c7\u03c1\u03b9\u03c3\u03c4\u03bf\u03c2</b> \u03b5\u03b9\u03c2 \u03b4\u03bf\u03be\u03b1\u03bd \u03b8\u03b5\u03bf\u03c5 \u03c0\u03b1\u03c4\u03c1\u03bf\u03c2</span></li><li><span><b>2 Timothy 4:22</b></span> - <span>\u03bf <b style=\"color: brown; text-decoration: underline; cursor: pointer\" title=\"kurios\">\u03ba\u03c5\u03c1\u03b9\u03bf\u03c2</b> <b style=\"color: brown; text-decoration: underline; cursor: pointer\" title=\"ihsous\">\u03b9\u03b7\u03c3\u03bf\u03c5\u03c2</b> <b style=\"color: brown; text-decoration: underline; cursor: pointer\" title=\"xristos\">\u03c7\u03c1\u03b9\u03c3\u03c4\u03bf\u03c2</b> \u03bc\u03b5\u03c4\u03b1 \u03c4\u03bf\u03c5 \u03c0\u03bd\u03b5\u03c5\u03bc\u03b1\u03c4\u03bf\u03c2 \u03c3\u03bf\u03c5 \u03b7 \u03c7\u03b1\u03c1\u03b9\u03c2 \u03bc\u03b5\u03b8 \u03c5\u03bc\u03c9\u03bd \u03b1\u03bc\u03b7\u03bd</span></li></ul>"
       ],
       "metadata": {},
       "output_type": "pyout",
       "prompt_number": 10,
       "text": [
        "<IPython.core.display.HTML at 0xa7ae898>"
       ]
      }
     ],
     "prompt_number": 10
    },
    {
     "cell_type": "code",
     "collapsed": false,
     "input": [
      "find_and_print(\"\u03b9\u03b7\u03c3\u03bf\u03c5\u03c2 \u03c7\u03c1\u03b9\u03c3\u03c4\u03bf\u03c2\")"
     ],
     "language": "python",
     "metadata": {},
     "outputs": [
      {
       "output_type": "stream",
       "stream": "stdout",
       "text": [
        "Isopsephy value of the phrase: \u03b9\u03b7\u03c3\u03bf\u03c5\u03c2 \u03c7\u03c1\u03b9\u03c3\u03c4\u03bf\u03c2 is 2368 and it is found 11 times in this form from the corpus\n"
       ]
      }
     ],
     "prompt_number": 11
    },
    {
     "cell_type": "code",
     "collapsed": false,
     "input": [
      "find_and_print(\"\u03c7\u03c1\u03b9\u03c3\u03c4\u03bf\u03c2 \u03b9\u03b7\u03c3\u03bf\u03c5\u03c2\", True)"
     ],
     "language": "python",
     "metadata": {},
     "outputs": [
      {
       "output_type": "stream",
       "stream": "stdout",
       "text": [
        "Isopsephy value of the phrase: \u03c7\u03c1\u03b9\u03c3\u03c4\u03bf\u03c2 \u03b9\u03b7\u03c3\u03bf\u03c5\u03c2 is 2368 and it is found 3 times in this form from the corpus\n"
       ]
      },
      {
       "html": [
        "<ul><li><span><b>Acts of the Apostles 17:3</b></span> - <span>\u03b4\u03b9\u03b1\u03bd\u03bf\u03b9\u03b3\u03c9\u03bd \u03ba\u03b1\u03b9 \u03c0\u03b1\u03c1\u03b1\u03c4\u03b9\u03b8\u03b5\u03bc\u03b5\u03bd\u03bf\u03c2 \u03bf\u03c4\u03b9 \u03c4\u03bf\u03bd \u03c7\u03c1\u03b9\u03c3\u03c4\u03bf\u03bd \u03b5\u03b4\u03b5\u03b9 \u03c0\u03b1\u03b8\u03b5\u03b9\u03bd \u03ba\u03b1\u03b9 \u03b1\u03bd\u03b1\u03c3\u03c4\u03b7\u03bd\u03b1\u03b9 \u03b5\u03ba \u03bd\u03b5\u03ba\u03c1\u03c9\u03bd \u03ba\u03b1\u03b9 \u03bf\u03c4\u03b9 \u03bf\u03c5\u03c4\u03bf\u03c2 \u03b5\u03c3\u03c4\u03b9\u03bd \u03bf <b style=\"color: brown; text-decoration: underline; cursor: pointer\" title=\"xristos\">\u03c7\u03c1\u03b9\u03c3\u03c4\u03bf\u03c2</b> <b style=\"color: brown; text-decoration: underline; cursor: pointer\" title=\"ihsous\">\u03b9\u03b7\u03c3\u03bf\u03c5\u03c2</b> \u03bf\u03bd \u03b5\u03b3\u03c9 \u03ba\u03b1\u03c4\u03b1\u03b3\u03b3\u03b5\u03bb\u03bb\u03c9 \u03c5\u03bc\u03b9\u03bd</span></li><li><span><b>1 Timothy 1:15</b></span> - <span>\u03c0\u03b9\u03c3\u03c4\u03bf\u03c2 \u03bf \u03bb\u03bf\u03b3\u03bf\u03c2 \u03ba\u03b1\u03b9 \u03c0\u03b1\u03c3\u03b7\u03c2 \u03b1\u03c0\u03bf\u03b4\u03bf\u03c7\u03b7\u03c2 \u03b1\u03be\u03b9\u03bf\u03c2 \u03bf\u03c4\u03b9 <b style=\"color: brown; text-decoration: underline; cursor: pointer\" title=\"xristos\">\u03c7\u03c1\u03b9\u03c3\u03c4\u03bf\u03c2</b> <b style=\"color: brown; text-decoration: underline; cursor: pointer\" title=\"ihsous\">\u03b9\u03b7\u03c3\u03bf\u03c5\u03c2</b> \u03b7\u03bb\u03b8\u03b5\u03bd \u03b5\u03b9\u03c2 \u03c4\u03bf\u03bd \u03ba\u03bf\u03c3\u03bc\u03bf\u03bd \u03b1\u03bc\u03b1\u03c1\u03c4\u03c9\u03bb\u03bf\u03c5\u03c2 \u03c3\u03c9\u03c3\u03b1\u03b9 \u03c9\u03bd \u03c0\u03c1\u03c9\u03c4\u03bf\u03c2 \u03b5\u03b9\u03bc\u03b9 \u03b5\u03b3\u03c9</span></li><li><span><b>1 Timothy 2:5</b></span> - <span>\u03b5\u03b9\u03c2 \u03b3\u03b1\u03c1 \u03b8\u03b5\u03bf\u03c2 \u03b5\u03b9\u03c2 \u03ba\u03b1\u03b9 \u03bc\u03b5\u03c3\u03b9\u03c4\u03b7\u03c2 \u03b8\u03b5\u03bf\u03c5 \u03ba\u03b1\u03b9 \u03b1\u03bd\u03b8\u03c1\u03c9\u03c0\u03c9\u03bd \u03b1\u03bd\u03b8\u03c1\u03c9\u03c0\u03bf\u03c2 <b style=\"color: brown; text-decoration: underline; cursor: pointer\" title=\"xristos\">\u03c7\u03c1\u03b9\u03c3\u03c4\u03bf\u03c2</b> <b style=\"color: brown; text-decoration: underline; cursor: pointer\" title=\"ihsous\">\u03b9\u03b7\u03c3\u03bf\u03c5\u03c2</b></span></li></ul>"
       ],
       "metadata": {},
       "output_type": "pyout",
       "prompt_number": 12,
       "text": [
        "<IPython.core.display.HTML at 0xcea5320>"
       ]
      }
     ],
     "prompt_number": 12
    },
    {
     "cell_type": "code",
     "collapsed": false,
     "input": [
      "find_and_print(\"\u03b9\u03b7\u03c3\u03bf\u03c5 \u03c7\u03c1\u03b9\u03c3\u03c4\u03bf\u03c5\")\n",
      "find_and_print(\"\u03c7\u03c1\u03b9\u03c3\u03c4\u03bf\u03c5 \u03b9\u03b7\u03c3\u03bf\u03c5\")\n",
      "find_and_print(\"\u03ba\u03c5\u03c1\u03b9\u03bf\u03c5 \u03b9\u03b7\u03c3\u03bf\u03c5 \u03c7\u03c1\u03b9\u03c3\u03c4\u03bf\u03c5\")"
     ],
     "language": "python",
     "metadata": {},
     "outputs": [
      {
       "output_type": "stream",
       "stream": "stdout",
       "text": [
        "Isopsephy value of the phrase: \u03b9\u03b7\u03c3\u03bf\u03c5 \u03c7\u03c1\u03b9\u03c3\u03c4\u03bf\u03c5 is 2368 and it is found 140 times in this form from the corpus\n",
        "Isopsephy value of the phrase: \u03c7\u03c1\u03b9\u03c3\u03c4\u03bf\u03c5 \u03b9\u03b7\u03c3\u03bf\u03c5 is 2368 and it is found 8 times in this form from the corpus\n",
        "Isopsephy value of the phrase:"
       ]
      },
      {
       "output_type": "stream",
       "stream": "stdout",
       "text": [
        " \u03ba\u03c5\u03c1\u03b9\u03bf\u03c5 \u03b9\u03b7\u03c3\u03bf\u03c5 \u03c7\u03c1\u03b9\u03c3\u03c4\u03bf\u03c5 is 3368 and it is found 21 times in this form from the corpus\n"
       ]
      }
     ],
     "prompt_number": 13
    },
    {
     "cell_type": "code",
     "collapsed": false,
     "input": [
      "def print_summary_by_lemma(lemma):\n",
      "    for word, row in voc.T[voc.T[0] == lemma].iterrows():\n",
      "        d = tr.match_phrase(word).groupby('orig_book_index')\n",
      "        find_and_print(word)\n",
      "        print \"--------------------------\\r\\n\", d.search.count(), \"\\r\\n\"\n",
      "\n",
      "print_summary_by_lemma('G2424')"
     ],
     "language": "python",
     "metadata": {},
     "outputs": [
      {
       "output_type": "stream",
       "stream": "stdout",
       "text": [
        "Isopsephy value of the phrase: \u03b9\u03b7\u03c3\u03bf\u03c5 is 688 and it is found 941 times in this form from the corpus\n",
        "--------------------------\r\n",
        "orig_book_index\n",
        "1 Corinthians            25\n",
        "1 John                   12\n",
        "1 Peter                  10\n",
        "1 Thessalonians          15\n",
        "1 Timothy                13\n",
        "2 Corinthians            16\n",
        "2 John                    2\n",
        "2 Peter                   8\n",
        "2 Thessalonians          11\n",
        "2 Timothy                13\n",
        "Acts of the Apostles     68\n",
        "Colossians                8\n",
        "Ephesians                20\n",
        "Galatians                16\n",
        "Hebrews                  14\n",
        "James                     2\n",
        "John                    246\n",
        "Jude                      4\n",
        "Luke                     95\n",
        "Mark                     90\n",
        "Matthew                 170\n",
        "Philemon                  7\n",
        "Philippians              21\n",
        "Revelation               13\n",
        "Romans                   38\n",
        "Titus                     4\n",
        "dtype: int64 \r\n",
        "\n",
        "Isopsephy value of the phrase:"
       ]
      },
      {
       "output_type": "stream",
       "stream": "stdout",
       "text": [
        " \u03b9\u03b7\u03c3\u03bf\u03c5\u03bd is 738 and it is found 131 times in this form from the corpus\n",
        "--------------------------\r\n",
        "orig_book_index\n",
        "1 Corinthians            4\n",
        "1 John                   3\n",
        "1 Thessalonians          2\n",
        "2 Corinthians            4\n",
        "2 John                   1\n",
        "2 Timothy                1\n",
        "Acts of the Apostles    27\n",
        "Colossians               1\n",
        "Ephesians                1\n",
        "Galatians                2\n",
        "Hebrews                  5\n",
        "John                    28\n",
        "Jude                     1\n",
        "Luke                    16\n",
        "Mark                    11\n",
        "Matthew                 14\n",
        "Philemon                 2\n",
        "Philippians              1\n",
        "Romans                   7\n",
        "dtype: int64 \r\n",
        "\n",
        "Isopsephy value of the phrase:"
       ]
      },
      {
       "output_type": "stream",
       "stream": "stdout",
       "text": [
        " \u03b9\u03b7\u03c3\u03bf\u03c5\u03c2 is 888 and it is found 501 times in this form from the corpus\n",
        "--------------------------\r\n",
        "orig_book_index\n",
        "1 Corinthians             3\n",
        "1 John                    5\n",
        "1 Thessalonians           2\n",
        "1 Timothy                 3\n",
        "2 Corinthians             2\n",
        "2 Peter                   1\n",
        "2 Thessalonians           1\n",
        "2 Timothy                 1\n",
        "Acts of the Apostles     11\n",
        "Colossians                1\n",
        "Galatians                 1\n",
        "Hebrews                   5\n",
        "John                    203\n",
        "Luke                     63\n",
        "Mark                     68\n",
        "Matthew                 129\n",
        "Philippians               1\n",
        "Revelation                1\n",
        "dtype: int64 \r\n",
        "\n"
       ]
      }
     ],
     "prompt_number": 14
    },
    {
     "cell_type": "code",
     "collapsed": false,
     "input": [
      "print_summary_by_lemma('G5547')"
     ],
     "language": "python",
     "metadata": {},
     "outputs": [
      {
       "output_type": "stream",
       "stream": "stdout",
       "text": [
        "Isopsephy value of the phrase: \u03c7\u03c1\u03b9\u03c3\u03c4\u03b5 is 1215 and it is found 1 times in this form from the corpus\n",
        "--------------------------\r\n",
        "orig_book_index\n",
        "Matthew            1\n",
        "dtype: int64 \r\n",
        "\n",
        "Isopsephy value of the phrase:"
       ]
      },
      {
       "output_type": "stream",
       "stream": "stdout",
       "text": [
        " \u03c7\u03c1\u03b9\u03c3\u03c4\u03bf\u03bd is 1330 and it is found 74 times in this form from the corpus\n",
        "--------------------------\r\n",
        "orig_book_index\n",
        "1 Corinthians            9\n",
        "1 John                   3\n",
        "1 Peter                  1\n",
        "2 Corinthians            4\n",
        "2 John                   1\n",
        "2 Timothy                1\n",
        "Acts of the Apostles    16\n",
        "Colossians               3\n",
        "Ephesians                4\n",
        "Galatians                5\n",
        "Hebrews                  1\n",
        "John                     2\n",
        "Jude                     1\n",
        "Luke                     7\n",
        "Matthew                  2\n",
        "Philemon                 1\n",
        "Philippians              5\n",
        "Romans                   8\n",
        "dtype: int64 \r\n",
        "\n",
        "Isopsephy value of the phrase:"
       ]
      },
      {
       "output_type": "stream",
       "stream": "stdout",
       "text": [
        " \u03c7\u03c1\u03b9\u03c3\u03c4\u03bf\u03c2 is 1480 and it is found 118 times in this form from the corpus\n",
        "--------------------------\r\n",
        "orig_book_index\n",
        "1 Corinthians           18\n",
        "1 John                   4\n",
        "1 Peter                  2\n",
        "1 Thessalonians          1\n",
        "1 Timothy                3\n",
        "2 Corinthians            2\n",
        "2 John                   1\n",
        "2 Peter                  1\n",
        "2 Thessalonians          1\n",
        "2 Timothy                1\n",
        "Acts of the Apostles     4\n",
        "Colossians               5\n",
        "Ephesians                5\n",
        "Galatians                9\n",
        "Hebrews                  6\n",
        "John                    17\n",
        "Luke                     6\n",
        "Mark                     5\n",
        "Matthew                  9\n",
        "Philippians              4\n",
        "Romans                  14\n",
        "dtype: int64 \r\n",
        "\n",
        "Isopsephy value of the phrase:"
       ]
      },
      {
       "output_type": "stream",
       "stream": "stdout",
       "text": [
        " \u03c7\u03c1\u03b9\u03c3\u03c4\u03bf\u03c5 is 1680 and it is found 257 times in this form from the corpus\n",
        "--------------------------\r\n",
        "orig_book_index\n",
        "1 Corinthians           25\n",
        "1 John                   4\n",
        "1 Peter                 14\n",
        "1 Thessalonians          9\n",
        "1 Timothy                8\n",
        "2 Corinthians           30\n",
        "2 John                   2\n",
        "2 Peter                  6\n",
        "2 Thessalonians         10\n",
        "2 Timothy                6\n",
        "Acts of the Apostles    11\n",
        "Colossians              11\n",
        "Ephesians               21\n",
        "Galatians               16\n",
        "Hebrews                  6\n",
        "James                    2\n",
        "John                     1\n",
        "Jude                     3\n",
        "Mark                     2\n",
        "Matthew                  5\n",
        "Philemon                 4\n",
        "Philippians             17\n",
        "Revelation              10\n",
        "Romans                  30\n",
        "Titus                    4\n",
        "dtype: int64 \r\n",
        "\n",
        "Isopsephy value of the phrase:"
       ]
      },
      {
       "output_type": "stream",
       "stream": "stdout",
       "text": [
        " \u03c7\u03c1\u03b9\u03c3\u03c4\u03c9 is 2010 and it is found 105 times in this form from the corpus\n",
        "--------------------------\r\n",
        "orig_book_index\n",
        "1 Corinthians      13\n",
        "1 John              1\n",
        "1 Peter             3\n",
        "1 Thessalonians     4\n",
        "1 Timothy           4\n",
        "2 Corinthians       9\n",
        "2 Thessalonians     1\n",
        "2 Timothy           7\n",
        "Colossians          7\n",
        "Ephesians          16\n",
        "Galatians           9\n",
        "Jude                1\n",
        "Philemon            2\n",
        "Philippians        12\n",
        "Romans             16\n",
        "dtype: int64 \r\n",
        "\n"
       ]
      }
     ],
     "prompt_number": 15
    },
    {
     "cell_type": "code",
     "collapsed": false,
     "input": [
      "print_summary_by_lemma('G2962')"
     ],
     "language": "python",
     "metadata": {},
     "outputs": [
      {
       "output_type": "stream",
       "stream": "stdout",
       "text": [
        "Isopsephy value of the phrase: \u03ba\u03c5\u03c1\u03b9\u03b5 is 535 and it is found 134 times in this form from the corpus\n",
        "--------------------------\r\n",
        "orig_book_index\n",
        "1 Peter                  1\n",
        "1 Timothy                1\n",
        "2 Corinthians            1\n",
        "Acts of the Apostles    17\n",
        "Hebrews                  1\n",
        "John                    33\n",
        "Luke                    29\n",
        "Mark                     3\n",
        "Matthew                 34\n",
        "Revelation               8\n",
        "Romans                   6\n",
        "dtype: int64 \r\n",
        "\n",
        "Isopsephy value of the phrase:"
       ]
      },
      {
       "output_type": "stream",
       "stream": "stdout",
       "text": [
        " \u03ba\u03c5\u03c1\u03b9\u03bf\u03b9 is 610 and it is found 11 times in this form from the corpus\n",
        "--------------------------\r\n",
        "orig_book_index\n",
        "1 Corinthians           1\n",
        "Acts of the Apostles    3\n",
        "Colossians              2\n",
        "Ephesians               2\n",
        "Luke                    2\n",
        "Matthew                 1\n",
        "dtype: int64 \r\n",
        "\n",
        "Isopsephy value of the phrase:"
       ]
      },
      {
       "output_type": "stream",
       "stream": "stdout",
       "text": [
        " \u03ba\u03c5\u03c1\u03b9\u03bf\u03b9\u03c2 is 810 and it is found 5 times in this form from the corpus\n",
        "--------------------------\r\n",
        "orig_book_index\n",
        "Acts of the Apostles    1\n",
        "Colossians              1\n",
        "Ephesians               1\n",
        "Luke                    1\n",
        "Matthew                 1\n",
        "dtype: int64 \r\n",
        "\n",
        "Isopsephy value of the phrase:"
       ]
      },
      {
       "output_type": "stream",
       "stream": "stdout",
       "text": [
        " \u03ba\u03c5\u03c1\u03b9\u03bf\u03bd is 650 and it is found 68 times in this form from the corpus\n",
        "--------------------------\r\n",
        "orig_book_index\n",
        "1 Corinthians            6\n",
        "1 Peter                  3\n",
        "1 Thessalonians          2\n",
        "2 Corinthians            6\n",
        "2 Timothy                1\n",
        "Acts of the Apostles    14\n",
        "Colossians               2\n",
        "Ephesians                1\n",
        "Hebrews                  3\n",
        "John                     6\n",
        "Jude                     1\n",
        "Luke                     9\n",
        "Mark                     2\n",
        "Matthew                  6\n",
        "Philemon                 1\n",
        "Philippians              1\n",
        "Romans                   4\n",
        "dtype: int64 \r\n",
        "\n",
        "Isopsephy value of the phrase:"
       ]
      },
      {
       "output_type": "stream",
       "stream": "stdout",
       "text": [
        " \u03ba\u03c5\u03c1\u03b9\u03bf\u03c2 is 800 and it is found 178 times in this form from the corpus\n",
        "--------------------------\r\n",
        "orig_book_index\n",
        "1 Corinthians           16\n",
        "1 Peter                  1\n",
        "1 Thessalonians          4\n",
        "1 Timothy                1\n",
        "2 Corinthians            6\n",
        "2 Peter                  3\n",
        "2 Thessalonians          5\n",
        "2 Timothy               10\n",
        "Acts of the Apostles    25\n",
        "Ephesians                3\n",
        "Galatians                1\n",
        "Hebrews                 10\n",
        "James                    4\n",
        "John                     7\n",
        "Jude                     3\n",
        "Luke                    31\n",
        "Mark                     9\n",
        "Matthew                 21\n",
        "Philippians              2\n",
        "Revelation              10\n",
        "Romans                   6\n",
        "dtype: int64 \r\n",
        "\n",
        "Isopsephy value of the phrase:"
       ]
      },
      {
       "output_type": "stream",
       "stream": "stdout",
       "text": [
        " \u03ba\u03c5\u03c1\u03b9\u03bf\u03c5 is 1000 and it is found 240 times in this form from the corpus\n",
        "--------------------------\r\n",
        "orig_book_index\n",
        "1 Corinthians           28\n",
        "1 Peter                  3\n",
        "1 Thessalonians         13\n",
        "1 Timothy                6\n",
        "2 Corinthians           14\n",
        "2 John                   1\n",
        "2 Peter                  9\n",
        "2 Thessalonians         12\n",
        "2 Timothy                6\n",
        "Acts of the Apostles    43\n",
        "Colossians               5\n",
        "Ephesians                9\n",
        "Galatians                5\n",
        "Hebrews                  2\n",
        "James                   10\n",
        "John                     6\n",
        "Jude                     2\n",
        "Luke                    25\n",
        "Mark                     5\n",
        "Matthew                 15\n",
        "Philemon                 2\n",
        "Philippians              3\n",
        "Revelation               2\n",
        "Romans                  13\n",
        "Titus                    1\n",
        "dtype: int64 \r\n",
        "\n",
        "Isopsephy value of the phrase:"
       ]
      },
      {
       "output_type": "stream",
       "stream": "stdout",
       "text": [
        " \u03ba\u03c5\u03c1\u03b9\u03c9 is 1330 and it is found 101 times in this form from the corpus\n",
        "--------------------------\r\n",
        "orig_book_index\n",
        "1 Corinthians           14\n",
        "1 Thessalonians          5\n",
        "1 Timothy                1\n",
        "2 Corinthians            3\n",
        "2 Peter                  2\n",
        "2 Thessalonians          2\n",
        "Acts of the Apostles    11\n",
        "Colossians               7\n",
        "Ephesians               13\n",
        "Galatians                1\n",
        "Luke                     8\n",
        "Mark                     1\n",
        "Matthew                  4\n",
        "Philemon                 2\n",
        "Philippians              9\n",
        "Revelation               4\n",
        "Romans                  14\n",
        "dtype: int64 \r\n",
        "\n",
        "Isopsephy value of the phrase:"
       ]
      },
      {
       "output_type": "stream",
       "stream": "stdout",
       "text": [
        " \u03ba\u03c5\u03c1\u03b9\u03c9\u03bd is 1380 and it is found 3 times in this form from the corpus\n",
        "--------------------------\r\n",
        "orig_book_index\n",
        "Matthew            1\n",
        "Revelation         2\n",
        "dtype: int64 \r\n",
        "\n"
       ]
      }
     ],
     "prompt_number": 16
    },
    {
     "cell_type": "code",
     "collapsed": false,
     "input": [
      "from IPython.core.display import HTML\n",
      "with open('isopsephy.css') as f:\n",
      "    css = f.read()\n",
      "HTML('<style>%s</style>' % css)"
     ],
     "language": "python",
     "metadata": {},
     "outputs": [
      {
       "html": [
        "<style>/* notebook unstylings */\n",
        "\n",
        ".rendered_html table,\n",
        ".rendered_html tr,\n",
        ".rendered_html th,\n",
        ".rendered_html td {\n",
        "    border: 0\n",
        "}\n",
        "\n",
        "/* general table styles */\n",
        "\n",
        "table {\n",
        "    color: black;\n",
        "    border: 0;\n",
        "    margin: 1.5em auto;\n",
        "    border-bottom: 1px solid #999;\n",
        "    border-collapse: collapse;\n",
        "    -webkit-border-top-left-radius: 8px;\n",
        "    -webkit-border-top-right-radius: 8px;\n",
        "    -moz-border-radius: 8px 8px 0 0;\n",
        "    border-radius: 8px 8px 0 0;\n",
        "    background: #444;\n",
        "}\n",
        "table caption {\n",
        "    margin-bottom: .75em;\n",
        "    text-align: center;\n",
        "    font-style: italic;\n",
        "}\n",
        "table td {\n",
        "    -moz-transition: background 0.2s linear;\n",
        "    -o-transition: background 0.2s linear;\n",
        "    transition: background 0.2s linear;\n",
        "    white-space: nowrap;\n",
        "    border-top: 1px solid #eee;\n",
        "    border-left: 1px solid #eee;\n",
        "    padding: 0.4em 0.8em;\n",
        "    background: #fff;\n",
        "}\n",
        "table tfoot,\n",
        "table tbody {\n",
        "    outline-offset: -1px;\n",
        "    outline: 1px solid #ccc;\n",
        "}\n",
        "\n",
        "table thead {}\n",
        "table thead th {\n",
        "    border: none;\n",
        "    border-bottom: 2px solid #eee;\n",
        "    background: transparent;\n",
        "    color: #fff;\n",
        "    text-align: center;\n",
        "    cursor: pointer;\n",
        "    padding: 0.4em 0.8em;\n",
        "}\n",
        "\n",
        "table tbody {}\n",
        "table tbody tr:hover td {\n",
        "    background: #ffe;\n",
        "    color: black;\n",
        "}\n",
        "table tbody tr td:hover {\n",
        "    background: #f5f6d2;\n",
        "}\n",
        "table tbody tr td:last-child {\n",
        "    text-align: center\n",
        "}\n",
        "\n",
        "table tbody tr th {\n",
        "    color: white;\n",
        "    padding: 0.4em 0.8em;\n",
        "    text-transform: uppercase\n",
        "}\n",
        "\n",
        "\n",
        "table tfoot {}\n",
        "table tfoot td {\n",
        "    padding: 0.4em 0.8em;\n",
        "    text-align: center;\n",
        "    font-style: italic;\n",
        "}\n",
        "\n",
        "table .right {\n",
        "    text-align: right\n",
        "}\n",
        "\n",
        "table tr.ok td {background-color: white;}\n",
        "table tr.fail td {background-color: red; color: white}\n",
        "table tr.error td {background-color: lightpink}\n",
        "table tbody.failures {}\n",
        "table tbody.errors {}\n",
        "\n",
        "table tbody tr th:first-child {background-color: #777; padding: 0 10px}\n",
        "\n",
        "/* custom table styles */\n",
        "\n",
        "table.char-table thead tr th, \n",
        "table.char-table tbody tr td, \n",
        "table.char-table tfoot tr td {text-align: center;}\n",
        "table.char-table tbody tr td.empty-cell {border-left: 1px solid #aaa}</style>"
       ],
       "metadata": {},
       "output_type": "pyout",
       "prompt_number": 17,
       "text": [
        "<IPython.core.display.HTML at 0xcecacf8>"
       ]
      }
     ],
     "prompt_number": 17
    },
    {
     "cell_type": "markdown",
     "metadata": {},
     "source": [
      "## The [MIT](http://choosealicense.com/licenses/mit/) License\n",
      "\n",
      "Copyright (c) 2014 Marko Manninen"
     ]
    }
   ],
   "metadata": {}
  }
 ]
}